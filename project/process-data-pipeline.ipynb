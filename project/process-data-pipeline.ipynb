{
 "cells": [
  {
   "cell_type": "code",
   "execution_count": 1,
   "id": "7bd1d7a4",
   "metadata": {},
   "outputs": [],
   "source": [
    "import pandas as pd\n",
    "import numpy as np\n",
    "from scipy.stats import ttest_ind, kruskal, f_oneway\n",
    "import matplotlib.pyplot as plt\n",
    "import statsmodels.api as sm\n",
    "from statsmodels.formula.api import ols\n",
    "from sklearn.ensemble import RandomForestRegressor\n",
    "import sys,os"
   ]
  },
  {
   "cell_type": "code",
   "execution_count": 2,
   "id": "1963b9b2",
   "metadata": {},
   "outputs": [],
   "source": [
    "'''\n",
    "Data location: 'https://www.fhfa.gov/DataTools/Downloads/Pages/Public-Use-Databases.aspx'\n",
    "'''\n",
    "data_path = '../data/'"
   ]
  },
  {
   "cell_type": "code",
   "execution_count": 3,
   "id": "6e9afa0c",
   "metadata": {},
   "outputs": [],
   "source": [
    "fm = pd.read_pickle('../data/fm_2020_all.gz')"
   ]
  },
  {
   "cell_type": "markdown",
   "id": "763c865e",
   "metadata": {},
   "source": [
    "## Manually label columns"
   ]
  },
  {
   "cell_type": "code",
   "execution_count": 4,
   "id": "74cbcfe1",
   "metadata": {},
   "outputs": [],
   "source": [
    "idx_cols = {\n",
    "    1: 'e_flag',\n",
    "    2: 'id',\n",
    "}"
   ]
  },
  {
   "cell_type": "code",
   "execution_count": 5,
   "id": "41ceefe4",
   "metadata": {},
   "outputs": [],
   "source": [
    "geo_cols = {\n",
    "    3 : 'state_code',\n",
    "    4 : 'msa_code',\n",
    "    5 : 'cn_code', # county\n",
    "    6 : 'ct_code', # cesnsus tract \n",
    "    58: 'rural_ct', # bool\n",
    "    59: 'lower_miss_delta_ct', # bool\n",
    "    60: 'middle_app_cn', # bool\n",
    "    61: 'persistent_poverty_cn', #bool\n",
    "    62: 'conc_pov_area', # bool\n",
    "    63: 'high_opp_area', # bool\n",
    "    64: 'qoz_ct', # bool\n",
    "}"
   ]
  },
  {
   "cell_type": "code",
   "execution_count": 6,
   "id": "810a13ea",
   "metadata": {},
   "outputs": [],
   "source": [
    "race_cols = {\n",
    "    7 : 'ct_pct_minority', # float\n",
    "    19: 'b_race_1st_val',\n",
    "    20: 'b_race_2nd_val',\n",
    "    21: 'b_race_3rd_val',\n",
    "    22: 'b_race_4th_val',\n",
    "    23: 'b_race_5th_val',\n",
    "    24: 'b_ethnicity',\n",
    "    25: 'cb_race_1st_val',\n",
    "    26: 'cb_race_2nd_val',\n",
    "    27: 'cb_race_3rd_val',\n",
    "    28: 'cb_race_4th_val',\n",
    "    29: 'cb_race_5th_val',\n",
    "    30: 'cb_ethnicity',\n",
    "}"
   ]
  },
  {
   "cell_type": "code",
   "execution_count": 7,
   "id": "efea9d80",
   "metadata": {},
   "outputs": [],
   "source": [
    "age_gender_cols = {\n",
    "    31: 'b_gender',\n",
    "    32: 'cb_gender',\n",
    "    33: 'b_age_gr', # ord\n",
    "    34: 'cb_age_gr', \n",
    "    40: 'b_gt_62', # bool\n",
    "    41: 'cb_gt_62',\n",
    "    42: 'ltv_at_orig' # float\n",
    "} "
   ]
  },
  {
   "cell_type": "code",
   "execution_count": 8,
   "id": "6c436967",
   "metadata": {},
   "outputs": [],
   "source": [
    "income_cols = {\n",
    "    8 : 'ct_med_income', # int\n",
    "    9 : 'msa_med_income', # int\n",
    "    10: 'ct_med_inc/msa_med_inc', # X\n",
    "    11: 'b_income', # int\n",
    "    12: 'msa_med_income_2', # X\n",
    "    13: 'b_income_ratio', # float\n",
    "    14: 'acquired_unpaid_balance_gr', # int\n",
    "}"
   ]
  },
  {
   "cell_type": "code",
   "execution_count": 9,
   "id": "3b6aa191",
   "metadata": {},
   "outputs": [],
   "source": [
    "loan_cols = {\n",
    "    15: 'loan_purpose', # cat\n",
    "    16: 'fed_guar', # cat\n",
    "    17: 'n_borrowers', # ord\n",
    "    18: 'ft_home_buyer', # bool,\n",
    "    35: 'occ_code', # cat\n",
    "    36: 'rate_spread', # num\n",
    "    37: 'hoepa_status', # cat\n",
    "    38: 'property_type', # cat \n",
    "    39: 'lien_status', # X\n",
    "    43: 'mortgage_note_origin', # cat\n",
    "    44: 'mortgage_term_mo', # num\n",
    "    45: 'n_units', # ord\n",
    "    46: 'ir_orig', # label column, binarize\n",
    "    47: 'note_amt_gr', # num\n",
    "    48: 'preapproval', # cat\n",
    "    49: 'app_chan', # cat\n",
    "    50: 'aus_name', # cat\n",
    "    51: 'b_cs_model', # cat\n",
    "    52: 'cb_cs_model', # X\n",
    "    53: 'debt_to_income_ratio_gr', # ord\n",
    "    54: 'discount_pts', # num\n",
    "    55: 'intro_rate_period', # X\n",
    "    56: 'land_ownership', # cat\n",
    "    57: 'property_value_gr', # num\n",
    "}"
   ]
  },
  {
   "cell_type": "code",
   "execution_count": 10,
   "id": "10436664",
   "metadata": {},
   "outputs": [],
   "source": [
    "all_cols = {**idx_cols, **geo_cols, **age_gender_cols, **race_cols, **income_cols, **loan_cols}"
   ]
  },
  {
   "cell_type": "code",
   "execution_count": 11,
   "id": "0c0f1249",
   "metadata": {},
   "outputs": [],
   "source": [
    "ordinal_cols = [\n",
    "    'b_age_gr',\n",
    "    'n_borrowers',\n",
    "    'n_units',\n",
    "    'debt_to_income_ratio_gr',\n",
    "]"
   ]
  },
  {
   "cell_type": "code",
   "execution_count": 12,
   "id": "f1874f28",
   "metadata": {},
   "outputs": [],
   "source": [
    "cat_cols = [\n",
    "    'loan_purpose',\n",
    "    'fed_guar',\n",
    "    'occ_code',\n",
    "    'hoepa_status',\n",
    "    'property_type',\n",
    "    'mortgage_note_origin',\n",
    "    'preapproval',\n",
    "    'aus_name',\n",
    "    'b_cs_model',\n",
    "    'land_ownership',\n",
    "    'app_chan'\n",
    "]"
   ]
  },
  {
   "cell_type": "code",
   "execution_count": 13,
   "id": "c6bdf647",
   "metadata": {},
   "outputs": [],
   "source": [
    "cont_cols = [\n",
    "    'ct_pct_minority',\n",
    "    'ct_med_income',\n",
    "    'msa_med_income',\n",
    "    'b_income',\n",
    "    'b_income_ratio',\n",
    "    'acquired_unpaid_balance_gr',\n",
    "    'rate_spread',\n",
    "    'mortgage_term_mo',\n",
    "    'note_amt_gr', \n",
    "    'discount_pts',\n",
    "    'property_value_gr',\n",
    "    'ltv_at_orig'\n",
    "]"
   ]
  },
  {
   "cell_type": "markdown",
   "id": "39b9be58",
   "metadata": {},
   "source": [
    "### Race"
   ]
  },
  {
   "cell_type": "code",
   "execution_count": 14,
   "id": "f918d7ab",
   "metadata": {},
   "outputs": [
    {
     "name": "stdout",
     "output_type": "stream",
     "text": [
      "19 [1 2 3 4 5 6 7 9] b_race_1st_val \n",
      " 20 [1 2 3 4 9] b_race_2nd_val \n",
      " 21 [1 2 3 9] b_race_3rd_val \n",
      " 22 [1 2 9] b_race_4th_val \n",
      " 23 [1 9] b_race_5th_val \n",
      "\n"
     ]
    }
   ],
   "source": [
    "print(\n",
    "    19, np.unique(fm.loc[:,19]),race_cols[19], '\\n',\n",
    "    20, np.unique(fm.loc[:,20]),race_cols[20], '\\n',\n",
    "    21, np.unique(fm.loc[:,21]),race_cols[21], '\\n',\n",
    "    22, np.unique(fm.loc[:,22]),race_cols[22], '\\n',\n",
    "    23, np.unique(fm.loc[:,23]),race_cols[23], '\\n',\n",
    ")"
   ]
  },
  {
   "cell_type": "code",
   "execution_count": 15,
   "id": "12a99adf",
   "metadata": {},
   "outputs": [],
   "source": [
    "r_white_non_hisp = ((fm[19]==5) & (fm[24]==2)).astype(int)"
   ]
  },
  {
   "cell_type": "code",
   "execution_count": 16,
   "id": "20ae356e",
   "metadata": {},
   "outputs": [],
   "source": [
    "r_black = ((fm[19]==3) | (fm[20]==3) | (fm[21]==3)).astype(int)"
   ]
  },
  {
   "cell_type": "markdown",
   "id": "7bd7d597",
   "metadata": {},
   "source": [
    "### Gender"
   ]
  },
  {
   "cell_type": "code",
   "execution_count": 17,
   "id": "dbbd4b92",
   "metadata": {},
   "outputs": [],
   "source": [
    "gender_m = (fm[31]==1).astype(int)"
   ]
  },
  {
   "cell_type": "code",
   "execution_count": 18,
   "id": "64ecda7d",
   "metadata": {},
   "outputs": [],
   "source": [
    "gender_f = (fm[31]==2).astype(int)"
   ]
  },
  {
   "cell_type": "markdown",
   "id": "dfbd9a97",
   "metadata": {},
   "source": [
    "### Apply"
   ]
  },
  {
   "cell_type": "code",
   "execution_count": 19,
   "id": "74c6c355",
   "metadata": {},
   "outputs": [],
   "source": [
    "new_cols = set(fm.columns) - set(list(range(1,7)) + list(range(19,31)) + [55,12,31,39,40,10])\n",
    "verbose_cols = [all_cols[c] for c in new_cols]\n",
    "fm_new = fm.loc[:,new_cols]\n",
    "fm_new.columns = verbose_cols\n",
    "## remove co-borrower info\n",
    "fm_new = fm_new.loc[:,[v for v in verbose_cols if 'cb' not in v]]"
   ]
  },
  {
   "cell_type": "code",
   "execution_count": 20,
   "id": "4267788d",
   "metadata": {},
   "outputs": [],
   "source": [
    "fm_new['r_white_non_hisp'] = r_white_non_hisp\n",
    "fm_new['r_black'] = r_black\n",
    "fm_new['gender_m'] = gender_m\n",
    "fm_new['gender_f'] = gender_f"
   ]
  },
  {
   "cell_type": "code",
   "execution_count": 21,
   "id": "eda93af0",
   "metadata": {},
   "outputs": [],
   "source": [
    "fm_new_cut = fm_new.loc[((fm_new['r_white_non_hisp'] ==1) | (fm_new['r_black'] ==1))\n",
    "           & ((fm_new['gender_m']==1)| (fm_new['gender_f']==1)),:]"
   ]
  },
  {
   "cell_type": "code",
   "execution_count": 23,
   "id": "8f4e15e2",
   "metadata": {},
   "outputs": [],
   "source": [
    "# fm_new_cut = fm_new_cut.apply(lambda r: )"
   ]
  },
  {
   "cell_type": "code",
   "execution_count": 24,
   "id": "9c50a2e6",
   "metadata": {},
   "outputs": [
    {
     "data": {
      "text/plain": [
       "0.6689997002649856"
      ]
     },
     "execution_count": 24,
     "metadata": {},
     "output_type": "execute_result"
    }
   ],
   "source": [
    "len(fm_new_cut)/len(fm_new)"
   ]
  },
  {
   "cell_type": "code",
   "execution_count": 54,
   "id": "b9ca6807",
   "metadata": {},
   "outputs": [
    {
     "data": {
      "text/plain": [
       "0.9521132247444342"
      ]
     },
     "execution_count": 54,
     "metadata": {},
     "output_type": "execute_result"
    }
   ],
   "source": [
    "fm_new_cut['r_white_non_hisp'].sum()/len(fm_new_cut)"
   ]
  },
  {
   "cell_type": "code",
   "execution_count": 55,
   "id": "a49c3309",
   "metadata": {},
   "outputs": [
    {
     "data": {
      "text/plain": [
       "0.04941704728580577"
      ]
     },
     "execution_count": 55,
     "metadata": {},
     "output_type": "execute_result"
    }
   ],
   "source": [
    "fm_new_cut['r_black'].sum()/len(fm_new_cut)"
   ]
  },
  {
   "cell_type": "code",
   "execution_count": 56,
   "id": "f1d91182",
   "metadata": {},
   "outputs": [
    {
     "data": {
      "text/plain": [
       "0.6664785495741363"
      ]
     },
     "execution_count": 56,
     "metadata": {},
     "output_type": "execute_result"
    }
   ],
   "source": [
    "fm_new_cut['gender_m'].sum()/len(fm_new_cut)"
   ]
  },
  {
   "cell_type": "code",
   "execution_count": 57,
   "id": "417f9593",
   "metadata": {},
   "outputs": [
    {
     "data": {
      "text/plain": [
       "0.3335214504258637"
      ]
     },
     "execution_count": 57,
     "metadata": {},
     "output_type": "execute_result"
    }
   ],
   "source": [
    "fm_new_cut['gender_f'].sum()/len(fm_new_cut)"
   ]
  },
  {
   "cell_type": "code",
   "execution_count": 25,
   "id": "20be0f9c",
   "metadata": {},
   "outputs": [
    {
     "data": {
      "text/plain": [
       "40"
      ]
     },
     "execution_count": 25,
     "metadata": {},
     "output_type": "execute_result"
    }
   ],
   "source": [
    "len(fm_new.columns)"
   ]
  },
  {
   "cell_type": "code",
   "execution_count": 26,
   "id": "75bc4c80",
   "metadata": {},
   "outputs": [],
   "source": [
    "from sklearn.preprocessing import LabelBinarizer, StandardScaler, OneHotEncoder, OrdinalEncoder, MinMaxScaler\n",
    "from sklearn.compose import make_column_selector, make_column_transformer, ColumnTransformer\n",
    "from sklearn.pipeline import Pipeline"
   ]
  },
  {
   "cell_type": "code",
   "execution_count": 27,
   "id": "503b9642",
   "metadata": {},
   "outputs": [],
   "source": [
    "oh = OneHotEncoder(handle_unknown='ignore')\n",
    "oc = OrdinalEncoder(handle_unknown='ignore')\n",
    "mm = MinMaxScaler()"
   ]
  },
  {
   "cell_type": "code",
   "execution_count": 28,
   "id": "ed94bf28",
   "metadata": {},
   "outputs": [],
   "source": [
    "ct = ColumnTransformer(\n",
    "    [('oh',oh, cat_cols),\n",
    "    ('oc',oc,  ordinal_cols),\n",
    "    ('mm',mm, cont_cols)],remainder='passthrough')"
   ]
  },
  {
   "cell_type": "code",
   "execution_count": 29,
   "id": "77e95b3a",
   "metadata": {},
   "outputs": [],
   "source": [
    "X = fm_new_cut\n",
    "X_ct = ct.fit_transform(X)"
   ]
  },
  {
   "cell_type": "code",
   "execution_count": 30,
   "id": "d8fcec83",
   "metadata": {},
   "outputs": [
    {
     "data": {
      "text/plain": [
       "(3249749, 63)"
      ]
     },
     "execution_count": 30,
     "metadata": {},
     "output_type": "execute_result"
    }
   ],
   "source": [
    "X_ct.shape"
   ]
  },
  {
   "cell_type": "code",
   "execution_count": 31,
   "id": "6944a5fb",
   "metadata": {},
   "outputs": [],
   "source": [
    "oh_cols = oh.fit(X[cat_cols]).get_feature_names(cat_cols)\n",
    "ct_cols = list(oh_cols) + ordinal_cols + cont_cols + \\\n",
    "    list(X.drop(cat_cols + ordinal_cols + cont_cols,axis=1).columns) "
   ]
  },
  {
   "cell_type": "code",
   "execution_count": 32,
   "id": "6b1f85ff",
   "metadata": {},
   "outputs": [
    {
     "data": {
      "text/plain": [
       "(11, 34)"
      ]
     },
     "execution_count": 32,
     "metadata": {},
     "output_type": "execute_result"
    }
   ],
   "source": [
    "len(cat_cols), len(oh_cols)"
   ]
  },
  {
   "cell_type": "code",
   "execution_count": 33,
   "id": "b662481b",
   "metadata": {},
   "outputs": [
    {
     "data": {
      "text/plain": [
       "['ft_home_buyer',\n",
       " 'ir_orig',\n",
       " 'rural_ct',\n",
       " 'lower_miss_delta_ct',\n",
       " 'middle_app_cn',\n",
       " 'persistent_poverty_cn',\n",
       " 'conc_pov_area',\n",
       " 'high_opp_area',\n",
       " 'qoz_ct',\n",
       " 'r_white_non_hisp',\n",
       " 'r_black',\n",
       " 'gender_m',\n",
       " 'gender_f']"
      ]
     },
     "execution_count": 33,
     "metadata": {},
     "output_type": "execute_result"
    }
   ],
   "source": [
    "list(X.drop(cat_cols + ordinal_cols + cont_cols,axis=1).columns) "
   ]
  },
  {
   "cell_type": "code",
   "execution_count": 34,
   "id": "c62dea89",
   "metadata": {},
   "outputs": [
    {
     "data": {
      "text/plain": [
       "63"
      ]
     },
     "execution_count": 34,
     "metadata": {},
     "output_type": "execute_result"
    }
   ],
   "source": [
    "len(ct_cols)"
   ]
  },
  {
   "cell_type": "code",
   "execution_count": 36,
   "id": "d4318885",
   "metadata": {},
   "outputs": [],
   "source": [
    "X_ct_f = pd.DataFrame(data=X_ct,columns=ct_cols)"
   ]
  },
  {
   "cell_type": "code",
   "execution_count": 37,
   "id": "7bf3ac36",
   "metadata": {},
   "outputs": [],
   "source": [
    "X_ct_f['ft_home_buyer'] = X_ct_f['ft_home_buyer'].apply(lambda r: 1 if r==1 else 0)"
   ]
  },
  {
   "cell_type": "code",
   "execution_count": 38,
   "id": "b25ce661",
   "metadata": {},
   "outputs": [],
   "source": [
    "X_ct_f = X_ct_f.drop(['r_black','gender_f'],axis=1)"
   ]
  },
  {
   "cell_type": "code",
   "execution_count": 39,
   "id": "eef98e39",
   "metadata": {},
   "outputs": [
    {
     "data": {
      "text/plain": [
       "(3249749, 61)"
      ]
     },
     "execution_count": 39,
     "metadata": {},
     "output_type": "execute_result"
    }
   ],
   "source": [
    "X_ct_f.shape"
   ]
  },
  {
   "cell_type": "markdown",
   "id": "4b88989c",
   "metadata": {},
   "source": [
    "### Interest rate division threshold\n",
    " - divide equally based on interest rate"
   ]
  },
  {
   "cell_type": "code",
   "execution_count": 43,
   "id": "2d074fa1",
   "metadata": {},
   "outputs": [
    {
     "data": {
      "text/plain": [
       "(3.12, 3.210376302883245)"
      ]
     },
     "execution_count": 43,
     "metadata": {},
     "output_type": "execute_result"
    }
   ],
   "source": [
    "X_ct_f.loc[:,'ir_orig'].median(), X_ct_f.loc[:,'ir_orig'].mean()"
   ]
  },
  {
   "cell_type": "code",
   "execution_count": 44,
   "id": "077b3c3e",
   "metadata": {},
   "outputs": [],
   "source": [
    "y_ct = pd.cut(X_ct_f.loc[:,'ir_orig'],bins=[0,3.12,7],labels=[0,1])"
   ]
  },
  {
   "cell_type": "markdown",
   "id": "639a54ce",
   "metadata": {},
   "source": [
    "### Test train split"
   ]
  },
  {
   "cell_type": "code",
   "execution_count": 45,
   "id": "fa048a1c",
   "metadata": {},
   "outputs": [],
   "source": [
    "from sklearn.model_selection import train_test_split"
   ]
  },
  {
   "cell_type": "code",
   "execution_count": 46,
   "id": "ecaea89a",
   "metadata": {},
   "outputs": [],
   "source": [
    "X_ct_f = X_ct_f.drop('ir_orig',axis=1)"
   ]
  },
  {
   "cell_type": "code",
   "execution_count": 51,
   "id": "eae14294",
   "metadata": {},
   "outputs": [],
   "source": [
    "X_train, X_test, y_train, y_test = train_test_split(\n",
    "    X_ct_f, y_ct, test_size=0.2, random_state=23)"
   ]
  },
  {
   "cell_type": "code",
   "execution_count": 52,
   "id": "7dbb1d59",
   "metadata": {},
   "outputs": [
    {
     "data": {
      "text/plain": [
       "((2599799, 60), (2599799,))"
      ]
     },
     "execution_count": 52,
     "metadata": {},
     "output_type": "execute_result"
    }
   ],
   "source": [
    "X_train.shape, y_train.shape"
   ]
  },
  {
   "cell_type": "code",
   "execution_count": 58,
   "id": "5bda179d",
   "metadata": {},
   "outputs": [],
   "source": [
    "save_data_loc = './data/fm2020/'"
   ]
  },
  {
   "cell_type": "code",
   "execution_count": 59,
   "id": "06c33290",
   "metadata": {},
   "outputs": [],
   "source": [
    "X_train.to_pickle(save_data_loc+'X_train.gz')"
   ]
  },
  {
   "cell_type": "code",
   "execution_count": 60,
   "id": "0eb2069b",
   "metadata": {},
   "outputs": [],
   "source": [
    "y_train.to_pickle(save_data_loc+'y_train.gz')"
   ]
  },
  {
   "cell_type": "code",
   "execution_count": 61,
   "id": "97e11b63",
   "metadata": {},
   "outputs": [],
   "source": [
    "X_test.to_pickle(save_data_loc+'X_test.gz')"
   ]
  },
  {
   "cell_type": "code",
   "execution_count": 62,
   "id": "62340048",
   "metadata": {},
   "outputs": [],
   "source": [
    "y_test.to_pickle(save_data_loc+'y_test.gz')"
   ]
  }
 ],
 "metadata": {
  "kernelspec": {
   "display_name": "Python 3",
   "language": "python",
   "name": "python3"
  },
  "language_info": {
   "codemirror_mode": {
    "name": "ipython",
    "version": 3
   },
   "file_extension": ".py",
   "mimetype": "text/x-python",
   "name": "python",
   "nbconvert_exporter": "python",
   "pygments_lexer": "ipython3",
   "version": "3.8.8"
  }
 },
 "nbformat": 4,
 "nbformat_minor": 5
}
