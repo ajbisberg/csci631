{
 "cells": [
  {
   "cell_type": "code",
   "execution_count": 14,
   "id": "7bd1d7a4",
   "metadata": {},
   "outputs": [],
   "source": [
    "import pandas as pd\n",
    "import numpy as np\n",
    "from scipy.stats import ttest_ind, kruskal, f_oneway\n",
    "import matplotlib.pyplot as plt\n",
    "import statsmodels.api as sm\n",
    "from statsmodels.formula.api import ols\n",
    "from sklearn.ensemble import RandomForestRegressor\n",
    "import sys,os"
   ]
  },
  {
   "cell_type": "code",
   "execution_count": 16,
   "id": "1963b9b2",
   "metadata": {},
   "outputs": [],
   "source": [
    "'''\n",
    "Data location: 'https://www.fhfa.gov/DataTools/Downloads/Pages/Public-Use-Databases.aspx'\n",
    "'''\n",
    "data_path = '../data/'"
   ]
  },
  {
   "cell_type": "code",
   "execution_count": 4,
   "id": "fd1ef827",
   "metadata": {},
   "outputs": [],
   "source": [
    "###\n",
    "# Read dataset\n",
    "# Unfortunately there is arbitrary white space so pandas read_csv didnt work well, \n",
    "# maybe could use np.loadtxt\n",
    "# Starting out with 10% sample for quickness\n",
    "###\n",
    "def import_housing_data_as_list(data_path,sampling=False,window=[]):\n",
    "    out = []\n",
    "    f = open(data_path,'r')\n",
    "    if sampling:\n",
    "        for i,line in enumerate(f.readlines()):\n",
    "            if (i % 10) == 0:\n",
    "                out.append(line.split())\n",
    "    elif len(window) > 0:\n",
    "        for i,line in enumerate(f.readlines()):\n",
    "            if i >= window[0] and i <= window[1]:\n",
    "                out.append(line.split())\n",
    "            if i > window[1]:\n",
    "                break\n",
    "    else:\n",
    "        for line in f.readlines():\n",
    "            out.append(line.split())\n",
    "    f.close()\n",
    "    return np.array(out)"
   ]
  },
  {
   "cell_type": "code",
   "execution_count": 5,
   "id": "b7ea7478",
   "metadata": {},
   "outputs": [],
   "source": [
    "housing_list_segment = import_housing_data_as_list(data_path,sampling=False,window=[0,99])"
   ]
  },
  {
   "cell_type": "code",
   "execution_count": 6,
   "id": "0b752c39",
   "metadata": {},
   "outputs": [
    {
     "data": {
      "text/plain": [
       "(100, 64)"
      ]
     },
     "execution_count": 6,
     "metadata": {},
     "output_type": "execute_result"
    }
   ],
   "source": [
    "housing_list_segment.shape"
   ]
  },
  {
   "cell_type": "code",
   "execution_count": 12,
   "id": "4c78786f",
   "metadata": {},
   "outputs": [],
   "source": [
    "# h_df_raw.to_parquet('../data/fm_data_raw.parquet',engine='pyarrow')"
   ]
  },
  {
   "cell_type": "code",
   "execution_count": 15,
   "id": "70f46a4d",
   "metadata": {},
   "outputs": [],
   "source": [
    "# h_df = pd.read_parquet('../data/fm_data_raw.parquet',engine='pyarrow')"
   ]
  },
  {
   "cell_type": "code",
   "execution_count": 16,
   "id": "39c949d0",
   "metadata": {},
   "outputs": [
    {
     "data": {
      "text/plain": [
       "'There are 100 people in the full dataset'"
      ]
     },
     "execution_count": 16,
     "metadata": {},
     "output_type": "execute_result"
    }
   ],
   "source": [
    "'There are {:,} people in the full dataset'.format(len(housing_list_segment))"
   ]
  },
  {
   "cell_type": "code",
   "execution_count": 7,
   "id": "a35714fa",
   "metadata": {},
   "outputs": [
    {
     "data": {
      "text/plain": [
       "array([      0.,  500000., 1000000., 1500000., 2000000., 2500000.,\n",
       "       3000000., 3500000., 4000000., 4500000.])"
      ]
     },
     "execution_count": 7,
     "metadata": {},
     "output_type": "execute_result"
    }
   ],
   "source": [
    "np.arange(0,5e6,5e5)"
   ]
  },
  {
   "cell_type": "code",
   "execution_count": 8,
   "id": "f23febef",
   "metadata": {},
   "outputs": [
    {
     "name": "stdout",
     "output_type": "stream",
     "text": [
      "loading 0-500000...\n",
      "converting...\n",
      "saved 0-500000...\n"
     ]
    }
   ],
   "source": [
    "cols = list(range(1,65))\n",
    "float_cols = [7,10,13,36,42,46,53]\n",
    "int_cols = list(set(cols) - set(float_cols))\n",
    "for idx in [0]:\n",
    "    wdw = [int(idx),int(idx+5e5)]\n",
    "    print('loading {}-{}...'.format(wdw[0],wdw[1]))\n",
    "    housing_list_segment = import_housing_data_as_list(data_path,sampling=False,window=wdw)\n",
    "    float_data = []\n",
    "    int_data = []\n",
    "    print('converting...')\n",
    "    for c in np.subtract(float_cols,1):\n",
    "        float_data.append(housing_list_segment[:,c].astype('float64'))\n",
    "    for c in np.subtract(int_cols,1):\n",
    "        int_data.append(housing_list_segment[:,c].astype('float64').astype('int32'))\n",
    "    h_df = pd.concat([\n",
    "        pd.DataFrame(columns=int_cols,data=np.array(int_data).T),\n",
    "        pd.DataFrame(columns=float_cols,data=np.array(float_data).T)],axis=1)\n",
    "    h_df.to_pickle('../data/fm_{}-{}.gz'.format(wdw[0],wdw[1]),compression='gzip')\n",
    "    print('saved {}-{}...'.format(wdw[0],wdw[1]))"
   ]
  },
  {
   "cell_type": "code",
   "execution_count": 9,
   "id": "7763d81b",
   "metadata": {},
   "outputs": [],
   "source": [
    "hf = pd.read_pickle('../data/fm_0-500000.gz')"
   ]
  },
  {
   "cell_type": "code",
   "execution_count": 11,
   "id": "cd1155f5",
   "metadata": {
    "scrolled": true
   },
   "outputs": [
    {
     "data": {
      "text/plain": [
       "135.42216110229492"
      ]
     },
     "execution_count": 11,
     "metadata": {},
     "output_type": "execute_result"
    }
   ],
   "source": [
    "sys.getsizeof(hf)/1024**2"
   ]
  },
  {
   "cell_type": "code",
   "execution_count": 55,
   "id": "c677f1f0",
   "metadata": {
    "scrolled": true
   },
   "outputs": [
    {
     "name": "stdout",
     "output_type": "stream",
     "text": [
      "(500000, 64)\n",
      "(1000000, 64)\n",
      "(1500000, 64)\n",
      "(2000000, 64)\n",
      "(2500000, 64)\n",
      "(3000000, 64)\n",
      "(3500000, 64)\n",
      "(4000000, 64)\n",
      "(4357624, 64)\n",
      "(4857624, 64)\n"
     ]
    }
   ],
   "source": [
    "hf = pd.DataFrame()\n",
    "for i,f in enumerate([f for f in os.listdir(data_path) if '.gz' in f]):\n",
    "    hf_tmp = pd.read_pickle(data_path+f)\n",
    "    hf = hf.append(hf_tmp.iloc[:-1,:])\n",
    "    print(hf.shape)"
   ]
  },
  {
   "cell_type": "code",
   "execution_count": 58,
   "id": "52330c45",
   "metadata": {},
   "outputs": [],
   "source": [
    "hf.to_pickle('../data/fm_2020_all.gz',compression='gzip')"
   ]
  },
  {
   "cell_type": "code",
   "execution_count": 59,
   "id": "6e9afa0c",
   "metadata": {},
   "outputs": [],
   "source": [
    "hf = pd.read_pickle('../data/fm_2020_all.gz')"
   ]
  },
  {
   "cell_type": "markdown",
   "id": "763c865e",
   "metadata": {},
   "source": [
    "## Manually label columns"
   ]
  },
  {
   "cell_type": "code",
   "execution_count": 5,
   "id": "74cbcfe1",
   "metadata": {},
   "outputs": [],
   "source": [
    "idx_cols = {\n",
    "    1: 'e_flag',\n",
    "    2: 'id',\n",
    "}"
   ]
  },
  {
   "cell_type": "code",
   "execution_count": 6,
   "id": "41ceefe4",
   "metadata": {},
   "outputs": [],
   "source": [
    "geo_cols = {\n",
    "    3 : 'state_code',\n",
    "    4 : 'msa_code',\n",
    "    5 : 'cn_code', # county\n",
    "    6 : 'ct_code', # cesnsus tract \n",
    "    58: 'rural_ct', # bool\n",
    "    59: 'lower_miss_delta_ct', # bool\n",
    "    60: 'middle_app_cn', # bool\n",
    "    61: 'persistent_poverty_cn', #bool\n",
    "    62: 'conc_pov_area', # bool\n",
    "    63: 'high_opp_area', # bool\n",
    "    64: 'qoz_ct', # bool\n",
    "}"
   ]
  },
  {
   "cell_type": "code",
   "execution_count": 7,
   "id": "810a13ea",
   "metadata": {},
   "outputs": [],
   "source": [
    "race_cols = {\n",
    "    7 : 'ct_pct_minority',\n",
    "    19: 'b_race_am_ind_ak',\n",
    "    20: 'b_race_asian',\n",
    "    21: 'b_race_black',\n",
    "    22: 'b_race_hispanic',\n",
    "    23: 'b_race_white',\n",
    "    24: 'b_ethnicity',\n",
    "    25: 'cb_race_am_ind_ak',\n",
    "    26: 'cb_race_asian',\n",
    "    27: 'cb_race_black',\n",
    "    28: 'cb_race_hispanic',\n",
    "    29: 'cb_race_white',\n",
    "    30: 'cb_ethnicity',\n",
    "}"
   ]
  },
  {
   "cell_type": "code",
   "execution_count": 8,
   "id": "efea9d80",
   "metadata": {},
   "outputs": [],
   "source": [
    "age_gender_cols = {\n",
    "    31: 'b_gender',\n",
    "    32: 'cb_gender',\n",
    "    33: 'b_age_gr', # ord\n",
    "    34: 'cb_age_gr', # ord\n",
    "    40: 'b_gt_62',\n",
    "    41: 'cb_gt_62',\n",
    "    42: 'ltv_at_orig' # float\n",
    "} "
   ]
  },
  {
   "cell_type": "code",
   "execution_count": 9,
   "id": "6c436967",
   "metadata": {},
   "outputs": [],
   "source": [
    "income_cols = {\n",
    "    8 : 'ct_med_income',\n",
    "    9 : 'msa_med_income',\n",
    "    10: 'ct_med_inc/msa_med_inc',\n",
    "    11: 'b_income',\n",
    "    12: 'msa_med_income_2',\n",
    "    13: 'b_income_ratio',\n",
    "    14: 'acquired_unpaid_balance_gr',\n",
    "}"
   ]
  },
  {
   "cell_type": "code",
   "execution_count": 11,
   "id": "3b6aa191",
   "metadata": {},
   "outputs": [],
   "source": [
    "loan_cols = {\n",
    "    15: 'loan_purpose', # cat\n",
    "    16: 'fed_guar', # cat\n",
    "    17: 'n_borrowers',\n",
    "    18: 'ft_home_buyer', # bool,\n",
    "    35: 'occ_code', # cat\n",
    "    36: 'rate_spread', # float\n",
    "    37: 'hoepa_status',\n",
    "    38: 'property_type',\n",
    "    39: 'lien_status',\n",
    "    43: 'mortgage_note_origin', # cat\n",
    "    44: 'mortgage_term_mo', # ord\n",
    "    45: 'n_units', # ord\n",
    "    46: 'ir_orig', # 99 is missing, label column\n",
    "    47: 'note_amt_gr', \n",
    "    48: 'preapproval', # cat\n",
    "    49: 'app_chan', # cat\n",
    "    50: 'aus_name', # cat\n",
    "    51: 'b_cs_model', # cat\n",
    "    52: 'cb_cs_model', # cat\n",
    "    53: 'dti_ratio_gr', # ord\n",
    "    54: 'discount_pts',\n",
    "    55: 'intr_rate_per_mo', # ord\n",
    "    56: 'land_ownership', # cat\n",
    "    57: 'property_value_gr',\n",
    "}"
   ]
  },
  {
   "cell_type": "markdown",
   "id": "82fb6959",
   "metadata": {},
   "source": [
    "### Perform binning"
   ]
  },
  {
   "cell_type": "code",
   "execution_count": 52,
   "id": "132ac434",
   "metadata": {},
   "outputs": [],
   "source": [
    "bins = np.arange(1.5,7.5,0.5)\n",
    "c = pd.cut(hf.loc[:,46],bins=bins,labels=False,include_lowest=True)"
   ]
  },
  {
   "cell_type": "code",
   "execution_count": 53,
   "id": "7278dd61",
   "metadata": {},
   "outputs": [],
   "source": [
    "hf['ir_bin'] = c.apply(lambda x: bins[x])"
   ]
  },
  {
   "cell_type": "code",
   "execution_count": 54,
   "id": "9f92468a",
   "metadata": {},
   "outputs": [
    {
     "data": {
      "text/html": [
       "<div>\n",
       "<style scoped>\n",
       "    .dataframe tbody tr th:only-of-type {\n",
       "        vertical-align: middle;\n",
       "    }\n",
       "\n",
       "    .dataframe tbody tr th {\n",
       "        vertical-align: top;\n",
       "    }\n",
       "\n",
       "    .dataframe thead th {\n",
       "        text-align: right;\n",
       "    }\n",
       "</style>\n",
       "<table border=\"1\" class=\"dataframe\">\n",
       "  <thead>\n",
       "    <tr style=\"text-align: right;\">\n",
       "      <th></th>\n",
       "      <th>ir_bin</th>\n",
       "      <th>46</th>\n",
       "    </tr>\n",
       "  </thead>\n",
       "  <tbody>\n",
       "    <tr>\n",
       "      <th>0</th>\n",
       "      <td>2.5</td>\n",
       "      <td>3.00</td>\n",
       "    </tr>\n",
       "    <tr>\n",
       "      <th>1</th>\n",
       "      <td>3.5</td>\n",
       "      <td>3.62</td>\n",
       "    </tr>\n",
       "    <tr>\n",
       "      <th>2</th>\n",
       "      <td>3.0</td>\n",
       "      <td>3.12</td>\n",
       "    </tr>\n",
       "    <tr>\n",
       "      <th>3</th>\n",
       "      <td>2.5</td>\n",
       "      <td>2.99</td>\n",
       "    </tr>\n",
       "    <tr>\n",
       "      <th>4</th>\n",
       "      <td>3.5</td>\n",
       "      <td>3.99</td>\n",
       "    </tr>\n",
       "    <tr>\n",
       "      <th>...</th>\n",
       "      <td>...</td>\n",
       "      <td>...</td>\n",
       "    </tr>\n",
       "    <tr>\n",
       "      <th>499995</th>\n",
       "      <td>3.5</td>\n",
       "      <td>3.75</td>\n",
       "    </tr>\n",
       "    <tr>\n",
       "      <th>499996</th>\n",
       "      <td>2.5</td>\n",
       "      <td>2.75</td>\n",
       "    </tr>\n",
       "    <tr>\n",
       "      <th>499997</th>\n",
       "      <td>2.0</td>\n",
       "      <td>2.37</td>\n",
       "    </tr>\n",
       "    <tr>\n",
       "      <th>499998</th>\n",
       "      <td>4.5</td>\n",
       "      <td>4.75</td>\n",
       "    </tr>\n",
       "    <tr>\n",
       "      <th>499999</th>\n",
       "      <td>3.0</td>\n",
       "      <td>3.25</td>\n",
       "    </tr>\n",
       "  </tbody>\n",
       "</table>\n",
       "<p>4857624 rows × 2 columns</p>\n",
       "</div>"
      ],
      "text/plain": [
       "        ir_bin    46\n",
       "0          2.5  3.00\n",
       "1          3.5  3.62\n",
       "2          3.0  3.12\n",
       "3          2.5  2.99\n",
       "4          3.5  3.99\n",
       "...        ...   ...\n",
       "499995     3.5  3.75\n",
       "499996     2.5  2.75\n",
       "499997     2.0  2.37\n",
       "499998     4.5  4.75\n",
       "499999     3.0  3.25\n",
       "\n",
       "[4857624 rows x 2 columns]"
      ]
     },
     "execution_count": 54,
     "metadata": {},
     "output_type": "execute_result"
    }
   ],
   "source": [
    "hf[['ir_bin',46]]"
   ]
  },
  {
   "cell_type": "code",
   "execution_count": null,
   "id": "6816294a",
   "metadata": {},
   "outputs": [],
   "source": [
    "hf.to_pickle('../data/fm_2020_all.gz')"
   ]
  }
 ],
 "metadata": {
  "kernelspec": {
   "display_name": "Python 3",
   "language": "python",
   "name": "python3"
  },
  "language_info": {
   "codemirror_mode": {
    "name": "ipython",
    "version": 3
   },
   "file_extension": ".py",
   "mimetype": "text/x-python",
   "name": "python",
   "nbconvert_exporter": "python",
   "pygments_lexer": "ipython3",
   "version": "3.8.8"
  }
 },
 "nbformat": 4,
 "nbformat_minor": 5
}
