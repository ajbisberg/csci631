{
 "cells": [
  {
   "cell_type": "code",
   "execution_count": 1,
   "id": "485902f5",
   "metadata": {},
   "outputs": [],
   "source": [
    "import diffprivlib as dp\n",
    "from sklearn.naive_bayes import GaussianNB\n",
    "from sklearn.linear_model import LogisticRegression\n",
    "from sklearn.ensemble import RandomForestClassifier\n",
    "import pandas as pd\n",
    "import sklearn.preprocessing as preprocessing\n",
    "import sklearn.metrics as metrics\n",
    "import matplotlib.pyplot as plt\n",
    "from sklego.metrics import p_percent_score #demographic parity\n",
    "from sklego.metrics import equal_opportunity_score #equal opportunity\n",
    "from sklearn.metrics import accuracy_score\n",
    "import numpy as np\n",
    "np.random.seed(31415)\n",
    "import warnings\n",
    "warnings.filterwarnings(\"ignore\")\n",
    "from tqdm import tqdm"
   ]
  },
  {
   "cell_type": "code",
   "execution_count": 2,
   "id": "79c33087",
   "metadata": {},
   "outputs": [],
   "source": [
    "def get_classifier(cls_str, diffpriv=True, bounds=None, epsilon=None, acc=None):\n",
    "    '''\n",
    "\n",
    "    :param cls_str: one of ['NB', 'LR', 'RF']\n",
    "    :param diffpriv:Whether dp classifier or regular classifier\n",
    "    :param bounds:  Bounds of the data, provided as a tuple of the form (min, max).\n",
    "                    min and max can either be scalars, covering the min/max of the\n",
    "                    entire data, or vectors with one entry per feature. If not\n",
    "                    provided, the bounds are computed on the data when .fit() is\n",
    "                    first called, resulting in a PrivacyLeakWarning\n",
    "    :param epsilon: Privacy parameter for the model. default: 1.0\n",
    "    :param acc:     Accountant to keep track of privacy budget\n",
    "    :return:        The classifier instantiated\n",
    "    '''\n",
    "\n",
    "    if(cls_str == 'NB' and diffpriv == True):\n",
    "        return dp.models.GaussianNB(epsilon=epsilon, bounds=bounds, accountant=acc)\n",
    "    \n",
    "    elif(cls_str == 'NB' and diffpriv == False):\n",
    "        return GaussianNB()\n",
    "    \n",
    "    elif(cls_str == 'LR' and diffpriv == True):\n",
    "        return dp.models.LogisticRegression(epsilon=epsilon, bounds=bounds, accountant=acc)\n",
    "    \n",
    "    elif(cls_str == 'LR' and diffpriv == False):\n",
    "        return LogisticRegression(random_state=0)\n",
    "    \n",
    "    elif(cls_str == 'RF' and diffpriv == True):\n",
    "        return dp.models.RandomForestClassifier(epsilon=epsilon, bounds=bounds, accountant=acc)\n",
    "    \n",
    "    elif(cls_str == 'RF' and diffpriv == False):\n",
    "        return RandomForestClassifier(random_state=0)\n",
    "    \n",
    "    else:\n",
    "        print(\"Incorrect Classifier - must be one of ['NB', 'LR', 'RF']\")\n",
    "        return"
   ]
  },
  {
   "cell_type": "markdown",
   "id": "0aea66de",
   "metadata": {},
   "source": [
    "# Load hosuing data"
   ]
  },
  {
   "cell_type": "code",
   "execution_count": 3,
   "id": "6cf981c9",
   "metadata": {},
   "outputs": [],
   "source": [
    "# save separate files for test training\n",
    "X_train = pd.read_pickle('../data/fm2020/X_train.gz')\n",
    "y_train = pd.read_pickle('../data/fm2020/y_train.gz')\n",
    "X_test = pd.read_pickle('../data/fm2020/X_test.gz')\n",
    "y_test = pd.read_pickle('../data/fm2020/y_test.gz')"
   ]
  },
  {
   "cell_type": "markdown",
   "id": "880b4613",
   "metadata": {},
   "source": [
    "### Example classifiers"
   ]
  },
  {
   "cell_type": "code",
   "execution_count": 4,
   "id": "8840e15a",
   "metadata": {},
   "outputs": [],
   "source": [
    "nb = get_classifier('NB',diffpriv=False)"
   ]
  },
  {
   "cell_type": "code",
   "execution_count": 12,
   "id": "8fd944e4",
   "metadata": {},
   "outputs": [],
   "source": [
    "_ = nb.fit(X_train, y_train)"
   ]
  },
  {
   "cell_type": "code",
   "execution_count": 6,
   "id": "71191bdd",
   "metadata": {},
   "outputs": [],
   "source": [
    "nb_preds = nb.predict(X_test)"
   ]
  },
  {
   "cell_type": "code",
   "execution_count": 7,
   "id": "84592b2f",
   "metadata": {},
   "outputs": [
    {
     "data": {
      "text/plain": [
       "0.6004292637895222"
      ]
     },
     "execution_count": 7,
     "metadata": {},
     "output_type": "execute_result"
    }
   ],
   "source": [
    "accuracy_score(nb_preds,y_test)"
   ]
  },
  {
   "cell_type": "code",
   "execution_count": 8,
   "id": "d448db72",
   "metadata": {},
   "outputs": [],
   "source": [
    "dp_nb_1 = get_classifier('NB',epsilon=1)"
   ]
  },
  {
   "cell_type": "code",
   "execution_count": 9,
   "id": "f89b9f94",
   "metadata": {},
   "outputs": [],
   "source": [
    "_ = dp_nb_1.fit(X_train, y_train)"
   ]
  },
  {
   "cell_type": "code",
   "execution_count": 10,
   "id": "85649cfa",
   "metadata": {},
   "outputs": [],
   "source": [
    "dp_nb_1_preds = dp_nb_1.predict(X_test)"
   ]
  },
  {
   "cell_type": "code",
   "execution_count": 11,
   "id": "0a986f9d",
   "metadata": {},
   "outputs": [
    {
     "data": {
      "text/plain": [
       "0.5920378490653128"
      ]
     },
     "execution_count": 11,
     "metadata": {},
     "output_type": "execute_result"
    }
   ],
   "source": [
    "accuracy_score(dp_nb_1_preds,y_test)"
   ]
  },
  {
   "cell_type": "markdown",
   "id": "9972dffa",
   "metadata": {},
   "source": [
    "### Plot classifier params"
   ]
  },
  {
   "cell_type": "code",
   "execution_count": 15,
   "id": "6a0baec0",
   "metadata": {},
   "outputs": [],
   "source": [
    "def smooth(scalars, weight):  # Weight between 0 and 1\n",
    "    last = scalars[0]  # First value in the plot (first timestep)\n",
    "    smoothed = list()\n",
    "    for point in scalars:\n",
    "        smoothed_val = last * weight + (1 - weight) * point  # Calculate smoothed value\n",
    "        smoothed.append(smoothed_val)                        # Save it\n",
    "        last = smoothed_val                                  # Anchor the last smoothed value        \n",
    "    return smoothed\n",
    "\n",
    "\n",
    "def plot_params(X_train, y_train, X_test, y_test, num_trials, cls_str, sex_col='Sex', race_col='Race'):\n",
    "    \n",
    "    eps_list = np.logspace(-2, 2, 10)\n",
    "    acc_list = []\n",
    "    dem_parity_list_gender = []\n",
    "    dem_parity_list_race = []\n",
    "    eq_opp_list_gender = []\n",
    "    eq_opp_list_race = []\n",
    "    acc_score = np.zeros((num_trials, len(eps_list)))\n",
    "    dem_parity_score_gender = np.zeros((num_trials, len(eps_list)))\n",
    "    dem_parity_score_race = np.zeros((num_trials, len(eps_list)))\n",
    "    eq_opp_score_gender = np.zeros((num_trials, len(eps_list)))\n",
    "    eq_opp_score_race = np.zeros((num_trials, len(eps_list)))\n",
    "\n",
    "    for i in tqdm(range(num_trials)):    \n",
    "        for j,eps in enumerate(eps_list):\n",
    "            clf = get_classifier(cls_str, diffpriv=True, epsilon=eps)\n",
    "            clf.fit(X_train,y_train)\n",
    "            acc_score[i,j] = clf.score(X_test, y_test)\n",
    "            # fairness metrics need the sensitive column to be binary {0,1}. Cannot normalize!\n",
    "            dem_parity_score_gender[i,j] = p_percent_score(sensitive_column=sex_col)(clf, X_train)\n",
    "            dem_parity_score_race[i,j] = p_percent_score(sensitive_column=race_col)(clf, X_train)\n",
    "            eq_opp_score_gender[i,j] = equal_opportunity_score(sensitive_column=sex_col)(clf, X_train, y_train)\n",
    "            eq_opp_score_race[i,j] = equal_opportunity_score(sensitive_column=race_col)(clf, X_train, y_train)\n",
    "\n",
    "    clf = get_classifier(cls_str, diffpriv=False)\n",
    "    clf.fit(X_train,y_train)\n",
    "    acc = clf.score(X_test, y_test)\n",
    "    dp_g = p_percent_score(sensitive_column=sex_col)(clf, X_train)\n",
    "    dp_r = p_percent_score(sensitive_column=race_col)(clf, X_train)\n",
    "    eo_g = equal_opportunity_score(sensitive_column=sex_col)(clf, X_train, y_train)\n",
    "    eo_r = equal_opportunity_score(sensitive_column=race_col)(clf, X_train, y_train)\n",
    "    \n",
    "    acc_list = np.mean(acc_score, axis=0)        \n",
    "    dem_parity_list_gender = np.mean(dem_parity_score_gender, axis=0)\n",
    "    dem_parity_list_race = np.mean(dem_parity_score_race, axis=0)\n",
    "    eq_opp_list_gender = np.mean(eq_opp_score_gender, axis=0)\n",
    "    eq_opp_list_race = np.mean(eq_opp_score_race, axis=0)\n",
    "    \n",
    "    plt.suptitle(cls_str + ' Classifier Accuracy and Fairness Metrics vs Epsilon') \n",
    "    plt.title('Dashed and Solid Lines for Standard and Private Classifiers', fontsize='small')\n",
    "    plt.axhline(acc, color='r', linestyle='--')\n",
    "    plt.axhline(dp_g, color='g', linestyle='--')\n",
    "    plt.axhline(dp_r, color='b', linestyle='--')\n",
    "    plt.axhline(eo_g, color='m', linestyle='--')\n",
    "    plt.axhline(eo_r, color='y', linestyle='--')   \n",
    "    \n",
    "    plt.semilogx(eps_list, smooth(acc_list,0.9), label='Accuracy', color='r')\n",
    "    plt.semilogx(eps_list, smooth(dem_parity_list_gender,0.9), label='Dem Par Gender', color='g')\n",
    "    plt.semilogx(eps_list, smooth(dem_parity_list_race,0.9), label='Dem Par Race', color='b')\n",
    "    plt.semilogx(eps_list, smooth(eq_opp_list_gender,0.9), label='Eq Opp Gender', color='m')\n",
    "    plt.semilogx(eps_list, smooth(eq_opp_list_race,0.9), label='Eq Opp Gender', color='y')\n",
    "    plt.legend(loc='center left', bbox_to_anchor=(1, 0.5))\n",
    "    plt.ylim(0,1)\n",
    "    plt.xlabel('Epsilon')\n",
    "    plt.ylabel('Accuracy / Fairness')\n",
    "    \n",
    "    plt.savefig('plots/'+cls_str+'.png', dpi=75)\n",
    "    plt.show()\n",
    "    return"
   ]
  },
  {
   "cell_type": "code",
   "execution_count": 16,
   "id": "2c1b9310",
   "metadata": {
    "scrolled": false
   },
   "outputs": [
    {
     "name": "stderr",
     "output_type": "stream",
     "text": [
      "  0%|          | 0/50 [01:41<?, ?it/s]\n"
     ]
    },
    {
     "ename": "KeyboardInterrupt",
     "evalue": "",
     "output_type": "error",
     "traceback": [
      "\u001b[0;31m---------------------------------------------------------------------------\u001b[0m",
      "\u001b[0;31mKeyboardInterrupt\u001b[0m                         Traceback (most recent call last)",
      "\u001b[0;32m<ipython-input-16-1173ea6333dd>\u001b[0m in \u001b[0;36m<module>\u001b[0;34m\u001b[0m\n\u001b[0;32m----> 1\u001b[0;31m plot_params(\n\u001b[0m\u001b[1;32m      2\u001b[0m     \u001b[0mX_train\u001b[0m\u001b[0;34m,\u001b[0m\u001b[0;34m\u001b[0m\u001b[0;34m\u001b[0m\u001b[0m\n\u001b[1;32m      3\u001b[0m     \u001b[0my_train\u001b[0m\u001b[0;34m,\u001b[0m\u001b[0;34m\u001b[0m\u001b[0;34m\u001b[0m\u001b[0m\n\u001b[1;32m      4\u001b[0m     \u001b[0mX_test\u001b[0m\u001b[0;34m,\u001b[0m\u001b[0;34m\u001b[0m\u001b[0;34m\u001b[0m\u001b[0m\n\u001b[1;32m      5\u001b[0m     \u001b[0my_test\u001b[0m\u001b[0;34m,\u001b[0m\u001b[0;34m\u001b[0m\u001b[0;34m\u001b[0m\u001b[0m\n",
      "\u001b[0;32m<ipython-input-15-a82e2406249a>\u001b[0m in \u001b[0;36mplot_params\u001b[0;34m(X_train, y_train, X_test, y_test, num_trials, cls_str, sex_col, race_col)\u001b[0m\n\u001b[1;32m     30\u001b[0m             \u001b[0;31m# fairness metrics need the sensitive column to be binary {0,1}. Cannot normalize!\u001b[0m\u001b[0;34m\u001b[0m\u001b[0;34m\u001b[0m\u001b[0;34m\u001b[0m\u001b[0m\n\u001b[1;32m     31\u001b[0m             \u001b[0mdem_parity_score_gender\u001b[0m\u001b[0;34m[\u001b[0m\u001b[0mi\u001b[0m\u001b[0;34m,\u001b[0m\u001b[0mj\u001b[0m\u001b[0;34m]\u001b[0m \u001b[0;34m=\u001b[0m \u001b[0mp_percent_score\u001b[0m\u001b[0;34m(\u001b[0m\u001b[0msensitive_column\u001b[0m\u001b[0;34m=\u001b[0m\u001b[0msex_col\u001b[0m\u001b[0;34m)\u001b[0m\u001b[0;34m(\u001b[0m\u001b[0mclf\u001b[0m\u001b[0;34m,\u001b[0m \u001b[0mX_train\u001b[0m\u001b[0;34m)\u001b[0m\u001b[0;34m\u001b[0m\u001b[0;34m\u001b[0m\u001b[0m\n\u001b[0;32m---> 32\u001b[0;31m             \u001b[0mdem_parity_score_race\u001b[0m\u001b[0;34m[\u001b[0m\u001b[0mi\u001b[0m\u001b[0;34m,\u001b[0m\u001b[0mj\u001b[0m\u001b[0;34m]\u001b[0m \u001b[0;34m=\u001b[0m \u001b[0mp_percent_score\u001b[0m\u001b[0;34m(\u001b[0m\u001b[0msensitive_column\u001b[0m\u001b[0;34m=\u001b[0m\u001b[0mrace_col\u001b[0m\u001b[0;34m)\u001b[0m\u001b[0;34m(\u001b[0m\u001b[0mclf\u001b[0m\u001b[0;34m,\u001b[0m \u001b[0mX_train\u001b[0m\u001b[0;34m)\u001b[0m\u001b[0;34m\u001b[0m\u001b[0;34m\u001b[0m\u001b[0m\n\u001b[0m\u001b[1;32m     33\u001b[0m             \u001b[0meq_opp_score_gender\u001b[0m\u001b[0;34m[\u001b[0m\u001b[0mi\u001b[0m\u001b[0;34m,\u001b[0m\u001b[0mj\u001b[0m\u001b[0;34m]\u001b[0m \u001b[0;34m=\u001b[0m \u001b[0mequal_opportunity_score\u001b[0m\u001b[0;34m(\u001b[0m\u001b[0msensitive_column\u001b[0m\u001b[0;34m=\u001b[0m\u001b[0msex_col\u001b[0m\u001b[0;34m)\u001b[0m\u001b[0;34m(\u001b[0m\u001b[0mclf\u001b[0m\u001b[0;34m,\u001b[0m \u001b[0mX_train\u001b[0m\u001b[0;34m,\u001b[0m \u001b[0my_train\u001b[0m\u001b[0;34m)\u001b[0m\u001b[0;34m\u001b[0m\u001b[0;34m\u001b[0m\u001b[0m\n\u001b[1;32m     34\u001b[0m             \u001b[0meq_opp_score_race\u001b[0m\u001b[0;34m[\u001b[0m\u001b[0mi\u001b[0m\u001b[0;34m,\u001b[0m\u001b[0mj\u001b[0m\u001b[0;34m]\u001b[0m \u001b[0;34m=\u001b[0m \u001b[0mequal_opportunity_score\u001b[0m\u001b[0;34m(\u001b[0m\u001b[0msensitive_column\u001b[0m\u001b[0;34m=\u001b[0m\u001b[0mrace_col\u001b[0m\u001b[0;34m)\u001b[0m\u001b[0;34m(\u001b[0m\u001b[0mclf\u001b[0m\u001b[0;34m,\u001b[0m \u001b[0mX_train\u001b[0m\u001b[0;34m,\u001b[0m \u001b[0my_train\u001b[0m\u001b[0;34m)\u001b[0m\u001b[0;34m\u001b[0m\u001b[0;34m\u001b[0m\u001b[0m\n",
      "\u001b[0;32m/usr/local/anaconda3/lib/python3.8/site-packages/sklego/metrics.py\u001b[0m in \u001b[0;36mimpl\u001b[0;34m(estimator, X, y_true)\u001b[0m\n\u001b[1;32m     66\u001b[0m             )\n\u001b[1;32m     67\u001b[0m \u001b[0;34m\u001b[0m\u001b[0m\n\u001b[0;32m---> 68\u001b[0;31m         \u001b[0my_hat\u001b[0m \u001b[0;34m=\u001b[0m \u001b[0mestimator\u001b[0m\u001b[0;34m.\u001b[0m\u001b[0mpredict\u001b[0m\u001b[0;34m(\u001b[0m\u001b[0mX\u001b[0m\u001b[0;34m)\u001b[0m\u001b[0;34m\u001b[0m\u001b[0;34m\u001b[0m\u001b[0m\n\u001b[0m\u001b[1;32m     69\u001b[0m         \u001b[0my_given_z1\u001b[0m \u001b[0;34m=\u001b[0m \u001b[0my_hat\u001b[0m\u001b[0;34m[\u001b[0m\u001b[0msensitive_col\u001b[0m \u001b[0;34m==\u001b[0m \u001b[0;36m1\u001b[0m\u001b[0;34m]\u001b[0m\u001b[0;34m\u001b[0m\u001b[0;34m\u001b[0m\u001b[0m\n\u001b[1;32m     70\u001b[0m         \u001b[0my_given_z0\u001b[0m \u001b[0;34m=\u001b[0m \u001b[0my_hat\u001b[0m\u001b[0;34m[\u001b[0m\u001b[0msensitive_col\u001b[0m \u001b[0;34m==\u001b[0m \u001b[0;36m0\u001b[0m\u001b[0;34m]\u001b[0m\u001b[0;34m\u001b[0m\u001b[0;34m\u001b[0m\u001b[0m\n",
      "\u001b[0;32m/usr/local/anaconda3/lib/python3.8/site-packages/sklearn/naive_bayes.py\u001b[0m in \u001b[0;36mpredict\u001b[0;34m(self, X)\u001b[0m\n\u001b[1;32m     73\u001b[0m         \u001b[0mcheck_is_fitted\u001b[0m\u001b[0;34m(\u001b[0m\u001b[0mself\u001b[0m\u001b[0;34m)\u001b[0m\u001b[0;34m\u001b[0m\u001b[0;34m\u001b[0m\u001b[0m\n\u001b[1;32m     74\u001b[0m         \u001b[0mX\u001b[0m \u001b[0;34m=\u001b[0m \u001b[0mself\u001b[0m\u001b[0;34m.\u001b[0m\u001b[0m_check_X\u001b[0m\u001b[0;34m(\u001b[0m\u001b[0mX\u001b[0m\u001b[0;34m)\u001b[0m\u001b[0;34m\u001b[0m\u001b[0;34m\u001b[0m\u001b[0m\n\u001b[0;32m---> 75\u001b[0;31m         \u001b[0mjll\u001b[0m \u001b[0;34m=\u001b[0m \u001b[0mself\u001b[0m\u001b[0;34m.\u001b[0m\u001b[0m_joint_log_likelihood\u001b[0m\u001b[0;34m(\u001b[0m\u001b[0mX\u001b[0m\u001b[0;34m)\u001b[0m\u001b[0;34m\u001b[0m\u001b[0;34m\u001b[0m\u001b[0m\n\u001b[0m\u001b[1;32m     76\u001b[0m         \u001b[0;32mreturn\u001b[0m \u001b[0mself\u001b[0m\u001b[0;34m.\u001b[0m\u001b[0mclasses_\u001b[0m\u001b[0;34m[\u001b[0m\u001b[0mnp\u001b[0m\u001b[0;34m.\u001b[0m\u001b[0margmax\u001b[0m\u001b[0;34m(\u001b[0m\u001b[0mjll\u001b[0m\u001b[0;34m,\u001b[0m \u001b[0maxis\u001b[0m\u001b[0;34m=\u001b[0m\u001b[0;36m1\u001b[0m\u001b[0;34m)\u001b[0m\u001b[0;34m]\u001b[0m\u001b[0;34m\u001b[0m\u001b[0;34m\u001b[0m\u001b[0m\n\u001b[1;32m     77\u001b[0m \u001b[0;34m\u001b[0m\u001b[0m\n",
      "\u001b[0;32m/usr/local/anaconda3/lib/python3.8/site-packages/sklearn/naive_bayes.py\u001b[0m in \u001b[0;36m_joint_log_likelihood\u001b[0;34m(self, X)\u001b[0m\n\u001b[1;32m    451\u001b[0m             \u001b[0mjointi\u001b[0m \u001b[0;34m=\u001b[0m \u001b[0mnp\u001b[0m\u001b[0;34m.\u001b[0m\u001b[0mlog\u001b[0m\u001b[0;34m(\u001b[0m\u001b[0mself\u001b[0m\u001b[0;34m.\u001b[0m\u001b[0mclass_prior_\u001b[0m\u001b[0;34m[\u001b[0m\u001b[0mi\u001b[0m\u001b[0;34m]\u001b[0m\u001b[0;34m)\u001b[0m\u001b[0;34m\u001b[0m\u001b[0;34m\u001b[0m\u001b[0m\n\u001b[1;32m    452\u001b[0m             \u001b[0mn_ij\u001b[0m \u001b[0;34m=\u001b[0m \u001b[0;34m-\u001b[0m \u001b[0;36m0.5\u001b[0m \u001b[0;34m*\u001b[0m \u001b[0mnp\u001b[0m\u001b[0;34m.\u001b[0m\u001b[0msum\u001b[0m\u001b[0;34m(\u001b[0m\u001b[0mnp\u001b[0m\u001b[0;34m.\u001b[0m\u001b[0mlog\u001b[0m\u001b[0;34m(\u001b[0m\u001b[0;36m2.\u001b[0m \u001b[0;34m*\u001b[0m \u001b[0mnp\u001b[0m\u001b[0;34m.\u001b[0m\u001b[0mpi\u001b[0m \u001b[0;34m*\u001b[0m \u001b[0mself\u001b[0m\u001b[0;34m.\u001b[0m\u001b[0msigma_\u001b[0m\u001b[0;34m[\u001b[0m\u001b[0mi\u001b[0m\u001b[0;34m,\u001b[0m \u001b[0;34m:\u001b[0m\u001b[0;34m]\u001b[0m\u001b[0;34m)\u001b[0m\u001b[0;34m)\u001b[0m\u001b[0;34m\u001b[0m\u001b[0;34m\u001b[0m\u001b[0m\n\u001b[0;32m--> 453\u001b[0;31m             n_ij -= 0.5 * np.sum(((X - self.theta_[i, :]) ** 2) /\n\u001b[0m\u001b[1;32m    454\u001b[0m                                  (self.sigma_[i, :]), 1)\n\u001b[1;32m    455\u001b[0m             \u001b[0mjoint_log_likelihood\u001b[0m\u001b[0;34m.\u001b[0m\u001b[0mappend\u001b[0m\u001b[0;34m(\u001b[0m\u001b[0mjointi\u001b[0m \u001b[0;34m+\u001b[0m \u001b[0mn_ij\u001b[0m\u001b[0;34m)\u001b[0m\u001b[0;34m\u001b[0m\u001b[0;34m\u001b[0m\u001b[0m\n",
      "\u001b[0;31mKeyboardInterrupt\u001b[0m: "
     ]
    }
   ],
   "source": [
    "plot_params(\n",
    "    X_train, \n",
    "    y_train, \n",
    "    X_test, \n",
    "    y_test, \n",
    "    50, \n",
    "    'NB', \n",
    "    sex_col='r_white_non_hisp',\n",
    "    race_col='gender_m')"
   ]
  },
  {
   "cell_type": "code",
   "execution_count": 10,
   "id": "082d0398",
   "metadata": {},
   "outputs": [
    {
     "name": "stderr",
     "output_type": "stream",
     "text": [
      "100%|███████████████████████████████████████████| 50/50 [10:21<00:00, 12.43s/it]\n"
     ]
    },
    {
     "data": {
      "image/png": "[encoded data removed]",
      "text/plain": [
       "<Figure size 432x288 with 1 Axes>"
      ]
     },
     "metadata": {
      "needs_background": "light"
     },
     "output_type": "display_data"
    }
   ],
   "source": [
    "plot_params(X_train, y_train, X_test, y_test, 50, 'LR')"
   ]
  },
  {
   "cell_type": "markdown",
   "id": "6fc9d0c2",
   "metadata": {},
   "source": [
    "## Varuns stuff below\n",
    "____________________"
   ]
  },
  {
   "cell_type": "markdown",
   "id": "4e425751",
   "metadata": {},
   "source": [
    "# Preprocess Income Data"
   ]
  },
  {
   "cell_type": "code",
   "execution_count": 3,
   "id": "88ca8ca1",
   "metadata": {},
   "outputs": [],
   "source": [
    "features = [\"Age\", \"Workclass\", \"fnlwgt\", \"Education\", \"Education-Num\", \"Martial Status\",\n",
    "        \"Occupation\", \"Relationship\", \"Race\", \"Sex\", \"Capital Gain\", \"Capital Loss\",\n",
    "        \"Hours per week\", \"Country\", \"Target\"] \n",
    "\n",
    "train_url = '../data/income/adult.data'\n",
    "# 'https://archive.ics.uci.edu/ml/machine-learning-databases/adult/adult.data'\n",
    "test_url = '../data/income/adult.test'\n",
    "# 'https://archive.ics.uci.edu/ml/machine-learning-databases/adult/adult.test'\n",
    "\n",
    "# 3.8M\n",
    "original_train = pd.read_csv(train_url, names=features, sep=r'\\s*,\\s*', \n",
    "                             engine='python', na_values=\"?\")\n",
    "original_train = original_train[(original_train['Race']=='Black') | (original_train['Race'] == 'White')]\n",
    "\n",
    "# 1.9M\n",
    "original_test = pd.read_csv(test_url, names=features, sep=r'\\s*,\\s*', \n",
    "                            engine='python', na_values=\"?\", skiprows=1)\n",
    "original_test = original_test[(original_test['Race']=='Black') | (original_test['Race'] == 'White')]\n",
    "\n",
    "num_train = len(original_train)\n",
    "original = pd.concat([original_train, original_test])\n",
    "roc_original = original\n",
    "labels = original['Target']\n",
    "labels = labels.replace('<=50K', 0).replace('>50K', 1)\n",
    "labels = labels.replace('<=50K.', 0).replace('>50K.', 1)\n",
    "# Redundant column, Education-Num is already present\n",
    "del original[\"Education\"]\n",
    "# Remove target variable since we've already binarized to labels variable\n",
    "del original[\"Target\"]\n",
    "original.Sex = original.Sex.replace({'Male': 1, 'Female': 0})\n",
    "original.Race = original.Race.replace({'White': 1, 'Black': 0})\n",
    "\n",
    "#binarize all the categorical values\n",
    "binary_data = pd.get_dummies(original) # n x 13 -> n x 83\n",
    "\n",
    "X_train = binary_data[:num_train]\n",
    "y_train = labels[:num_train]\n",
    "X_test = binary_data[num_train:]\n",
    "y_test = labels[num_train:]"
   ]
  },
  {
   "cell_type": "markdown",
   "id": "2dc63611",
   "metadata": {},
   "source": [
    "# Data Distribution"
   ]
  },
  {
   "cell_type": "code",
   "execution_count": 4,
   "id": "4554f8c2",
   "metadata": {
    "scrolled": false
   },
   "outputs": [
    {
     "name": "stdout",
     "output_type": "stream",
     "text": [
      "0.10096961861667744 0.08846153846153847 0.01250808015513898\n",
      "0.8990303813833226 0.6690045248868778 0.23002585649644472\n",
      "0.3295733678086619 0.29343891402714933 0.03613445378151261\n",
      "0.670426632191338 0.464027149321267 0.2063994828700711\n"
     ]
    }
   ],
   "source": [
    "n1 = len(original_train[ (original_train['Race']=='Black') & (original_train['Target'] == '<=50K')])\n",
    "n2 = len(original_train[(original_train['Race']=='Black') & (original_train['Target'] == '>50K')])\n",
    "n3 = len(original_train[(original_train['Race']=='White') & (original_train['Target'] == '<=50K')])\n",
    "n4 = len(original_train[(original_train['Race']=='White') & (original_train['Target'] == '>50K')])\n",
    "n5 = len(original_train[(original_train['Sex']=='Female') & (original_train['Target'] == '<=50K')])\n",
    "n6 = len(original_train[(original_train['Sex']=='Female') & (original_train['Target'] == '>50K')])\n",
    "n7 = len(original_train[(original_train['Sex']=='Male') & (original_train['Target'] == '<=50K')])\n",
    "n8 = len(original_train[(original_train['Sex']=='Male') & (original_train['Target'] == '>50K')])\n",
    "\n",
    "black_perc = (n1+n2)/num_train\n",
    "black_0 = n1/num_train\n",
    "black_1 = n2/num_train\n",
    "\n",
    "white_perc = (n3+n4)/num_train\n",
    "white_0 = n3/num_train\n",
    "white_1 = n4/num_train\n",
    "\n",
    "female_perc = (n5+n6)/num_train\n",
    "female_0 = n5/num_train\n",
    "female_1 = n6/num_train\n",
    "\n",
    "male_perc = (n7+n8)/num_train\n",
    "male_0 = n7/num_train\n",
    "male_1 = n8/num_train\n",
    "\n",
    "print(black_perc, black_0, black_1)\n",
    "print(white_perc, white_0, white_1)\n",
    "print(female_perc, female_0, female_1)\n",
    "print(male_perc, male_0, male_1)"
   ]
  },
  {
   "cell_type": "code",
   "execution_count": 5,
   "id": "9f172817",
   "metadata": {},
   "outputs": [],
   "source": [
    "total_black = len(original_train[original_train['Race']=='Black'])\n",
    "total_white = len(original_train[original_train['Race']=='White'])\n",
    "total_male = len(original_train[original_train['Sex']=='Male'])\n",
    "total_female = len(original_train[original_train['Sex']=='Female'])\n",
    "black = original_train[original_train['Race']=='Black']\n",
    "white = original_train[original_train['Race']=='White']\n",
    "male = original_train[original_train['Sex']=='Male']\n",
    "female = original_train[original_train['Sex']=='Female']"
   ]
  },
  {
   "cell_type": "code",
   "execution_count": 6,
   "id": "316f0c29",
   "metadata": {},
   "outputs": [
    {
     "data": {
      "text/html": [
       "<div>\n",
       "<style scoped>\n",
       "    .dataframe tbody tr th:only-of-type {\n",
       "        vertical-align: middle;\n",
       "    }\n",
       "\n",
       "    .dataframe tbody tr th {\n",
       "        vertical-align: top;\n",
       "    }\n",
       "\n",
       "    .dataframe thead th {\n",
       "        text-align: right;\n",
       "    }\n",
       "</style>\n",
       "<table border=\"1\" class=\"dataframe\">\n",
       "  <thead>\n",
       "    <tr style=\"text-align: right;\">\n",
       "      <th></th>\n",
       "      <th>&lt;=50K</th>\n",
       "      <th>&gt;50K</th>\n",
       "    </tr>\n",
       "  </thead>\n",
       "  <tbody>\n",
       "    <tr>\n",
       "      <th>Black</th>\n",
       "      <td>0.87612</td>\n",
       "      <td>0.12388</td>\n",
       "    </tr>\n",
       "    <tr>\n",
       "      <th>White</th>\n",
       "      <td>0.74414</td>\n",
       "      <td>0.25586</td>\n",
       "    </tr>\n",
       "  </tbody>\n",
       "</table>\n",
       "</div>"
      ],
      "text/plain": [
       "         <=50K     >50K\n",
       "Black  0.87612  0.12388\n",
       "White  0.74414  0.25586"
      ]
     },
     "execution_count": 6,
     "metadata": {},
     "output_type": "execute_result"
    }
   ],
   "source": [
    "# Race\n",
    "black_less50K = len(black[(black.Target == '<=50K') | (black.Target == '<=50K.')])/total_black\n",
    "black_greater50K = len(black[(black.Target == '>50K') | (black.Target == '>50K.')])/total_black\n",
    "white_less50K = len(white[(white.Target == '<=50K') | (white.Target == '<=50K.')])/total_white\n",
    "white_greater50K = len(white[(white.Target == '>50K') | (white.Target == '>50K.')])/total_white\n",
    "\n",
    "target_percent = pd.DataFrame({'<=50K': [black_less50K, white_less50K], '>50K': [black_greater50K, white_greater50K]}, index=['Black', 'White'])\n",
    "target_percent"
   ]
  },
  {
   "cell_type": "code",
   "execution_count": 7,
   "id": "d9a09736",
   "metadata": {},
   "outputs": [
    {
     "data": {
      "text/html": [
       "<div>\n",
       "<style scoped>\n",
       "    .dataframe tbody tr th:only-of-type {\n",
       "        vertical-align: middle;\n",
       "    }\n",
       "\n",
       "    .dataframe tbody tr th {\n",
       "        vertical-align: top;\n",
       "    }\n",
       "\n",
       "    .dataframe thead th {\n",
       "        text-align: right;\n",
       "    }\n",
       "</style>\n",
       "<table border=\"1\" class=\"dataframe\">\n",
       "  <thead>\n",
       "    <tr style=\"text-align: right;\">\n",
       "      <th></th>\n",
       "      <th>&lt;=50K</th>\n",
       "      <th>&gt;50K</th>\n",
       "    </tr>\n",
       "  </thead>\n",
       "  <tbody>\n",
       "    <tr>\n",
       "      <th>Female</th>\n",
       "      <td>0.890360</td>\n",
       "      <td>0.109640</td>\n",
       "    </tr>\n",
       "    <tr>\n",
       "      <th>Male</th>\n",
       "      <td>0.692137</td>\n",
       "      <td>0.307863</td>\n",
       "    </tr>\n",
       "  </tbody>\n",
       "</table>\n",
       "</div>"
      ],
      "text/plain": [
       "           <=50K      >50K\n",
       "Female  0.890360  0.109640\n",
       "Male    0.692137  0.307863"
      ]
     },
     "execution_count": 7,
     "metadata": {},
     "output_type": "execute_result"
    }
   ],
   "source": [
    "# Gender\n",
    "female_less50K = len(female[(female.Target == '<=50K') | (female.Target == '<=50K.')])/total_female\n",
    "female_greater50K = len(female[(female.Target == '>50K') | (female.Target == '>50K.')])/total_female\n",
    "male_less50K = len(male[(male.Target == '<=50K') | (male.Target == '<=50K.')])/total_male\n",
    "male_greater50K = len(male[(male.Target == '>50K') | (male.Target == '>50K.')])/total_male\n",
    "\n",
    "target_percent = pd.DataFrame({'<=50K': [female_less50K, male_less50K], '>50K': [female_greater50K, male_greater50K]}, index=['Female', 'Male'])\n",
    "target_percent"
   ]
  },
  {
   "cell_type": "markdown",
   "id": "189048e0",
   "metadata": {},
   "source": [
    "# Model Training and Plotting Curves"
   ]
  },
  {
   "cell_type": "code",
   "execution_count": 18,
   "id": "b1205d34",
   "metadata": {},
   "outputs": [],
   "source": [
    "# plot_params(X_train, y_train, X_test, y_test, 50, 'RF')\n",
    "# bug in IBM diffprivlib RandomForestClassifier implementation of Score. Skipping for now."
   ]
  },
  {
   "cell_type": "code",
   "execution_count": 9,
   "id": "30e4e2b0",
   "metadata": {
    "scrolled": false
   },
   "outputs": [
    {
     "name": "stderr",
     "output_type": "stream",
     "text": [
      "100%|███████████████████████████████████████████| 50/50 [04:43<00:00,  5.67s/it]\n"
     ]
    },
    {
     "data": {
      "image/png": "[encoded data removed]",
      "text/plain": [
       "<Figure size 432x288 with 1 Axes>"
      ]
     },
     "metadata": {
      "needs_background": "light"
     },
     "output_type": "display_data"
    }
   ],
   "source": [
    "plot_params(X_train, y_train, X_test, y_test, 50, 'NB')"
   ]
  },
  {
   "cell_type": "code",
   "execution_count": 10,
   "id": "8e48c204",
   "metadata": {},
   "outputs": [
    {
     "name": "stderr",
     "output_type": "stream",
     "text": [
      "100%|███████████████████████████████████████████| 50/50 [10:21<00:00, 12.43s/it]\n"
     ]
    },
    {
     "data": {
      "image/png": "[encoded data removed]",
      "text/plain": [
       "<Figure size 432x288 with 1 Axes>"
      ]
     },
     "metadata": {
      "needs_background": "light"
     },
     "output_type": "display_data"
    }
   ],
   "source": [
    "plot_params(X_train, y_train, X_test, y_test, 50, 'LR')"
   ]
  }
 ],
 "metadata": {
  "kernelspec": {
   "display_name": "Python 3",
   "language": "python",
   "name": "python3"
  },
  "language_info": {
   "codemirror_mode": {
    "name": "ipython",
    "version": 3
   },
   "file_extension": ".py",
   "mimetype": "text/x-python",
   "name": "python",
   "nbconvert_exporter": "python",
   "pygments_lexer": "ipython3",
   "version": "3.8.8"
  }
 },
 "nbformat": 4,
 "nbformat_minor": 5
}
