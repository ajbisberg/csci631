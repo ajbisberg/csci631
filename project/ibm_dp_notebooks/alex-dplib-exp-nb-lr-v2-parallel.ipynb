{
 "cells": [
  {
   "cell_type": "code",
   "execution_count": null,
   "id": "e52cada8",
   "metadata": {},
   "outputs": [],
   "source": [
    "%load_ext autoreload\n",
    "%autoreload 2"
   ]
  },
  {
   "cell_type": "code",
   "execution_count": 3,
   "id": "485902f5",
   "metadata": {},
   "outputs": [],
   "source": [
    "import diffprivlib as dpconda\n",
    "from sklearn.naive_bayes import GaussianNB\n",
    "from sklearn.linear_model import LogisticRegression\n",
    "from sklearn.ensemble import RandomForestClassifier\n",
    "import pandas as pd\n",
    "import sklearn.preprocessing as preprocessing\n",
    "import sklearn.metrics as metrics\n",
    "import matplotlib.pyplot as plt\n",
    "from sklearn.preprocessing import MinMaxScaler\n",
    "import numpy as np\n",
    "np.random.seed(31415)\n",
    "import warnings\n",
    "warnings.filterwarnings(\"ignore\")\n",
    "from tqdm import tqdm\n",
    "import math\n",
    "import fairlearn.metrics as mf\n",
    "from multiprocessing import Pool, cpu_count"
   ]
  },
  {
   "cell_type": "code",
   "execution_count": 4,
   "id": "b24c4595",
   "metadata": {},
   "outputs": [],
   "source": [
    "from train import get_classifier, train_score_clf"
   ]
  },
  {
   "cell_type": "code",
   "execution_count": 14,
   "id": "07522506",
   "metadata": {},
   "outputs": [
    {
     "data": {
      "text/plain": [
       "6"
      ]
     },
     "execution_count": 14,
     "metadata": {},
     "output_type": "execute_result"
    }
   ],
   "source": [
    "max_pools = 6 # cpu_count()-2\n",
    "max_pools"
   ]
  },
  {
   "cell_type": "markdown",
   "id": "175a260b",
   "metadata": {},
   "source": [
    "# Model Training and Plotting Curves"
   ]
  },
  {
   "cell_type": "code",
   "execution_count": 7,
   "id": "d352e46f",
   "metadata": {},
   "outputs": [],
   "source": [
    "def smooth(scalars, weight):  # Weight between 0 and 1\n",
    "    last = scalars[0]  # First value in the plot (first timestep)\n",
    "    smoothed = list()\n",
    "    for point in scalars:\n",
    "        smoothed_val = last * weight + (1 - weight) * point  # Calculate smoothed value\n",
    "        smoothed.append(smoothed_val)                        # Save it\n",
    "        last = smoothed_val                                  # Anchor the last smoothed value        \n",
    "    return smoothed\n",
    "\n",
    "# np.logspace(-2, 1, 4)\n",
    "eps_list = np.logspace(-2, 1, 6) \n",
    "\n",
    "def gen_reg_model_params(X_train, y_train, X_test, y_test, cls_str, gender_attr_str, race_attr_str):\n",
    "    clf = get_classifier(cls_str, diffpriv=False)\n",
    "    clf.fit(X_train,y_train)\n",
    "    y_pred = clf.predict(X_train)    \n",
    "    acc = clf.score(X_test, y_test)    \n",
    "    dp_g = mf.demographic_parity_ratio(\n",
    "        y_true=np.array(y_train), \n",
    "        y_pred=y_pred, \n",
    "        sensitive_features=np.array(X_train[gender_attr_str]))\n",
    "    dp_r = mf.demographic_parity_ratio(\n",
    "        y_true=np.array(y_train), \n",
    "        y_pred=y_pred, \n",
    "        sensitive_features=np.array(X_train[race_attr_str]))\n",
    "    eo_g = mf.equalized_odds_ratio(\n",
    "        y_true=np.array(y_train), \n",
    "        y_pred=y_pred, \n",
    "        sensitive_features=np.array(X_train[gender_attr_str]))\n",
    "    eo_r = mf.equalized_odds_ratio(\n",
    "        y_true=np.array(y_train), \n",
    "        y_pred=y_pred, \n",
    "        sensitive_features=np.array(X_train[race_attr_str]))\n",
    "    print('trained and scored baseline model')\n",
    "    return (\n",
    "        acc,\n",
    "        dp_g,\n",
    "        dp_r,\n",
    "        eo_g,\n",
    "        eo_r,\n",
    "    )\n",
    "\n",
    "def gen_dp_model_params(X_train, y_train, X_test, y_test, num_trials, cls_str, gender_attr_str, race_attr_str):\n",
    "    \n",
    "    acc_list = []\n",
    "    dem_parity_list_gender = []\n",
    "    dem_parity_list_race = []\n",
    "    eq_opp_list_gender = []\n",
    "    eq_opp_list_race = []\n",
    "    acc_score = np.zeros((num_trials, len(eps_list)))\n",
    "    dem_parity_score_gender = np.zeros((num_trials, len(eps_list)))\n",
    "    dem_parity_score_race = np.zeros((num_trials, len(eps_list)))\n",
    "    eq_opp_score_gender = np.zeros((num_trials, len(eps_list)))\n",
    "    eq_opp_score_race = np.zeros((num_trials, len(eps_list)))\n",
    "    \n",
    "    runs = []\n",
    "    for i,eps in enumerate(eps_list):\n",
    "        for j in range(num_trials):    \n",
    "            runs.append([j,eps,cls_str,gender_attr_str, race_attr_str,X_train,y_train,X_test,y_test])\n",
    "    \n",
    "    pool = Pool(max_pools) \n",
    "    mp_out = np.array(pool.starmap(train_score_clf,runs))\n",
    "    pool.close()\n",
    "    print('trained and scored dp models')\n",
    "\n",
    "    return np.array(mp_out)\n",
    "\n",
    "def avg_params(acc_score, dem_parity_score_gender, dem_parity_score_race, eq_opp_score_gender, eq_opp_score_race):\n",
    "    return (\n",
    "        np.mean(acc_score, axis=0),\n",
    "        pd.Series(np.mean(dem_parity_score_gender, axis=0)).interpolate().fillna(method='bfill'),\n",
    "        pd.Series(np.mean(dem_parity_score_race, axis=0)).interpolate().fillna(method='bfill'),\n",
    "        pd.Series(np.mean(eq_opp_score_gender, axis=0)).interpolate().fillna(method='bfill'),\n",
    "        pd.Series(np.mean(eq_opp_score_race, axis=0)).interpolate().fillna(method='bfill'),\n",
    "    \n",
    "    )\n",
    "\n",
    "def plot_params(pp_l, dp_pp_l, cls_str, smoothing):\n",
    "    \n",
    "    acc, dp_g, dp_r, eo_g, eo_r = pp_l\n",
    "    acc_list, dem_parity_list_gender, dem_parity_list_race, eq_opp_list_gender, eq_opp_list_race = dp_pp_l\n",
    "    \n",
    "    fig, ax = plt.subplots()\n",
    "    plt.suptitle(cls_str + ' Classifier Accuracy and Fairness Metrics vs Epsilon - FM dataset') \n",
    "    plt.title('Dashed and Solid Lines for Standard and Private Classifiers', fontsize='small')\n",
    "    plt.axhline(acc, color='r', linestyle='--')\n",
    "    plt.axhline(dp_g, color='g', linestyle='--')\n",
    "    plt.axhline(dp_r, color='b', linestyle='--')\n",
    "    plt.axhline(eo_g, color='m', linestyle='--')\n",
    "    plt.axhline(eo_r, color='y', linestyle='--')   \n",
    "    \n",
    "    plt.semilogx(eps_list, smooth(acc_list,smoothing), label='Accuracy', color='r')\n",
    "    plt.semilogx(eps_list, smooth(dem_parity_list_gender,smoothing), label='Dem Par Gender', color='g')\n",
    "    plt.semilogx(eps_list, smooth(dem_parity_list_race,smoothing), label='Dem Par Race', color='b')\n",
    "    plt.semilogx(eps_list, smooth(eq_opp_list_gender,smoothing), label='Eq Opp Gender', color='m')\n",
    "    plt.semilogx(eps_list, smooth(eq_opp_list_race,smoothing), label='Eq Opp Race', color='y')\n",
    "    plt.legend(loc='center left', bbox_to_anchor=(1, 0.5))\n",
    "    plt.ylim(0,1)\n",
    "    plt.xlabel('Epsilon')\n",
    "    plt.ylabel('Accuracy / Fairness')\n",
    "    \n",
    "    fig.patch.set_facecolor('white')    \n",
    "    plt.savefig('plots/'+cls_str+'.png', dpi=150, bbox_inches='tight',transparent=False)\n",
    "    plt.show()\n",
    "    \n",
    "def make_plot_data(dp_pp,eps_list):\n",
    "    a1 = dp_pp.reshape(len(eps_list),int(dp_pp.shape[0]/len(eps_list)),dp_pp.shape[1])\n",
    "    return np.array([ pd.Series(np.mean(e, axis=0)).interpolate().fillna(method='bfill') for e in a1 ]).T\n",
    "\n",
    "def plot_data_from_files(f_list):\n",
    "    dp_pp_list = [make_plot_data(np.loadtxt(f),eps_list) for f in f_list]\n",
    "    return [ np.mean([dp_pp[i] for dp_pp in dp_pp_list],axis=0) for i in range(5)]"
   ]
  },
  {
   "cell_type": "markdown",
   "id": "bb66825e",
   "metadata": {},
   "source": [
    "# Load Data"
   ]
  },
  {
   "cell_type": "code",
   "execution_count": 8,
   "id": "a4f39d71",
   "metadata": {},
   "outputs": [],
   "source": [
    "save_data_loc = '../data/fm2020/'\n",
    "X_train = pd.read_pickle(save_data_loc+'X_train.gz')\n",
    "y_train = pd.read_pickle(save_data_loc+'y_train.gz')\n",
    "X_test = pd.read_pickle(save_data_loc+'X_test.gz')\n",
    "y_test = pd.read_pickle(save_data_loc+'y_test.gz')"
   ]
  },
  {
   "cell_type": "code",
   "execution_count": 9,
   "id": "1dced5c6",
   "metadata": {},
   "outputs": [
    {
     "data": {
      "text/plain": [
       "('2,599,799', '649,950')"
      ]
     },
     "execution_count": 9,
     "metadata": {},
     "output_type": "execute_result"
    }
   ],
   "source": [
    "'{:,}'.format(len(X_train)), '{:,}'.format(len(X_test))"
   ]
  },
  {
   "cell_type": "code",
   "execution_count": 33,
   "id": "a332a769",
   "metadata": {},
   "outputs": [
    {
     "data": {
      "text/plain": [
       "('260,000', '100,000')"
      ]
     },
     "execution_count": 33,
     "metadata": {},
     "output_type": "execute_result"
    }
   ],
   "source": [
    "### Trim data for testing\n",
    "\n",
    "# tr_cut = np.random.random_integers(0, len(X_train)-1, int(2.6e5))\n",
    "# test_cut = np.random.random_integers(0, len(X_test)-1, int(1e5))\n",
    "\n",
    "# X_train.index = np.arange(0,len(X_train))\n",
    "# y_train.index = np.arange(0,len(X_train))\n",
    "# X_test.index = np.arange(0,len(X_test))\n",
    "# y_test.index = np.arange(0,len(X_test))\n",
    "\n",
    "# X_train = X_train.iloc[tr_cut] \n",
    "# y_train = y_train.iloc[tr_cut]\n",
    "# X_test = X_test.iloc[test_cut]\n",
    "# y_test = y_test.iloc[test_cut]\n",
    "\n",
    "# '{:,}'.format(len(X_train)), '{:,}'.format(len(X_test))"
   ]
  },
  {
   "cell_type": "code",
   "execution_count": 10,
   "id": "ec570fc8",
   "metadata": {},
   "outputs": [],
   "source": [
    "trial_block_size = 5"
   ]
  },
  {
   "cell_type": "code",
   "execution_count": 11,
   "id": "ff219fd1",
   "metadata": {},
   "outputs": [
    {
     "name": "stdout",
     "output_type": "stream",
     "text": [
      "trained and scored dp models\n"
     ]
    }
   ],
   "source": [
    "dp_pp_1 = gen_dp_model_params(\n",
    "    X_train, y_train, X_test, y_test,\n",
    "    trial_block_size, 'NB', 'gender_m', 'r_white_non_hisp')\n",
    "i = 1\n",
    "np.savetxt('./res/dpnb_full_{}.txt'.format(i),np.array(dp_pp_1))"
   ]
  },
  {
   "cell_type": "code",
   "execution_count": 15,
   "id": "79657e91",
   "metadata": {},
   "outputs": [
    {
     "name": "stdout",
     "output_type": "stream",
     "text": [
      "trained and scored dp models\n"
     ]
    }
   ],
   "source": [
    "dp_pp_2 = gen_dp_model_params(\n",
    "    X_train, y_train, X_test, y_test,\n",
    "    trial_block_size, 'NB', 'gender_m', 'r_white_non_hisp')\n",
    "i = 2\n",
    "np.savetxt('./res/dpnb_full_{}.txt'.format(i),np.array(dp_pp_2))"
   ]
  },
  {
   "cell_type": "code",
   "execution_count": 16,
   "id": "4d988baa",
   "metadata": {},
   "outputs": [
    {
     "name": "stdout",
     "output_type": "stream",
     "text": [
      "trained and scored dp models\n"
     ]
    }
   ],
   "source": [
    "dp_pp_3 = gen_dp_model_params(\n",
    "    X_train, y_train, X_test, y_test, \n",
    "    trial_block_size, 'NB', 'gender_m', 'r_white_non_hisp')\n",
    "i = 3\n",
    "np.savetxt('./res/dpnb_full_{}.txt'.format(i),np.array(dp_pp_3))"
   ]
  },
  {
   "cell_type": "code",
   "execution_count": 17,
   "id": "bec838c5",
   "metadata": {},
   "outputs": [
    {
     "name": "stdout",
     "output_type": "stream",
     "text": [
      "trained and scored dp models\n"
     ]
    }
   ],
   "source": [
    "dp_pp_4 = gen_dp_model_params(\n",
    "    X_train, y_train, X_test, y_test,\n",
    "    trial_block_size, 'NB', 'gender_m', 'r_white_non_hisp')\n",
    "i = 4\n",
    "np.savetxt('./res/dpnb_full_{}.txt'.format(i),np.array(dp_pp_4))"
   ]
  },
  {
   "cell_type": "code",
   "execution_count": 18,
   "id": "7a5dd230",
   "metadata": {},
   "outputs": [
    {
     "name": "stdout",
     "output_type": "stream",
     "text": [
      "trained and scored dp models\n"
     ]
    }
   ],
   "source": [
    "dp_pp_5 = gen_dp_model_params(\n",
    "    X_train, y_train, X_test, y_test,\n",
    "    trial_block_size, 'NB', 'gender_m', 'r_white_non_hisp')\n",
    "i = 5\n",
    "np.savetxt('./res/dpnb_full_{}.txt'.format(i),np.array(dp_pp_5))"
   ]
  },
  {
   "cell_type": "code",
   "execution_count": 19,
   "id": "1bc687de",
   "metadata": {},
   "outputs": [],
   "source": [
    "pp_dpnb = plot_data_from_files([\n",
    "    './res/dpnb_full_1.txt',\n",
    "    './res/dpnb_full_2.txt',\n",
    "    './res/dpnb_full_3.txt',\n",
    "    './res/dpnb_full_4.txt',\n",
    "    './res/dpnb_full_5.txt']\n",
    ")"
   ]
  },
  {
   "cell_type": "code",
   "execution_count": 20,
   "id": "cde19953",
   "metadata": {},
   "outputs": [
    {
     "name": "stdout",
     "output_type": "stream",
     "text": [
      "trained and scored baseline model\n"
     ]
    }
   ],
   "source": [
    "pp_nb = gen_reg_model_params(\n",
    "    X_train, y_train, X_test, y_test,\n",
    "    'NB', 'gender_m', 'r_white_non_hisp')"
   ]
  },
  {
   "cell_type": "code",
   "execution_count": 34,
   "id": "15126409",
   "metadata": {},
   "outputs": [
    {
     "data": {
      "image/png": "[encoded data removed]",
      "text/plain": [
       "<Figure size 432x288 with 1 Axes>"
      ]
     },
     "metadata": {},
     "output_type": "display_data"
    }
   ],
   "source": [
    "plot_params(\n",
    "    pp_nb,\n",
    "    pp_dpnb,\n",
    "    'NB (25 trails), full train',0.3)"
   ]
  },
  {
   "cell_type": "code",
   "execution_count": 22,
   "id": "a542e2d9",
   "metadata": {},
   "outputs": [
    {
     "name": "stdout",
     "output_type": "stream",
     "text": [
      "trained and scored dp models\n"
     ]
    }
   ],
   "source": [
    "dp_pp_1 = gen_dp_model_params(\n",
    "    X_train, y_train, X_test, y_test,\n",
    "    trial_block_size, 'LR', 'gender_m', 'r_white_non_hisp')\n",
    "i = 1\n",
    "np.savetxt('./res/dplr_full_{}.txt'.format(i),np.array(dp_pp_1))"
   ]
  },
  {
   "cell_type": "code",
   "execution_count": 23,
   "id": "c5cd804b",
   "metadata": {},
   "outputs": [
    {
     "name": "stdout",
     "output_type": "stream",
     "text": [
      "trained and scored dp models\n"
     ]
    }
   ],
   "source": [
    "dp_pp_2 = gen_dp_model_params(\n",
    "    X_train, y_train, X_test, y_test,\n",
    "    trial_block_size, 'LR', 'gender_m', 'r_white_non_hisp')\n",
    "i = 2\n",
    "np.savetxt('./res/dplr_full_{}.txt'.format(i),np.array(dp_pp_2))"
   ]
  },
  {
   "cell_type": "code",
   "execution_count": 24,
   "id": "8e1aa460",
   "metadata": {},
   "outputs": [
    {
     "name": "stdout",
     "output_type": "stream",
     "text": [
      "trained and scored dp models\n"
     ]
    }
   ],
   "source": [
    "dp_pp_3 = gen_dp_model_params(\n",
    "    X_train, y_train, X_test, y_test, \n",
    "    trial_block_size, 'LR', 'gender_m', 'r_white_non_hisp')\n",
    "i = 3\n",
    "np.savetxt('./res/dplr_full_{}.txt'.format(i),np.array(dp_pp_3))"
   ]
  },
  {
   "cell_type": "code",
   "execution_count": 25,
   "id": "6dda8442",
   "metadata": {},
   "outputs": [
    {
     "name": "stdout",
     "output_type": "stream",
     "text": [
      "trained and scored dp models\n"
     ]
    }
   ],
   "source": [
    "dp_pp_4 = gen_dp_model_params(\n",
    "    X_train, y_train, X_test, y_test,\n",
    "    trial_block_size, 'LR', 'gender_m', 'r_white_non_hisp')\n",
    "i = 4\n",
    "np.savetxt('./res/dplr_full_{}.txt'.format(i),np.array(dp_pp_4))"
   ]
  },
  {
   "cell_type": "code",
   "execution_count": 26,
   "id": "8ee0f58b",
   "metadata": {},
   "outputs": [
    {
     "name": "stdout",
     "output_type": "stream",
     "text": [
      "trained and scored dp models\n"
     ]
    }
   ],
   "source": [
    "dp_pp_5 = gen_dp_model_params(\n",
    "    X_train, y_train, X_test, y_test,\n",
    "    trial_block_size, 'LR', 'gender_m', 'r_white_non_hisp')\n",
    "i = 5\n",
    "np.savetxt('./res/dplr_full_{}.txt'.format(i),np.array(dp_pp_5))"
   ]
  },
  {
   "cell_type": "code",
   "execution_count": 27,
   "id": "56209dc9",
   "metadata": {},
   "outputs": [
    {
     "name": "stdout",
     "output_type": "stream",
     "text": [
      "trained and scored baseline model\n"
     ]
    }
   ],
   "source": [
    "pp_lr = gen_reg_model_params(\n",
    "    X_train, y_train, X_test, y_test,\n",
    "    'LR', 'gender_m', 'r_white_non_hisp')"
   ]
  },
  {
   "cell_type": "code",
   "execution_count": 28,
   "id": "f2ba944f",
   "metadata": {},
   "outputs": [],
   "source": [
    "pp_dplr = plot_data_from_files([\n",
    "    './res/dplr_full_1.txt',\n",
    "    './res/dplr_full_2.txt',\n",
    "    './res/dplr_full_3.txt',\n",
    "    './res/dplr_full_4.txt',\n",
    "    './res/dplr_full_5.txt']\n",
    ")"
   ]
  },
  {
   "cell_type": "code",
   "execution_count": 29,
   "id": "ce3b367b",
   "metadata": {},
   "outputs": [
    {
     "data": {
      "image/png": "[encoded data removed]",
      "text/plain": [
       "<Figure size 432x288 with 1 Axes>"
      ]
     },
     "metadata": {},
     "output_type": "display_data"
    }
   ],
   "source": [
    "plot_params(\n",
    "    pp_lr,\n",
    "    pp_dplr,\n",
    "    'LR (25 trails), full train',0.5)"
   ]
  },
  {
   "cell_type": "code",
   "execution_count": null,
   "id": "cf43f4dd",
   "metadata": {},
   "outputs": [],
   "source": []
  }
 ],
 "metadata": {
  "kernelspec": {
   "display_name": "Python 3",
   "language": "python",
   "name": "python3"
  },
  "language_info": {
   "codemirror_mode": {
    "name": "ipython",
    "version": 3
   },
   "file_extension": ".py",
   "mimetype": "text/x-python",
   "name": "python",
   "nbconvert_exporter": "python",
   "pygments_lexer": "ipython3",
   "version": "3.8.8"
  }
 },
 "nbformat": 4,
 "nbformat_minor": 5
}
