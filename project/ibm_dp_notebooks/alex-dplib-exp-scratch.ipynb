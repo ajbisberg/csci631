{
 "cells": [
  {
   "cell_type": "code",
   "execution_count": 1,
   "id": "485902f5",
   "metadata": {},
   "outputs": [],
   "source": [
    "import diffprivlib as dp\n",
    "from sklearn.naive_bayes import GaussianNB\n",
    "from sklearn.linear_model import LogisticRegression\n",
    "from sklearn.ensemble import RandomForestClassifier\n",
    "import pandas as pd\n",
    "import sklearn.preprocessing as preprocessing\n",
    "import sklearn.metrics as metrics\n",
    "import matplotlib.pyplot as plt\n",
    "from sklego.metrics import p_percent_score #demographic parity\n",
    "from sklego.metrics import equal_opportunity_score #equal opportunity\n",
    "from sklearn.metrics import accuracy_score\n",
    "import numpy as np\n",
    "np.random.seed(31415)\n",
    "import warnings\n",
    "warnings.filterwarnings(\"ignore\")\n",
    "from tqdm import tqdm"
   ]
  },
  {
   "cell_type": "code",
   "execution_count": 2,
   "id": "79c33087",
   "metadata": {},
   "outputs": [],
   "source": [
    "def get_classifier(cls_str, diffpriv=True, bounds=None, epsilon=None, acc=None):\n",
    "    '''\n",
    "\n",
    "    :param cls_str: one of ['NB', 'LR', 'RF']\n",
    "    :param diffpriv:Whether dp classifier or regular classifier\n",
    "    :param bounds:  Bounds of the data, provided as a tuple of the form (min, max).\n",
    "                    min and max can either be scalars, covering the min/max of the\n",
    "                    entire data, or vectors with one entry per feature. If not\n",
    "                    provided, the bounds are computed on the data when .fit() is\n",
    "                    first called, resulting in a PrivacyLeakWarning\n",
    "    :param epsilon: Privacy parameter for the model. default: 1.0\n",
    "    :param acc:     Accountant to keep track of privacy budget\n",
    "    :return:        The classifier instantiated\n",
    "    '''\n",
    "\n",
    "    if(cls_str == 'NB' and diffpriv == True):\n",
    "        return dp.models.GaussianNB(epsilon=epsilon, bounds=bounds, accountant=acc)\n",
    "    \n",
    "    elif(cls_str == 'NB' and diffpriv == False):\n",
    "        return GaussianNB()\n",
    "    \n",
    "    elif(cls_str == 'LR' and diffpriv == True):\n",
    "        return dp.models.LogisticRegression(epsilon=epsilon, bounds=bounds, accountant=acc)\n",
    "    \n",
    "    elif(cls_str == 'LR' and diffpriv == False):\n",
    "        return LogisticRegression(random_state=0)\n",
    "    \n",
    "    elif(cls_str == 'RF' and diffpriv == True):\n",
    "        return dp.models.RandomForestClassifier(epsilon=epsilon, bounds=bounds, accountant=acc)\n",
    "    \n",
    "    elif(cls_str == 'RF' and diffpriv == False):\n",
    "        return RandomForestClassifier(random_state=0)\n",
    "    \n",
    "    else:\n",
    "        print(\"Incorrect Classifier - must be one of ['NB', 'LR', 'RF']\")\n",
    "        return"
   ]
  },
  {
   "cell_type": "code",
   "execution_count": 3,
   "id": "d0dce737",
   "metadata": {},
   "outputs": [],
   "source": [
    "from math import floor\n",
    "def test_train_split(df,label_col):\n",
    "    test_frac = 0.2\n",
    "    train_frac = 1 - test_frac\n",
    "    train_size = floor(len(df)*train_frac)\n",
    "    test_size = len(df) - train_size\n",
    "    s_df = df.sample(frac=1,random_state=23)\n",
    "    X_train = df.loc[:, df.columns != label_col][:train_size]\n",
    "    y_train = df.loc[:,label_col][:train_size]\n",
    "    X_test = df.loc[:, df.columns != label_col][train_size:len(df)]\n",
    "    y_test = df.loc[:, label_col][train_size:len(df)]\n",
    "    return X_train, y_train, X_test, y_test"
   ]
  },
  {
   "cell_type": "markdown",
   "id": "0aea66de",
   "metadata": {},
   "source": [
    "# Load hosuing data"
   ]
  },
  {
   "cell_type": "code",
   "execution_count": 98,
   "id": "6cf981c9",
   "metadata": {},
   "outputs": [],
   "source": [
    "# save separate files for test training\n",
    "fm_2020 = pd.read_pickle('../../data/fm_2020_all.gz')"
   ]
  },
  {
   "cell_type": "code",
   "execution_count": 97,
   "id": "608f12a0",
   "metadata": {},
   "outputs": [
    {
     "data": {
      "text/plain": [
       "1       int32\n",
       "2       int32\n",
       "3       int32\n",
       "4       int32\n",
       "5       int32\n",
       "       ...   \n",
       "13    float64\n",
       "36    float64\n",
       "42    float64\n",
       "46    float64\n",
       "53    float64\n",
       "Length: 64, dtype: object"
      ]
     },
     "execution_count": 97,
     "metadata": {},
     "output_type": "execute_result"
    }
   ],
   "source": [
    "fm_2020.dtypes"
   ]
  },
  {
   "cell_type": "code",
   "execution_count": 66,
   "id": "a1feaf74",
   "metadata": {},
   "outputs": [],
   "source": [
    "fm_frac = fm_2020.sample(frac=1,random_state=31415)"
   ]
  },
  {
   "cell_type": "code",
   "execution_count": 94,
   "id": "325ccbf5",
   "metadata": {},
   "outputs": [
    {
     "data": {
      "text/plain": [
       "(4857624, 64)"
      ]
     },
     "execution_count": 94,
     "metadata": {},
     "output_type": "execute_result"
    }
   ],
   "source": [
    "fm_2020.shape"
   ]
  },
  {
   "cell_type": "code",
   "execution_count": 95,
   "id": "6d3b5a02",
   "metadata": {},
   "outputs": [],
   "source": [
    "out = []\n",
    "idx_cols = [1,2]\n",
    "geo_cols = \n",
    "float_cols = [7,10,13,36,42,46,53]\n",
    "for c in fm_2020.columns:\n",
    "    if c not in float_cols:\n",
    "        out.append([c,len(fm_frac[c].unique())])"
   ]
  },
  {
   "cell_type": "code",
   "execution_count": 96,
   "id": "f66a1d0b",
   "metadata": {},
   "outputs": [
    {
     "data": {
      "text/html": [
       "<div>\n",
       "<style scoped>\n",
       "    .dataframe tbody tr th:only-of-type {\n",
       "        vertical-align: middle;\n",
       "    }\n",
       "\n",
       "    .dataframe tbody tr th {\n",
       "        vertical-align: top;\n",
       "    }\n",
       "\n",
       "    .dataframe thead th {\n",
       "        text-align: right;\n",
       "    }\n",
       "</style>\n",
       "<table border=\"1\" class=\"dataframe\">\n",
       "  <thead>\n",
       "    <tr style=\"text-align: right;\">\n",
       "      <th></th>\n",
       "      <th>col</th>\n",
       "      <th>n_unique</th>\n",
       "    </tr>\n",
       "  </thead>\n",
       "  <tbody>\n",
       "    <tr>\n",
       "      <th>4</th>\n",
       "      <td>8</td>\n",
       "      <td>38581</td>\n",
       "    </tr>\n",
       "    <tr>\n",
       "      <th>3</th>\n",
       "      <td>6</td>\n",
       "      <td>23538</td>\n",
       "    </tr>\n",
       "    <tr>\n",
       "      <th>44</th>\n",
       "      <td>54</td>\n",
       "      <td>17254</td>\n",
       "    </tr>\n",
       "    <tr>\n",
       "      <th>6</th>\n",
       "      <td>11</td>\n",
       "      <td>2601</td>\n",
       "    </tr>\n",
       "    <tr>\n",
       "      <th>5</th>\n",
       "      <td>9</td>\n",
       "      <td>1250</td>\n",
       "    </tr>\n",
       "    <tr>\n",
       "      <th>47</th>\n",
       "      <td>57</td>\n",
       "      <td>534</td>\n",
       "    </tr>\n",
       "    <tr>\n",
       "      <th>7</th>\n",
       "      <td>12</td>\n",
       "      <td>440</td>\n",
       "    </tr>\n",
       "    <tr>\n",
       "      <th>1</th>\n",
       "      <td>4</td>\n",
       "      <td>394</td>\n",
       "    </tr>\n",
       "    <tr>\n",
       "      <th>2</th>\n",
       "      <td>5</td>\n",
       "      <td>324</td>\n",
       "    </tr>\n",
       "    <tr>\n",
       "      <th>36</th>\n",
       "      <td>44</td>\n",
       "      <td>265</td>\n",
       "    </tr>\n",
       "    <tr>\n",
       "      <th>8</th>\n",
       "      <td>14</td>\n",
       "      <td>145</td>\n",
       "    </tr>\n",
       "    <tr>\n",
       "      <th>38</th>\n",
       "      <td>47</td>\n",
       "      <td>144</td>\n",
       "    </tr>\n",
       "    <tr>\n",
       "      <th>0</th>\n",
       "      <td>3</td>\n",
       "      <td>55</td>\n",
       "    </tr>\n",
       "    <tr>\n",
       "      <th>45</th>\n",
       "      <td>55</td>\n",
       "      <td>10</td>\n",
       "    </tr>\n",
       "    <tr>\n",
       "      <th>28</th>\n",
       "      <td>34</td>\n",
       "      <td>8</td>\n",
       "    </tr>\n",
       "    <tr>\n",
       "      <th>27</th>\n",
       "      <td>33</td>\n",
       "      <td>8</td>\n",
       "    </tr>\n",
       "    <tr>\n",
       "      <th>13</th>\n",
       "      <td>19</td>\n",
       "      <td>8</td>\n",
       "    </tr>\n",
       "    <tr>\n",
       "      <th>19</th>\n",
       "      <td>25</td>\n",
       "      <td>7</td>\n",
       "    </tr>\n",
       "    <tr>\n",
       "      <th>11</th>\n",
       "      <td>17</td>\n",
       "      <td>7</td>\n",
       "    </tr>\n",
       "    <tr>\n",
       "      <th>25</th>\n",
       "      <td>31</td>\n",
       "      <td>5</td>\n",
       "    </tr>\n",
       "    <tr>\n",
       "      <th>41</th>\n",
       "      <td>50</td>\n",
       "      <td>5</td>\n",
       "    </tr>\n",
       "    <tr>\n",
       "      <th>43</th>\n",
       "      <td>52</td>\n",
       "      <td>5</td>\n",
       "    </tr>\n",
       "    <tr>\n",
       "      <th>14</th>\n",
       "      <td>20</td>\n",
       "      <td>5</td>\n",
       "    </tr>\n",
       "    <tr>\n",
       "      <th>26</th>\n",
       "      <td>32</td>\n",
       "      <td>5</td>\n",
       "    </tr>\n",
       "    <tr>\n",
       "      <th>46</th>\n",
       "      <td>56</td>\n",
       "      <td>5</td>\n",
       "    </tr>\n",
       "    <tr>\n",
       "      <th>20</th>\n",
       "      <td>26</td>\n",
       "      <td>5</td>\n",
       "    </tr>\n",
       "    <tr>\n",
       "      <th>18</th>\n",
       "      <td>24</td>\n",
       "      <td>5</td>\n",
       "    </tr>\n",
       "    <tr>\n",
       "      <th>24</th>\n",
       "      <td>30</td>\n",
       "      <td>4</td>\n",
       "    </tr>\n",
       "    <tr>\n",
       "      <th>37</th>\n",
       "      <td>45</td>\n",
       "      <td>4</td>\n",
       "    </tr>\n",
       "    <tr>\n",
       "      <th>15</th>\n",
       "      <td>21</td>\n",
       "      <td>4</td>\n",
       "    </tr>\n",
       "    <tr>\n",
       "      <th>9</th>\n",
       "      <td>15</td>\n",
       "      <td>4</td>\n",
       "    </tr>\n",
       "    <tr>\n",
       "      <th>21</th>\n",
       "      <td>27</td>\n",
       "      <td>4</td>\n",
       "    </tr>\n",
       "    <tr>\n",
       "      <th>42</th>\n",
       "      <td>51</td>\n",
       "      <td>4</td>\n",
       "    </tr>\n",
       "    <tr>\n",
       "      <th>10</th>\n",
       "      <td>16</td>\n",
       "      <td>3</td>\n",
       "    </tr>\n",
       "    <tr>\n",
       "      <th>40</th>\n",
       "      <td>49</td>\n",
       "      <td>3</td>\n",
       "    </tr>\n",
       "    <tr>\n",
       "      <th>39</th>\n",
       "      <td>48</td>\n",
       "      <td>3</td>\n",
       "    </tr>\n",
       "    <tr>\n",
       "      <th>16</th>\n",
       "      <td>22</td>\n",
       "      <td>3</td>\n",
       "    </tr>\n",
       "    <tr>\n",
       "      <th>54</th>\n",
       "      <td>64</td>\n",
       "      <td>3</td>\n",
       "    </tr>\n",
       "    <tr>\n",
       "      <th>34</th>\n",
       "      <td>41</td>\n",
       "      <td>3</td>\n",
       "    </tr>\n",
       "    <tr>\n",
       "      <th>33</th>\n",
       "      <td>40</td>\n",
       "      <td>3</td>\n",
       "    </tr>\n",
       "    <tr>\n",
       "      <th>29</th>\n",
       "      <td>35</td>\n",
       "      <td>3</td>\n",
       "    </tr>\n",
       "    <tr>\n",
       "      <th>22</th>\n",
       "      <td>28</td>\n",
       "      <td>3</td>\n",
       "    </tr>\n",
       "    <tr>\n",
       "      <th>12</th>\n",
       "      <td>18</td>\n",
       "      <td>2</td>\n",
       "    </tr>\n",
       "    <tr>\n",
       "      <th>49</th>\n",
       "      <td>59</td>\n",
       "      <td>2</td>\n",
       "    </tr>\n",
       "    <tr>\n",
       "      <th>53</th>\n",
       "      <td>63</td>\n",
       "      <td>2</td>\n",
       "    </tr>\n",
       "    <tr>\n",
       "      <th>52</th>\n",
       "      <td>62</td>\n",
       "      <td>2</td>\n",
       "    </tr>\n",
       "    <tr>\n",
       "      <th>51</th>\n",
       "      <td>61</td>\n",
       "      <td>2</td>\n",
       "    </tr>\n",
       "    <tr>\n",
       "      <th>50</th>\n",
       "      <td>60</td>\n",
       "      <td>2</td>\n",
       "    </tr>\n",
       "    <tr>\n",
       "      <th>23</th>\n",
       "      <td>29</td>\n",
       "      <td>2</td>\n",
       "    </tr>\n",
       "    <tr>\n",
       "      <th>48</th>\n",
       "      <td>58</td>\n",
       "      <td>2</td>\n",
       "    </tr>\n",
       "    <tr>\n",
       "      <th>17</th>\n",
       "      <td>23</td>\n",
       "      <td>2</td>\n",
       "    </tr>\n",
       "    <tr>\n",
       "      <th>31</th>\n",
       "      <td>38</td>\n",
       "      <td>2</td>\n",
       "    </tr>\n",
       "    <tr>\n",
       "      <th>35</th>\n",
       "      <td>43</td>\n",
       "      <td>2</td>\n",
       "    </tr>\n",
       "    <tr>\n",
       "      <th>30</th>\n",
       "      <td>37</td>\n",
       "      <td>1</td>\n",
       "    </tr>\n",
       "    <tr>\n",
       "      <th>32</th>\n",
       "      <td>39</td>\n",
       "      <td>1</td>\n",
       "    </tr>\n",
       "  </tbody>\n",
       "</table>\n",
       "</div>"
      ],
      "text/plain": [
       "    col  n_unique\n",
       "4     8     38581\n",
       "3     6     23538\n",
       "44   54     17254\n",
       "6    11      2601\n",
       "5     9      1250\n",
       "47   57       534\n",
       "7    12       440\n",
       "1     4       394\n",
       "2     5       324\n",
       "36   44       265\n",
       "8    14       145\n",
       "38   47       144\n",
       "0     3        55\n",
       "45   55        10\n",
       "28   34         8\n",
       "27   33         8\n",
       "13   19         8\n",
       "19   25         7\n",
       "11   17         7\n",
       "25   31         5\n",
       "41   50         5\n",
       "43   52         5\n",
       "14   20         5\n",
       "26   32         5\n",
       "46   56         5\n",
       "20   26         5\n",
       "18   24         5\n",
       "24   30         4\n",
       "37   45         4\n",
       "15   21         4\n",
       "9    15         4\n",
       "21   27         4\n",
       "42   51         4\n",
       "10   16         3\n",
       "40   49         3\n",
       "39   48         3\n",
       "16   22         3\n",
       "54   64         3\n",
       "34   41         3\n",
       "33   40         3\n",
       "29   35         3\n",
       "22   28         3\n",
       "12   18         2\n",
       "49   59         2\n",
       "53   63         2\n",
       "52   62         2\n",
       "51   61         2\n",
       "50   60         2\n",
       "23   29         2\n",
       "48   58         2\n",
       "17   23         2\n",
       "31   38         2\n",
       "35   43         2\n",
       "30   37         1\n",
       "32   39         1"
      ]
     },
     "execution_count": 96,
     "metadata": {},
     "output_type": "execute_result"
    }
   ],
   "source": [
    "pd.DataFrame(data=out,columns = ['col','n_unique']).sort_values('n_unique',ascending=False)"
   ]
  },
  {
   "cell_type": "code",
   "execution_count": 33,
   "id": "7116c1b5",
   "metadata": {},
   "outputs": [],
   "source": [
    "bins = np.arange(1.5,7.5,0.5)\n",
    "fm_ir_bins = pd.cut(fm_frac.loc[:,46],bins=bins,labels=False,include_lowest=True)"
   ]
  },
  {
   "cell_type": "code",
   "execution_count": 34,
   "id": "08c5e1c1",
   "metadata": {},
   "outputs": [],
   "source": [
    "fm_frac['ir_bin'] = fm_ir_bins.apply(lambda x: bins[x])"
   ]
  },
  {
   "cell_type": "code",
   "execution_count": 62,
   "id": "950f87e2",
   "metadata": {},
   "outputs": [
    {
     "name": "stdout",
     "output_type": "stream",
     "text": [
      "0.27095573552480434\n"
     ]
    }
   ],
   "source": [
    "# remove 1 & 2 - index fields\n",
    "# remove 46 - interest rate (label)\n",
    "model_data = fm_frac.loc[:,\n",
    "    (fm_frac.columns != 1) & (fm_frac.columns != 2) & (fm_frac.columns != 46)\n",
    "]\n",
    "full_len = len(model_data)\n",
    "\n",
    "# filter data to get gender a binary column - male (1) and female (2)\n",
    "# male = 0, female = 1\n",
    "model_data = model_data.loc[(model_data[31] == 1) | (model_data[31] == 1)]\n",
    "model_data[31] = model_data[31].replace(1, 0).replace(2, 1)\n",
    "\n",
    "# filter data to get race a binary column - white (3) and black (5)\n",
    "# black = 0, white = 1\n",
    "model_data = model_data.loc[(model_data[25] == 3) | (model_data[25] == 5)]\n",
    "model_data[25] = model_data[25].replace(5, 0).replace(3, 1)\n",
    "\n",
    "print(len(model_data)/full_len)\n",
    "X_train, y_train, X_test, y_test = test_train_split(model_data,'ir_bin')"
   ]
  },
  {
   "cell_type": "code",
   "execution_count": 12,
   "id": "8840e15a",
   "metadata": {},
   "outputs": [],
   "source": [
    "nb = get_classifier('NB',diffpriv=False)"
   ]
  },
  {
   "cell_type": "code",
   "execution_count": 13,
   "id": "daa18eec",
   "metadata": {},
   "outputs": [],
   "source": [
    "dp_nb = get_classifier('NB',epsilon=0.1)"
   ]
  },
  {
   "cell_type": "code",
   "execution_count": 14,
   "id": "8fd944e4",
   "metadata": {},
   "outputs": [
    {
     "data": {
      "text/plain": [
       "GaussianNB(accountant=BudgetAccountant(spent_budget=[(0.1, 0)]),\n",
       "           bounds=(array([0.000e+00, 0.000e+00, 0.000e+00, 0.000e+00, 2.499e+03, 1.934e+04,\n",
       "       0.000e+00, 1.820e+04, 5.000e+03, 1.000e+00, 1.000e+00, 1.000e+00,\n",
       "       1.000e+00, 1.000e+00, 1.000e+00, 1.000e+00, 1.000e+00, 1.000e+00,\n",
       "       1.000e+00, 1.000e+00, 1.000e+00, 1.000e+00, 1.000e+00, 1.000e+00,\n",
       "       1.000e+00, 1.000e+00, 1.000e+00, 1....\n",
       "       1.000000e+00, 9.000000e+00, 9.000000e+00, 2.000000e+00,\n",
       "       3.600000e+02, 4.000000e+00, 1.475000e+06, 9.000000e+00,\n",
       "       9.000000e+00, 9.000000e+00, 9.000000e+00, 1.000000e+01,\n",
       "       1.050000e+06, 9.990000e+02, 9.000000e+00, 3.820050e+08,\n",
       "       1.000000e+00, 1.000000e+00, 1.000000e+00, 1.000000e+00,\n",
       "       1.000000e+00, 1.000000e+00, 1.000000e+00, 9.999000e+03,\n",
       "       9.999000e+03, 2.027042e+02, 6.790000e+00, 1.190000e+02,\n",
       "       9.900000e+01])),\n",
       "           epsilon=0.1)"
      ]
     },
     "execution_count": 14,
     "metadata": {},
     "output_type": "execute_result"
    }
   ],
   "source": [
    "dp_nb.fit(X_train, y_train.astype('str'))"
   ]
  },
  {
   "cell_type": "code",
   "execution_count": 15,
   "id": "2c325563",
   "metadata": {},
   "outputs": [],
   "source": [
    "dp_nb_preds = dp_nb.predict(X_test)"
   ]
  },
  {
   "cell_type": "code",
   "execution_count": 16,
   "id": "3d603455",
   "metadata": {
    "scrolled": true
   },
   "outputs": [
    {
     "data": {
      "text/plain": [
       "0.3593288901469339"
      ]
     },
     "execution_count": 16,
     "metadata": {},
     "output_type": "execute_result"
    }
   ],
   "source": [
    "accuracy_score(dp_nb_preds,y_test.astype('str'))"
   ]
  },
  {
   "cell_type": "code",
   "execution_count": 17,
   "id": "d448db72",
   "metadata": {},
   "outputs": [],
   "source": [
    "dp_nb_1 = get_classifier('NB',epsilon=1)"
   ]
  },
  {
   "cell_type": "code",
   "execution_count": 18,
   "id": "f89b9f94",
   "metadata": {},
   "outputs": [
    {
     "data": {
      "text/plain": [
       "GaussianNB(accountant=BudgetAccountant(spent_budget=[(0.1, 0), (1, 0)]),\n",
       "           bounds=(array([0.000e+00, 0.000e+00, 0.000e+00, 0.000e+00, 2.499e+03, 1.934e+04,\n",
       "       0.000e+00, 1.820e+04, 5.000e+03, 1.000e+00, 1.000e+00, 1.000e+00,\n",
       "       1.000e+00, 1.000e+00, 1.000e+00, 1.000e+00, 1.000e+00, 1.000e+00,\n",
       "       1.000e+00, 1.000e+00, 1.000e+00, 1.000e+00, 1.000e+00, 1.000e+00,\n",
       "       1.000e+00, 1.000e+00, 1.000e...\n",
       "       1.000000e+00, 9.000000e+00, 9.000000e+00, 2.000000e+00,\n",
       "       3.600000e+02, 4.000000e+00, 1.475000e+06, 9.000000e+00,\n",
       "       9.000000e+00, 9.000000e+00, 9.000000e+00, 1.000000e+01,\n",
       "       1.050000e+06, 9.990000e+02, 9.000000e+00, 3.820050e+08,\n",
       "       1.000000e+00, 1.000000e+00, 1.000000e+00, 1.000000e+00,\n",
       "       1.000000e+00, 1.000000e+00, 1.000000e+00, 9.999000e+03,\n",
       "       9.999000e+03, 2.027042e+02, 6.790000e+00, 1.190000e+02,\n",
       "       9.900000e+01])),\n",
       "           epsilon=1)"
      ]
     },
     "execution_count": 18,
     "metadata": {},
     "output_type": "execute_result"
    }
   ],
   "source": [
    "dp_nb_1.fit(X_train, y_train.astype('str'))"
   ]
  },
  {
   "cell_type": "code",
   "execution_count": 19,
   "id": "85649cfa",
   "metadata": {},
   "outputs": [],
   "source": [
    "dp_nb_1_preds = dp_nb_1.predict(X_test)"
   ]
  },
  {
   "cell_type": "code",
   "execution_count": 20,
   "id": "0a986f9d",
   "metadata": {},
   "outputs": [
    {
     "data": {
      "text/plain": [
       "0.3956727824811508"
      ]
     },
     "execution_count": 20,
     "metadata": {},
     "output_type": "execute_result"
    }
   ],
   "source": [
    "accuracy_score(dp_nb_1_preds,y_test.astype('str'))"
   ]
  },
  {
   "cell_type": "code",
   "execution_count": 21,
   "id": "01e97713",
   "metadata": {},
   "outputs": [
    {
     "data": {
      "text/plain": [
       "GaussianNB()"
      ]
     },
     "execution_count": 21,
     "metadata": {},
     "output_type": "execute_result"
    }
   ],
   "source": [
    "nb.fit(X_train, y_train.astype('str'))"
   ]
  },
  {
   "cell_type": "code",
   "execution_count": 97,
   "id": "60b46737",
   "metadata": {},
   "outputs": [],
   "source": [
    "nb_preds = nb.predict(X_test)"
   ]
  },
  {
   "cell_type": "code",
   "execution_count": 98,
   "id": "15d24c28",
   "metadata": {},
   "outputs": [
    {
     "data": {
      "text/plain": [
       "0.20148631539942152"
      ]
     },
     "execution_count": 98,
     "metadata": {},
     "output_type": "execute_result"
    }
   ],
   "source": [
    "accuracy_score(nb_preds,y_test.astype('str'))"
   ]
  },
  {
   "cell_type": "code",
   "execution_count": 100,
   "id": "bd397c49",
   "metadata": {},
   "outputs": [
    {
     "data": {
      "text/plain": [
       "[1.5, 2.0, 2.5, 3.0, 3.5, 4.0, 4.5, 5.0, 5.5, 6.0]"
      ]
     },
     "execution_count": 100,
     "metadata": {},
     "output_type": "execute_result"
    }
   ],
   "source": [
    "sorted(y_test.unique())"
   ]
  },
  {
   "cell_type": "markdown",
   "id": "9972dffa",
   "metadata": {},
   "source": [
    "### Plot classifier params"
   ]
  },
  {
   "cell_type": "code",
   "execution_count": 63,
   "id": "6a0baec0",
   "metadata": {},
   "outputs": [],
   "source": [
    "def smooth(scalars, weight):  # Weight between 0 and 1\n",
    "    last = scalars[0]  # First value in the plot (first timestep)\n",
    "    smoothed = list()\n",
    "    for point in scalars:\n",
    "        smoothed_val = last * weight + (1 - weight) * point  # Calculate smoothed value\n",
    "        smoothed.append(smoothed_val)                        # Save it\n",
    "        last = smoothed_val                                  # Anchor the last smoothed value        \n",
    "    return smoothed\n",
    "\n",
    "\n",
    "def plot_params(X_train, y_train, X_test, y_test, num_trials, cls_str, sex_col='Sex', race_col='Race'):\n",
    "    \n",
    "    eps_list = np.logspace(-2, 2, 10)\n",
    "    acc_list = []\n",
    "    dem_parity_list_gender = []\n",
    "    dem_parity_list_race = []\n",
    "    eq_opp_list_gender = []\n",
    "    eq_opp_list_race = []\n",
    "    acc_score = np.zeros((num_trials, len(eps_list)))\n",
    "    dem_parity_score_gender = np.zeros((num_trials, len(eps_list)))\n",
    "    dem_parity_score_race = np.zeros((num_trials, len(eps_list)))\n",
    "    eq_opp_score_gender = np.zeros((num_trials, len(eps_list)))\n",
    "    eq_opp_score_race = np.zeros((num_trials, len(eps_list)))\n",
    "\n",
    "    for i in tqdm(range(num_trials)):    \n",
    "        for j,eps in enumerate(eps_list):\n",
    "            clf = get_classifier(cls_str, diffpriv=True, epsilon=eps)\n",
    "            clf.fit(X_train,y_train)\n",
    "#             import pdb; pdb.set_trace()\n",
    "            acc_score[i,j] = clf.score(X_test, y_test)\n",
    "            # fairness metrics need the sensitive column to be binary {0,1}. Cannot normalize!\n",
    "            dem_parity_score_gender[i,j] = p_percent_score(sensitive_column=sex_col)(clf, X_train)\n",
    "            dem_parity_score_race[i,j] = p_percent_score(sensitive_column=race_col)(clf, X_train)\n",
    "            eq_opp_score_gender[i,j] = equal_opportunity_score(sensitive_column=sex_col)(clf, X_train, y_train)\n",
    "            eq_opp_score_race[i,j] = equal_opportunity_score(sensitive_column=race_col)(clf, X_train, y_train)\n",
    "\n",
    "    clf = get_classifier(cls_str, diffpriv=False)\n",
    "    clf.fit(X_train,y_train)\n",
    "    acc = clf.score(X_test, y_test)\n",
    "    dp_g = p_percent_score(sensitive_column=sex_col)(clf, X_train)\n",
    "    dp_r = p_percent_score(sensitive_column=race_col)(clf, X_train)\n",
    "    eo_g = equal_opportunity_score(sensitive_column=sex_col)(clf, X_train, y_train)\n",
    "    eo_r = equal_opportunity_score(sensitive_column=race_col)(clf, X_train, y_train)\n",
    "    \n",
    "    acc_list = np.mean(acc_score, axis=0)        \n",
    "    dem_parity_list_gender = np.mean(dem_parity_score_gender, axis=0)\n",
    "    dem_parity_list_race = np.mean(dem_parity_score_race, axis=0)\n",
    "    eq_opp_list_gender = np.mean(eq_opp_score_gender, axis=0)\n",
    "    eq_opp_list_race = np.mean(eq_opp_score_race, axis=0)\n",
    "    \n",
    "    plt.suptitle(cls_str + ' Classifier Accuracy and Fairness Metrics vs Epsilon') \n",
    "    plt.title('Dashed and Solid Lines for Standard and Private Classifiers', fontsize='small')\n",
    "    plt.axhline(acc, color='r', linestyle='--')\n",
    "    plt.axhline(dp_g, color='g', linestyle='--')\n",
    "    plt.axhline(dp_r, color='b', linestyle='--')\n",
    "    plt.axhline(eo_g, color='m', linestyle='--')\n",
    "    plt.axhline(eo_r, color='y', linestyle='--')   \n",
    "    \n",
    "    plt.semilogx(eps_list, smooth(acc_list,0.9), label='Accuracy', color='r')\n",
    "    plt.semilogx(eps_list, smooth(dem_parity_list_gender,0.9), label='Dem Par Gender', color='g')\n",
    "    plt.semilogx(eps_list, smooth(dem_parity_list_race,0.9), label='Dem Par Race', color='b')\n",
    "    plt.semilogx(eps_list, smooth(eq_opp_list_gender,0.9), label='Eq Opp Gender', color='m')\n",
    "    plt.semilogx(eps_list, smooth(eq_opp_list_race,0.9), label='Eq Opp Gender', color='y')\n",
    "    plt.legend(loc='center left', bbox_to_anchor=(1, 0.5))\n",
    "    plt.ylim(0,1)\n",
    "    plt.xlabel('Epsilon')\n",
    "    plt.ylabel('Accuracy / Fairness')\n",
    "    \n",
    "    plt.savefig('plots/'+cls_str+'.png', dpi=75)\n",
    "    plt.show()\n",
    "    return {\n",
    "        ''\n",
    "    }"
   ]
  },
  {
   "cell_type": "code",
   "execution_count": 64,
   "id": "2c1b9310",
   "metadata": {
    "scrolled": false
   },
   "outputs": [
    {
     "name": "stderr",
     "output_type": "stream",
     "text": [
      "100%|██████████| 50/50 [22:24<00:00, 26.89s/it]\n"
     ]
    },
    {
     "data": {
      "image/png": "[encoded data removed]",
      "text/plain": [
       "<Figure size 432x288 with 1 Axes>"
      ]
     },
     "metadata": {
      "needs_background": "light"
     },
     "output_type": "display_data"
    }
   ],
   "source": [
    "plot_params(\n",
    "    X_train, \n",
    "    y_train.astype('str'), \n",
    "    X_test, \n",
    "    y_test.astype('str'), \n",
    "    50, \n",
    "    'NB', \n",
    "    sex_col=31,\n",
    "    race_col=25)"
   ]
  },
  {
   "cell_type": "code",
   "execution_count": 10,
   "id": "082d0398",
   "metadata": {},
   "outputs": [
    {
     "name": "stderr",
     "output_type": "stream",
     "text": [
      "100%|███████████████████████████████████████████| 50/50 [10:21<00:00, 12.43s/it]\n"
     ]
    },
    {
     "data": {
      "image/png": "[encoded data removed]",
      "text/plain": [
       "<Figure size 432x288 with 1 Axes>"
      ]
     },
     "metadata": {
      "needs_background": "light"
     },
     "output_type": "display_data"
    }
   ],
   "source": [
    "plot_params(X_train, y_train, X_test, y_test, 50, 'LR')"
   ]
  },
  {
   "cell_type": "markdown",
   "id": "6fc9d0c2",
   "metadata": {},
   "source": [
    "## Varuns stuff below\n",
    "____________________"
   ]
  },
  {
   "cell_type": "markdown",
   "id": "4e425751",
   "metadata": {},
   "source": [
    "# Preprocess Income Data"
   ]
  },
  {
   "cell_type": "code",
   "execution_count": 3,
   "id": "88ca8ca1",
   "metadata": {},
   "outputs": [],
   "source": [
    "features = [\"Age\", \"Workclass\", \"fnlwgt\", \"Education\", \"Education-Num\", \"Martial Status\",\n",
    "        \"Occupation\", \"Relationship\", \"Race\", \"Sex\", \"Capital Gain\", \"Capital Loss\",\n",
    "        \"Hours per week\", \"Country\", \"Target\"] \n",
    "\n",
    "train_url = '../data/income/adult.data'\n",
    "# 'https://archive.ics.uci.edu/ml/machine-learning-databases/adult/adult.data'\n",
    "test_url = '../data/income/adult.test'\n",
    "# 'https://archive.ics.uci.edu/ml/machine-learning-databases/adult/adult.test'\n",
    "\n",
    "# 3.8M\n",
    "original_train = pd.read_csv(train_url, names=features, sep=r'\\s*,\\s*', \n",
    "                             engine='python', na_values=\"?\")\n",
    "original_train = original_train[(original_train['Race']=='Black') | (original_train['Race'] == 'White')]\n",
    "\n",
    "# 1.9M\n",
    "original_test = pd.read_csv(test_url, names=features, sep=r'\\s*,\\s*', \n",
    "                            engine='python', na_values=\"?\", skiprows=1)\n",
    "original_test = original_test[(original_test['Race']=='Black') | (original_test['Race'] == 'White')]\n",
    "\n",
    "num_train = len(original_train)\n",
    "original = pd.concat([original_train, original_test])\n",
    "roc_original = original\n",
    "labels = original['Target']\n",
    "labels = labels.replace('<=50K', 0).replace('>50K', 1)\n",
    "labels = labels.replace('<=50K.', 0).replace('>50K.', 1)\n",
    "# Redundant column, Education-Num is already present\n",
    "del original[\"Education\"]\n",
    "# Remove target variable since we've already binarized to labels variable\n",
    "del original[\"Target\"]\n",
    "original.Sex = original.Sex.replace({'Male': 1, 'Female': 0})\n",
    "original.Race = original.Race.replace({'White': 1, 'Black': 0})\n",
    "\n",
    "#binarize all the categorical values\n",
    "binary_data = pd.get_dummies(original) # n x 13 -> n x 83\n",
    "\n",
    "X_train = binary_data[:num_train]\n",
    "y_train = labels[:num_train]\n",
    "X_test = binary_data[num_train:]\n",
    "y_test = labels[num_train:]"
   ]
  },
  {
   "cell_type": "markdown",
   "id": "2dc63611",
   "metadata": {},
   "source": [
    "# Data Distribution"
   ]
  },
  {
   "cell_type": "code",
   "execution_count": 4,
   "id": "4554f8c2",
   "metadata": {
    "scrolled": false
   },
   "outputs": [
    {
     "name": "stdout",
     "output_type": "stream",
     "text": [
      "0.10096961861667744 0.08846153846153847 0.01250808015513898\n",
      "0.8990303813833226 0.6690045248868778 0.23002585649644472\n",
      "0.3295733678086619 0.29343891402714933 0.03613445378151261\n",
      "0.670426632191338 0.464027149321267 0.2063994828700711\n"
     ]
    }
   ],
   "source": [
    "n1 = len(original_train[ (original_train['Race']=='Black') & (original_train['Target'] == '<=50K')])\n",
    "n2 = len(original_train[(original_train['Race']=='Black') & (original_train['Target'] == '>50K')])\n",
    "n3 = len(original_train[(original_train['Race']=='White') & (original_train['Target'] == '<=50K')])\n",
    "n4 = len(original_train[(original_train['Race']=='White') & (original_train['Target'] == '>50K')])\n",
    "n5 = len(original_train[(original_train['Sex']=='Female') & (original_train['Target'] == '<=50K')])\n",
    "n6 = len(original_train[(original_train['Sex']=='Female') & (original_train['Target'] == '>50K')])\n",
    "n7 = len(original_train[(original_train['Sex']=='Male') & (original_train['Target'] == '<=50K')])\n",
    "n8 = len(original_train[(original_train['Sex']=='Male') & (original_train['Target'] == '>50K')])\n",
    "\n",
    "black_perc = (n1+n2)/num_train\n",
    "black_0 = n1/num_train\n",
    "black_1 = n2/num_train\n",
    "\n",
    "white_perc = (n3+n4)/num_train\n",
    "white_0 = n3/num_train\n",
    "white_1 = n4/num_train\n",
    "\n",
    "female_perc = (n5+n6)/num_train\n",
    "female_0 = n5/num_train\n",
    "female_1 = n6/num_train\n",
    "\n",
    "male_perc = (n7+n8)/num_train\n",
    "male_0 = n7/num_train\n",
    "male_1 = n8/num_train\n",
    "\n",
    "print(black_perc, black_0, black_1)\n",
    "print(white_perc, white_0, white_1)\n",
    "print(female_perc, female_0, female_1)\n",
    "print(male_perc, male_0, male_1)"
   ]
  },
  {
   "cell_type": "code",
   "execution_count": 5,
   "id": "9f172817",
   "metadata": {},
   "outputs": [],
   "source": [
    "total_black = len(original_train[original_train['Race']=='Black'])\n",
    "total_white = len(original_train[original_train['Race']=='White'])\n",
    "total_male = len(original_train[original_train['Sex']=='Male'])\n",
    "total_female = len(original_train[original_train['Sex']=='Female'])\n",
    "black = original_train[original_train['Race']=='Black']\n",
    "white = original_train[original_train['Race']=='White']\n",
    "male = original_train[original_train['Sex']=='Male']\n",
    "female = original_train[original_train['Sex']=='Female']"
   ]
  },
  {
   "cell_type": "code",
   "execution_count": 6,
   "id": "316f0c29",
   "metadata": {},
   "outputs": [
    {
     "data": {
      "text/html": [
       "<div>\n",
       "<style scoped>\n",
       "    .dataframe tbody tr th:only-of-type {\n",
       "        vertical-align: middle;\n",
       "    }\n",
       "\n",
       "    .dataframe tbody tr th {\n",
       "        vertical-align: top;\n",
       "    }\n",
       "\n",
       "    .dataframe thead th {\n",
       "        text-align: right;\n",
       "    }\n",
       "</style>\n",
       "<table border=\"1\" class=\"dataframe\">\n",
       "  <thead>\n",
       "    <tr style=\"text-align: right;\">\n",
       "      <th></th>\n",
       "      <th>&lt;=50K</th>\n",
       "      <th>&gt;50K</th>\n",
       "    </tr>\n",
       "  </thead>\n",
       "  <tbody>\n",
       "    <tr>\n",
       "      <th>Black</th>\n",
       "      <td>0.87612</td>\n",
       "      <td>0.12388</td>\n",
       "    </tr>\n",
       "    <tr>\n",
       "      <th>White</th>\n",
       "      <td>0.74414</td>\n",
       "      <td>0.25586</td>\n",
       "    </tr>\n",
       "  </tbody>\n",
       "</table>\n",
       "</div>"
      ],
      "text/plain": [
       "         <=50K     >50K\n",
       "Black  0.87612  0.12388\n",
       "White  0.74414  0.25586"
      ]
     },
     "execution_count": 6,
     "metadata": {},
     "output_type": "execute_result"
    }
   ],
   "source": [
    "# Race\n",
    "black_less50K = len(black[(black.Target == '<=50K') | (black.Target == '<=50K.')])/total_black\n",
    "black_greater50K = len(black[(black.Target == '>50K') | (black.Target == '>50K.')])/total_black\n",
    "white_less50K = len(white[(white.Target == '<=50K') | (white.Target == '<=50K.')])/total_white\n",
    "white_greater50K = len(white[(white.Target == '>50K') | (white.Target == '>50K.')])/total_white\n",
    "\n",
    "target_percent = pd.DataFrame({'<=50K': [black_less50K, white_less50K], '>50K': [black_greater50K, white_greater50K]}, index=['Black', 'White'])\n",
    "target_percent"
   ]
  },
  {
   "cell_type": "code",
   "execution_count": 7,
   "id": "d9a09736",
   "metadata": {},
   "outputs": [
    {
     "data": {
      "text/html": [
       "<div>\n",
       "<style scoped>\n",
       "    .dataframe tbody tr th:only-of-type {\n",
       "        vertical-align: middle;\n",
       "    }\n",
       "\n",
       "    .dataframe tbody tr th {\n",
       "        vertical-align: top;\n",
       "    }\n",
       "\n",
       "    .dataframe thead th {\n",
       "        text-align: right;\n",
       "    }\n",
       "</style>\n",
       "<table border=\"1\" class=\"dataframe\">\n",
       "  <thead>\n",
       "    <tr style=\"text-align: right;\">\n",
       "      <th></th>\n",
       "      <th>&lt;=50K</th>\n",
       "      <th>&gt;50K</th>\n",
       "    </tr>\n",
       "  </thead>\n",
       "  <tbody>\n",
       "    <tr>\n",
       "      <th>Female</th>\n",
       "      <td>0.890360</td>\n",
       "      <td>0.109640</td>\n",
       "    </tr>\n",
       "    <tr>\n",
       "      <th>Male</th>\n",
       "      <td>0.692137</td>\n",
       "      <td>0.307863</td>\n",
       "    </tr>\n",
       "  </tbody>\n",
       "</table>\n",
       "</div>"
      ],
      "text/plain": [
       "           <=50K      >50K\n",
       "Female  0.890360  0.109640\n",
       "Male    0.692137  0.307863"
      ]
     },
     "execution_count": 7,
     "metadata": {},
     "output_type": "execute_result"
    }
   ],
   "source": [
    "# Gender\n",
    "female_less50K = len(female[(female.Target == '<=50K') | (female.Target == '<=50K.')])/total_female\n",
    "female_greater50K = len(female[(female.Target == '>50K') | (female.Target == '>50K.')])/total_female\n",
    "male_less50K = len(male[(male.Target == '<=50K') | (male.Target == '<=50K.')])/total_male\n",
    "male_greater50K = len(male[(male.Target == '>50K') | (male.Target == '>50K.')])/total_male\n",
    "\n",
    "target_percent = pd.DataFrame({'<=50K': [female_less50K, male_less50K], '>50K': [female_greater50K, male_greater50K]}, index=['Female', 'Male'])\n",
    "target_percent"
   ]
  },
  {
   "cell_type": "markdown",
   "id": "189048e0",
   "metadata": {},
   "source": [
    "# Model Training and Plotting Curves"
   ]
  },
  {
   "cell_type": "code",
   "execution_count": 18,
   "id": "b1205d34",
   "metadata": {},
   "outputs": [],
   "source": [
    "# plot_params(X_train, y_train, X_test, y_test, 50, 'RF')\n",
    "# bug in IBM diffprivlib RandomForestClassifier implementation of Score. Skipping for now."
   ]
  },
  {
   "cell_type": "code",
   "execution_count": 9,
   "id": "30e4e2b0",
   "metadata": {
    "scrolled": false
   },
   "outputs": [
    {
     "name": "stderr",
     "output_type": "stream",
     "text": [
      "100%|███████████████████████████████████████████| 50/50 [04:43<00:00,  5.67s/it]\n"
     ]
    },
    {
     "data": {
      "image/png": "[encoded data removed]",
      "text/plain": [
       "<Figure size 432x288 with 1 Axes>"
      ]
     },
     "metadata": {
      "needs_background": "light"
     },
     "output_type": "display_data"
    }
   ],
   "source": [
    "plot_params(X_train, y_train, X_test, y_test, 50, 'NB')"
   ]
  },
  {
   "cell_type": "code",
   "execution_count": 10,
   "id": "8e48c204",
   "metadata": {},
   "outputs": [
    {
     "name": "stderr",
     "output_type": "stream",
     "text": [
      "100%|███████████████████████████████████████████| 50/50 [10:21<00:00, 12.43s/it]\n"
     ]
    },
    {
     "data": {
      "image/png": "[encoded data removed]",
      "text/plain": [
       "<Figure size 432x288 with 1 Axes>"
      ]
     },
     "metadata": {
      "needs_background": "light"
     },
     "output_type": "display_data"
    }
   ],
   "source": [
    "plot_params(X_train, y_train, X_test, y_test, 50, 'LR')"
   ]
  },
  {
   "cell_type": "code",
   "execution_count": null,
   "id": "2b2413b3",
   "metadata": {},
   "outputs": [],
   "source": []
  },
  {
   "cell_type": "code",
   "execution_count": null,
   "id": "3a429938",
   "metadata": {},
   "outputs": [],
   "source": []
  }
 ],
 "metadata": {
  "kernelspec": {
   "display_name": "Python 3",
   "language": "python",
   "name": "python3"
  },
  "language_info": {
   "codemirror_mode": {
    "name": "ipython",
    "version": 3
   },
   "file_extension": ".py",
   "mimetype": "text/x-python",
   "name": "python",
   "nbconvert_exporter": "python",
   "pygments_lexer": "ipython3",
   "version": "3.8.8"
  }
 },
 "nbformat": 4,
 "nbformat_minor": 5
}
