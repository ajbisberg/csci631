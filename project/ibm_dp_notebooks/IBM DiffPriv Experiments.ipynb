{
 "cells": [
  {
   "cell_type": "code",
   "execution_count": 1,
   "id": "485902f5",
   "metadata": {},
   "outputs": [],
   "source": [
    "import diffprivlib as dp\n",
    "from sklearn.naive_bayes import GaussianNB\n",
    "from sklearn.linear_model import LogisticRegression\n",
    "from sklearn.ensemble import RandomForestClassifier\n",
    "import pandas as pd\n",
    "import sklearn.preprocessing as preprocessing\n",
    "import sklearn.metrics as metrics\n",
    "import matplotlib.pyplot as plt\n",
    "from sklearn.preprocessing import MinMaxScaler\n",
    "import numpy as np\n",
    "np.random.seed(31415)\n",
    "import warnings\n",
    "warnings.filterwarnings(\"ignore\")\n",
    "from tqdm import tqdm\n",
    "import math\n",
    "import fairlearn.metrics as mf"
   ]
  },
  {
   "cell_type": "code",
   "execution_count": 2,
   "id": "79c33087",
   "metadata": {},
   "outputs": [],
   "source": [
    "def get_classifier(cls_str, diffpriv=True, bounds=None, epsilon=None, acc=None):\n",
    "    '''\n",
    "\n",
    "    :param cls_str: one of ['NB', 'LR', 'RF']\n",
    "    :param diffpriv:Whether dp classifier or regular classifier\n",
    "    :param bounds:  Bounds of the data, provided as a tuple of the form (min, max).\n",
    "                    min and max can either be scalars, covering the min/max of the\n",
    "                    entire data, or vectors with one entry per feature. If not\n",
    "                    provided, the bounds are computed on the data when .fit() is\n",
    "                    first called, resulting in a PrivacyLeakWarning\n",
    "    :param epsilon: Privacy parameter for the model. default: 1.0\n",
    "    :param acc:     Accountant to keep track of privacy budget\n",
    "    :return:        The classifier instantiated\n",
    "    '''\n",
    "\n",
    "    if(cls_str == 'NB' and diffpriv == True):\n",
    "        return dp.models.GaussianNB(epsilon=epsilon, bounds=bounds, accountant=acc)\n",
    "    \n",
    "    elif(cls_str == 'NB' and diffpriv == False):\n",
    "        return GaussianNB()\n",
    "    \n",
    "    elif(cls_str == 'LR' and diffpriv == True):\n",
    "        return dp.models.LogisticRegression(epsilon=epsilon, bounds=bounds, accountant=acc)\n",
    "    \n",
    "    elif(cls_str == 'LR' and diffpriv == False):\n",
    "        return LogisticRegression(random_state=0)\n",
    "    \n",
    "    elif(cls_str == 'RF' and diffpriv == True):\n",
    "        return dp.models.RandomForestClassifier(epsilon=epsilon, bounds=bounds, accountant=acc)\n",
    "    \n",
    "    elif(cls_str == 'RF' and diffpriv == False):\n",
    "        return RandomForestClassifier(random_state=0)\n",
    "    \n",
    "    else:\n",
    "        print(\"Incorrect Classifier - must be one of ['NB', 'LR', 'RF']\")\n",
    "        return"
   ]
  },
  {
   "cell_type": "markdown",
   "id": "4e425751",
   "metadata": {},
   "source": [
    "# Preprocess Income Data"
   ]
  },
  {
   "cell_type": "code",
   "execution_count": 3,
   "id": "88ca8ca1",
   "metadata": {},
   "outputs": [],
   "source": [
    "features = [\"Age\", \"Workclass\", \"fnlwgt\", \"Education\", \"Education-Num\", \"Martial Status\",\n",
    "        \"Occupation\", \"Relationship\", \"Race\", \"Sex\", \"Capital Gain\", \"Capital Loss\",\n",
    "        \"Hours per week\", \"Country\", \"Target\"] \n",
    "\n",
    "train_url = '../data/income/adult.data'\n",
    "# 'https://archive.ics.uci.edu/ml/machine-learning-databases/adult/adult.data'\n",
    "test_url = '../data/income/adult.test'\n",
    "# 'https://archive.ics.uci.edu/ml/machine-learning-databases/adult/adult.test'\n",
    "\n",
    "# 3.8M\n",
    "original_train = pd.read_csv(train_url, names=features, sep=r'\\s*,\\s*', \n",
    "                             engine='python', na_values=\"?\")\n",
    "original_train = original_train[(original_train['Race']=='Black') | (original_train['Race'] == 'White')]\n",
    "\n",
    "# 1.9M\n",
    "original_test = pd.read_csv(test_url, names=features, sep=r'\\s*,\\s*', \n",
    "                            engine='python', na_values=\"?\", skiprows=1)\n",
    "original_test = original_test[(original_test['Race']=='Black') | (original_test['Race'] == 'White')]\n",
    "\n",
    "num_train = len(original_train)\n",
    "original = pd.concat([original_train, original_test])\n",
    "roc_original = original\n",
    "labels = original['Target']\n",
    "labels = labels.replace('<=50K', 0).replace('>50K', 1)\n",
    "labels = labels.replace('<=50K.', 0).replace('>50K.', 1)\n",
    "# Redundant column, Education-Num is already present\n",
    "del original[\"Education\"]\n",
    "# Remove target variable since we've already binarized to labels variable\n",
    "del original[\"Target\"]\n",
    "\n",
    "original.Sex = original.Sex.replace({'Male': 1, 'Female': 0})\n",
    "original.Race = original.Race.replace({'White': 1, 'Black': 0})\n",
    "\n",
    "\n",
    "#binarize all the categorical values\n",
    "binary_data = pd.get_dummies(original) # n x 13 -> n x 83\n",
    "\n",
    "X_train = binary_data[:num_train]\n",
    "y_train = labels[:num_train]\n",
    "X_test = binary_data[num_train:]\n",
    "y_test = labels[num_train:]\n",
    "\n",
    "X_train.to_pickle('../data/income/X_train.gz')\n",
    "y_train.to_pickle('../data/income/y_train.gz')\n",
    "X_test.to_pickle('../data/income/X_test.gz')\n",
    "y_test.to_pickle('../data/income/y_test.gz')"
   ]
  },
  {
   "cell_type": "markdown",
   "id": "2dc63611",
   "metadata": {},
   "source": [
    "# Data Distribution"
   ]
  },
  {
   "cell_type": "code",
   "execution_count": 4,
   "id": "4554f8c2",
   "metadata": {
    "scrolled": false
   },
   "outputs": [
    {
     "name": "stdout",
     "output_type": "stream",
     "text": [
      "0.10096961861667744 0.8761203585147247 0.12387964148527529\n",
      "0.8990303813833226 0.7441400632729365 0.2558599367270636\n",
      "0.3295733678086619 0.8903599097773855 0.10964009022261449\n",
      "0.670426632191338 0.6921371064937569 0.3078628935062431\n"
     ]
    }
   ],
   "source": [
    "n1 = len(original_train[ (original_train['Race']=='Black') & (original_train['Target'] == '<=50K')])\n",
    "n2 = len(original_train[(original_train['Race']=='Black') & (original_train['Target'] == '>50K')])\n",
    "n3 = len(original_train[(original_train['Race']=='White') & (original_train['Target'] == '<=50K')])\n",
    "n4 = len(original_train[(original_train['Race']=='White') & (original_train['Target'] == '>50K')])\n",
    "n5 = len(original_train[(original_train['Sex']=='Female') & (original_train['Target'] == '<=50K')])\n",
    "n6 = len(original_train[(original_train['Sex']=='Female') & (original_train['Target'] == '>50K')])\n",
    "n7 = len(original_train[(original_train['Sex']=='Male') & (original_train['Target'] == '<=50K')])\n",
    "n8 = len(original_train[(original_train['Sex']=='Male') & (original_train['Target'] == '>50K')])\n",
    "\n",
    "black_perc = (n1+n2)/num_train\n",
    "black_0 = n1/(n1+n2)\n",
    "black_1 = n2/(n1+n2)\n",
    "\n",
    "white_perc = (n3+n4)/num_train\n",
    "white_0 = n3/(n3+n4)\n",
    "white_1 = n4/(n3+n4)\n",
    "\n",
    "female_perc = (n5+n6)/num_train\n",
    "female_0 = n5/(n5+n6)\n",
    "female_1 = n6/(n5+n6)\n",
    "\n",
    "male_perc = (n7+n8)/num_train\n",
    "male_0 = n7/(n7+n8)\n",
    "male_1 = n8/(n7+n8)\n",
    "\n",
    "print(black_perc, black_0, black_1)\n",
    "print(white_perc, white_0, white_1)\n",
    "print(female_perc, female_0, female_1)\n",
    "print(male_perc, male_0, male_1)"
   ]
  },
  {
   "cell_type": "code",
   "execution_count": 5,
   "id": "9f172817",
   "metadata": {},
   "outputs": [],
   "source": [
    "total_black = len(original_train[original_train['Race']=='Black'])\n",
    "total_white = len(original_train[original_train['Race']=='White'])\n",
    "total_male = len(original_train[original_train['Sex']=='Male'])\n",
    "total_female = len(original_train[original_train['Sex']=='Female'])\n",
    "black = original_train[original_train['Race']=='Black']\n",
    "white = original_train[original_train['Race']=='White']\n",
    "male = original_train[original_train['Sex']=='Male']\n",
    "female = original_train[original_train['Sex']=='Female']"
   ]
  },
  {
   "cell_type": "code",
   "execution_count": 6,
   "id": "316f0c29",
   "metadata": {},
   "outputs": [
    {
     "data": {
      "text/html": [
       "<div>\n",
       "<style scoped>\n",
       "    .dataframe tbody tr th:only-of-type {\n",
       "        vertical-align: middle;\n",
       "    }\n",
       "\n",
       "    .dataframe tbody tr th {\n",
       "        vertical-align: top;\n",
       "    }\n",
       "\n",
       "    .dataframe thead th {\n",
       "        text-align: right;\n",
       "    }\n",
       "</style>\n",
       "<table border=\"1\" class=\"dataframe\">\n",
       "  <thead>\n",
       "    <tr style=\"text-align: right;\">\n",
       "      <th></th>\n",
       "      <th>&lt;=50K</th>\n",
       "      <th>&gt;50K</th>\n",
       "    </tr>\n",
       "  </thead>\n",
       "  <tbody>\n",
       "    <tr>\n",
       "      <th>Black</th>\n",
       "      <td>0.87612</td>\n",
       "      <td>0.12388</td>\n",
       "    </tr>\n",
       "    <tr>\n",
       "      <th>White</th>\n",
       "      <td>0.74414</td>\n",
       "      <td>0.25586</td>\n",
       "    </tr>\n",
       "  </tbody>\n",
       "</table>\n",
       "</div>"
      ],
      "text/plain": [
       "         <=50K     >50K\n",
       "Black  0.87612  0.12388\n",
       "White  0.74414  0.25586"
      ]
     },
     "execution_count": 6,
     "metadata": {},
     "output_type": "execute_result"
    }
   ],
   "source": [
    "# Race\n",
    "black_less50K = len(black[(black.Target == '<=50K') | (black.Target == '<=50K.')])/total_black\n",
    "black_greater50K = len(black[(black.Target == '>50K') | (black.Target == '>50K.')])/total_black\n",
    "white_less50K = len(white[(white.Target == '<=50K') | (white.Target == '<=50K.')])/total_white\n",
    "white_greater50K = len(white[(white.Target == '>50K') | (white.Target == '>50K.')])/total_white\n",
    "\n",
    "target_percent = pd.DataFrame({'<=50K': [black_less50K, white_less50K], '>50K': [black_greater50K, white_greater50K]}, index=['Black', 'White'])\n",
    "target_percent"
   ]
  },
  {
   "cell_type": "code",
   "execution_count": 7,
   "id": "c43d3791",
   "metadata": {},
   "outputs": [
    {
     "data": {
      "text/html": [
       "<div>\n",
       "<style scoped>\n",
       "    .dataframe tbody tr th:only-of-type {\n",
       "        vertical-align: middle;\n",
       "    }\n",
       "\n",
       "    .dataframe tbody tr th {\n",
       "        vertical-align: top;\n",
       "    }\n",
       "\n",
       "    .dataframe thead th {\n",
       "        text-align: right;\n",
       "    }\n",
       "</style>\n",
       "<table border=\"1\" class=\"dataframe\">\n",
       "  <thead>\n",
       "    <tr style=\"text-align: right;\">\n",
       "      <th></th>\n",
       "      <th>&lt;=50K</th>\n",
       "      <th>&gt;50K</th>\n",
       "    </tr>\n",
       "  </thead>\n",
       "  <tbody>\n",
       "    <tr>\n",
       "      <th>Female</th>\n",
       "      <td>0.890360</td>\n",
       "      <td>0.109640</td>\n",
       "    </tr>\n",
       "    <tr>\n",
       "      <th>Male</th>\n",
       "      <td>0.692137</td>\n",
       "      <td>0.307863</td>\n",
       "    </tr>\n",
       "  </tbody>\n",
       "</table>\n",
       "</div>"
      ],
      "text/plain": [
       "           <=50K      >50K\n",
       "Female  0.890360  0.109640\n",
       "Male    0.692137  0.307863"
      ]
     },
     "execution_count": 7,
     "metadata": {},
     "output_type": "execute_result"
    }
   ],
   "source": [
    "# Gender\n",
    "female_less50K = len(female[(female.Target == '<=50K') | (female.Target == '<=50K.')])/total_female\n",
    "female_greater50K = len(female[(female.Target == '>50K') | (female.Target == '>50K.')])/total_female\n",
    "male_less50K = len(male[(male.Target == '<=50K') | (male.Target == '<=50K.')])/total_male\n",
    "male_greater50K = len(male[(male.Target == '>50K') | (male.Target == '>50K.')])/total_male\n",
    "\n",
    "target_percent = pd.DataFrame({'<=50K': [female_less50K, male_less50K], '>50K': [female_greater50K, male_greater50K]}, index=['Female', 'Male'])\n",
    "target_percent"
   ]
  },
  {
   "cell_type": "markdown",
   "id": "175a260b",
   "metadata": {},
   "source": [
    "# Model Training and Plotting Curves"
   ]
  },
  {
   "cell_type": "code",
   "execution_count": 8,
   "id": "81cf12c2",
   "metadata": {},
   "outputs": [],
   "source": [
    "def smooth(scalars, weight):  # Weight between 0 and 1\n",
    "    last = scalars[0]  # First value in the plot (first timestep)\n",
    "    smoothed = list()\n",
    "    for point in scalars:\n",
    "        smoothed_val = last * weight + (1 - weight) * point  # Calculate smoothed value\n",
    "        smoothed.append(smoothed_val)                        # Save it\n",
    "        last = smoothed_val                                  # Anchor the last smoothed value        \n",
    "    return smoothed\n",
    "\n",
    "def plot_params(X_train, y_train, X_test, y_test, num_trials, cls_str, gender_attr_str, race_attr_str):\n",
    "    \n",
    "    eps_list = np.logspace(-2, 2, 10)\n",
    "    acc_list = []\n",
    "    dem_parity_list_gender = []\n",
    "    dem_parity_list_race = []\n",
    "    eq_opp_list_gender = []\n",
    "    eq_opp_list_race = []\n",
    "    acc_score = np.zeros((num_trials, len(eps_list)))\n",
    "    dem_parity_score_gender = np.zeros((num_trials, len(eps_list)))\n",
    "    dem_parity_score_race = np.zeros((num_trials, len(eps_list)))\n",
    "    eq_opp_score_gender = np.zeros((num_trials, len(eps_list)))\n",
    "    eq_opp_score_race = np.zeros((num_trials, len(eps_list)))\n",
    "\n",
    "    for i in tqdm(range(num_trials)):    \n",
    "        for j,eps in enumerate(eps_list):\n",
    "            clf = get_classifier(cls_str, diffpriv=True, epsilon=eps)\n",
    "            clf.fit(X_train,y_train)\n",
    "            y_pred = clf.predict(X_train)            \n",
    "            acc_score[i,j] = clf.score(X_test, y_test)\n",
    "            # fairness metrics need the sensitive column to be binary {0,1}. Cannot normalize!            \n",
    "            dem_parity_score_gender[i,j] = mf.demographic_parity_ratio(y_true=y_train, y_pred=y_pred, sensitive_features=X_train[gender_attr_str])\n",
    "            dem_parity_score_race[i,j] = mf.demographic_parity_ratio(y_true=y_train, y_pred=y_pred, sensitive_features=X_train[race_attr_str])\n",
    "            eq_opp_score_gender[i,j] = mf.equalized_odds_ratio(y_true=y_train, y_pred=y_pred, sensitive_features=X_train[gender_attr_str])\n",
    "            eq_opp_score_race[i,j] = mf.equalized_odds_ratio(y_true=y_train, y_pred=y_pred, sensitive_features=X_train[race_attr_str])\n",
    "\n",
    "    clf = get_classifier(cls_str, diffpriv=False)\n",
    "    clf.fit(X_train,y_train)\n",
    "    y_pred = clf.predict(X_train)    \n",
    "    acc = clf.score(X_test, y_test)    \n",
    "    dp_g = mf.demographic_parity_ratio(y_true=y_train, y_pred=y_pred, sensitive_features=X_train[gender_attr_str])\n",
    "    dp_r = mf.demographic_parity_ratio(y_true=y_train, y_pred=y_pred, sensitive_features=X_train[race_attr_str])\n",
    "    eo_g = mf.equalized_odds_ratio(y_true=y_train, y_pred=y_pred, sensitive_features=X_train[gender_attr_str])\n",
    "    eo_r = mf.equalized_odds_ratio(y_true=y_train, y_pred=y_pred, sensitive_features=X_train[race_attr_str])\n",
    "    \n",
    "    acc_list = np.mean(acc_score, axis=0)        \n",
    "    dem_parity_list_gender = pd.Series(np.mean(dem_parity_score_gender, axis=0)).interpolate().fillna(method='bfill')\n",
    "    dem_parity_list_race = pd.Series(np.mean(dem_parity_score_race, axis=0)).interpolate().fillna(method='bfill')\n",
    "    eq_opp_list_gender = pd.Series(np.mean(eq_opp_score_gender, axis=0)).interpolate().fillna(method='bfill')\n",
    "    eq_opp_list_race = pd.Series(np.mean(eq_opp_score_race, axis=0)).interpolate().fillna(method='bfill')\n",
    "    \n",
    "    plt.suptitle(cls_str + ' Classifier Accuracy and Fairness Metrics vs Epsilon') \n",
    "    plt.title('Dashed and Solid Lines for Standard and Private Classifiers', fontsize='small')\n",
    "    plt.axhline(acc, color='r', linestyle='--')\n",
    "    plt.axhline(dp_g, color='g', linestyle='--')\n",
    "    plt.axhline(dp_r, color='b', linestyle='--')\n",
    "    plt.axhline(eo_g, color='m', linestyle='--')\n",
    "    plt.axhline(eo_r, color='y', linestyle='--')   \n",
    "    \n",
    "    plt.semilogx(eps_list, smooth(acc_list,0.6), label='Accuracy', color='r')\n",
    "    plt.semilogx(eps_list, smooth(dem_parity_list_gender,0.6), label='Dem Par Gender', color='g')\n",
    "    plt.semilogx(eps_list, smooth(dem_parity_list_race,0.6), label='Dem Par Race', color='b')\n",
    "    plt.semilogx(eps_list, smooth(eq_opp_list_gender,0.6), label='Eq Opp Gender', color='m')\n",
    "    plt.semilogx(eps_list, smooth(eq_opp_list_race,0.6), label='Eq Opp Race', color='y')\n",
    "    plt.legend(loc='center left', bbox_to_anchor=(1, 0.5))\n",
    "    plt.ylim(0,1)\n",
    "    plt.xlabel('Epsilon')\n",
    "    plt.ylabel('Accuracy / Fairness')\n",
    "    \n",
    "    plt.savefig('plots/'+cls_str+'.png', dpi=150, bbox_inches='tight')\n",
    "    plt.show()    "
   ]
  },
  {
   "cell_type": "code",
   "execution_count": 9,
   "id": "ff219fd1",
   "metadata": {},
   "outputs": [
    {
     "name": "stderr",
     "output_type": "stream",
     "text": [
      "100%|███████████████████████████████████████████| 25/25 [08:22<00:00, 20.09s/it]\n"
     ]
    },
    {
     "data": {
      "image/png": "[encoded data removed]",
      "text/plain": [
       "<Figure size 432x288 with 1 Axes>"
      ]
     },
     "metadata": {
      "needs_background": "light"
     },
     "output_type": "display_data"
    }
   ],
   "source": [
    "plot_params(X_train, y_train, X_test, y_test, 25, 'NB', 'Sex', 'Race')"
   ]
  },
  {
   "cell_type": "code",
   "execution_count": 10,
   "id": "0763846a",
   "metadata": {},
   "outputs": [
    {
     "name": "stderr",
     "output_type": "stream",
     "text": [
      "100%|███████████████████████████████████████████| 25/25 [10:02<00:00, 24.11s/it]\n"
     ]
    },
    {
     "data": {
      "image/png": "[encoded data removed]",
      "text/plain": [
       "<Figure size 432x288 with 1 Axes>"
      ]
     },
     "metadata": {
      "needs_background": "light"
     },
     "output_type": "display_data"
    }
   ],
   "source": [
    "plot_params(X_train, y_train, X_test, y_test, 25, 'LR', 'Sex', 'Race')"
   ]
  },
  {
   "cell_type": "code",
   "execution_count": 11,
   "id": "01a7b0da",
   "metadata": {},
   "outputs": [],
   "source": [
    "# plot_params(X_train, y_train, X_test, y_test, 50, 'RF')\n",
    "# bug in IBM diffprivlib RandomForestClassifier implementation of Score. Skipping for now."
   ]
  },
  {
   "cell_type": "code",
   "execution_count": null,
   "id": "ecae5fcd",
   "metadata": {},
   "outputs": [],
   "source": []
  },
  {
   "cell_type": "code",
   "execution_count": null,
   "id": "a326ef51",
   "metadata": {},
   "outputs": [],
   "source": []
  },
  {
   "cell_type": "code",
   "execution_count": null,
   "id": "885bd817",
   "metadata": {},
   "outputs": [],
   "source": []
  }
 ],
 "metadata": {
  "kernelspec": {
   "display_name": "Python [conda env:631_py38] *",
   "language": "python",
   "name": "conda-env-631_py38-py"
  },
  "language_info": {
   "codemirror_mode": {
    "name": "ipython",
    "version": 3
   },
   "file_extension": ".py",
   "mimetype": "text/x-python",
   "name": "python",
   "nbconvert_exporter": "python",
   "pygments_lexer": "ipython3",
   "version": "3.8.12"
  }
 },
 "nbformat": 4,
 "nbformat_minor": 5
}
