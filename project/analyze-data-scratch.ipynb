{
 "cells": [
  {
   "cell_type": "code",
   "execution_count": 2,
   "id": "7bd1d7a4",
   "metadata": {},
   "outputs": [],
   "source": [
    "import pandas as pd\n",
    "import numpy as np\n",
    "from scipy.stats import ttest_ind, kruskal, f_oneway\n",
    "import matplotlib.pyplot as plt\n",
    "import statsmodels.api as sm\n",
    "from statsmodels.formula.api import ols\n",
    "from sklearn.ensemble import RandomForestRegressor"
   ]
  },
  {
   "cell_type": "code",
   "execution_count": 3,
   "id": "1963b9b2",
   "metadata": {},
   "outputs": [],
   "source": [
    "'''\n",
    "Data location: 'https://www.fhfa.gov/DataTools/Downloads/Pages/Public-Use-Databases.aspx'\n",
    "'''\n",
    "data_path = '../data/2020_SFCensusTractFNM2020/fnma_sf2020c_loans.txt'"
   ]
  },
  {
   "cell_type": "code",
   "execution_count": 4,
   "id": "fd1ef827",
   "metadata": {},
   "outputs": [],
   "source": [
    "###\n",
    "# Read dataset\n",
    "# Unfortunately there is arbitrary white space so pandas read_csv didnt work well, \n",
    "# maybe could use np.loadtxt\n",
    "# Starting out with 10% sample for quickness\n",
    "###\n",
    "def import_housing_data_as_list(data_path,sampling=False):\n",
    "    out = []\n",
    "    f = open(data_path,'r')\n",
    "    if sampling:\n",
    "        for i,line in enumerate(f.readlines()):\n",
    "            if (i % 10) == 0:\n",
    "                out.append(line.split())\n",
    "    else:\n",
    "        for line in f.readlines():\n",
    "            out.append(line.split())\n",
    "    f.close()\n",
    "    return np.array(out)"
   ]
  },
  {
   "cell_type": "code",
   "execution_count": null,
   "id": "abab0d1f",
   "metadata": {},
   "outputs": [],
   "source": [
    "def housing_df(hl):\n",
    "    cols = list(range(1,65))\n",
    "    # manually gathered float cols\n",
    "    float_cols = [7,10,13,36,42,46,53]\n",
    "    int_cols = list(set(cols) - set(float_cols))\n",
    "    lend = pd.DataFrame(data=hl,columns=cols)\n",
    "    lend_fmt = lend.loc[:,int_cols].astype(np.int32)\n",
    "    lend_fmt[float_cols] = lend.loc[:,float_cols].astype(np.float32)\n",
    "    return lend_fmt"
   ]
  },
  {
   "cell_type": "markdown",
   "id": "fda680bb",
   "metadata": {},
   "source": [
    "### Preliminary data exploration"
   ]
  },
  {
   "cell_type": "code",
   "execution_count": 4,
   "id": "b8fb562a",
   "metadata": {},
   "outputs": [],
   "source": [
    "sampled_housing_list = import_housing_data_as_list(data_path,sampling=True)"
   ]
  },
  {
   "cell_type": "code",
   "execution_count": 5,
   "id": "86715feb",
   "metadata": {
    "scrolled": true
   },
   "outputs": [
    {
     "data": {
      "text/plain": [
       "'There are 485,763 people in the sampled dataset'"
      ]
     },
     "execution_count": 5,
     "metadata": {},
     "output_type": "execute_result"
    }
   ],
   "source": [
    "'There are {:,} people in the sampled dataset'.format(len(sampled_housing_list))"
   ]
  },
  {
   "cell_type": "markdown",
   "id": "4c4eea0b",
   "metadata": {},
   "source": [
    "Protected variables\n",
    " - ethnicity\n",
    " - race \n",
    " - gender\n",
    "\n",
    "For fairness \n",
    "Create Synthetic dataset when there are skewed categories\n",
    "Also vary epsilon parameter\n",
    "For something that is heavily skeweed, will DP disparately impact that\n",
    "\n",
    "TODO: Run baseline of non-DP algo"
   ]
  },
  {
   "cell_type": "markdown",
   "id": "c37553b0",
   "metadata": {},
   "source": [
    "Project Scope\n",
    " - Compare different differentially private ML algorithms\n",
    "     - DP - naieve bayes\n",
    "     - DP - SVM\n",
    "     - DP - SGD"
   ]
  },
  {
   "cell_type": "markdown",
   "id": "664f100d",
   "metadata": {},
   "source": [
    "### Question 1\n",
    "Is race an indicator of interest rate?   \n",
    "Idea: If there is bias in loan assemenet, certain races would have higher/lower interest rates. "
   ]
  },
  {
   "cell_type": "code",
   "execution_count": 8,
   "id": "ffa5d66d",
   "metadata": {},
   "outputs": [],
   "source": [
    "lend_fmt = housing_df(sampled_housing_list)"
   ]
  },
  {
   "cell_type": "code",
   "execution_count": 9,
   "id": "0f9c84c8",
   "metadata": {},
   "outputs": [
    {
     "data": {
      "image/png": "[encoded data removed]",
      "text/plain": [
       "<Figure size 1080x360 with 2 Axes>"
      ]
     },
     "metadata": {
      "needs_background": "light"
     },
     "output_type": "display_data"
    }
   ],
   "source": [
    "fix,axes = plt.subplots(1,2,figsize=(15,5))\n",
    "lend_fmt.loc[:,46].hist(bins=30,ax=axes[0])\n",
    "lend_fmt.loc[:,19].hist(ax=axes[1])\n",
    "axes[0].set_title('Interest Rates Frequency')\n",
    "_ = axes[1].set_title('Race (Categorical) Frequency')"
   ]
  },
  {
   "cell_type": "code",
   "execution_count": 153,
   "id": "25f58292",
   "metadata": {},
   "outputs": [
    {
     "data": {
      "text/plain": [
       "19\n",
       "1    3.24\n",
       "2    3.07\n",
       "3    3.36\n",
       "4    3.27\n",
       "5    3.21\n",
       "Name: 46, dtype: float32"
      ]
     },
     "execution_count": 153,
     "metadata": {},
     "output_type": "execute_result"
    }
   ],
   "source": [
    "# Mean interest rate by race\n",
    "lend_fmt.loc[lend_fmt[19] < 6,:].groupby(19)[46].mean().round(2)"
   ]
  },
  {
   "cell_type": "code",
   "execution_count": 11,
   "id": "765acb15",
   "metadata": {},
   "outputs": [],
   "source": [
    "rates = []\n",
    "for group in range(1,6):\n",
    "    group_rate = lend_fmt.loc[lend_fmt[19] == group,46]\n",
    "    # print(len(group_rate))\n",
    "    rates.append(group_rate)"
   ]
  },
  {
   "cell_type": "code",
   "execution_count": 12,
   "id": "e04d7f94",
   "metadata": {},
   "outputs": [
    {
     "data": {
      "text/plain": [
       "F_onewayResult(statistic=1000.3854297163618, pvalue=0.0)"
      ]
     },
     "execution_count": 12,
     "metadata": {},
     "output_type": "execute_result"
    }
   ],
   "source": [
    "f_oneway(*rates,axis=0)"
   ]
  },
  {
   "cell_type": "code",
   "execution_count": 13,
   "id": "632eb859",
   "metadata": {},
   "outputs": [],
   "source": [
    "rr = lend_fmt.loc[lend_fmt[19] < 6,[19,46]]\n",
    "rr.columns = ['race','rate']"
   ]
  },
  {
   "cell_type": "markdown",
   "id": "4d9922c0",
   "metadata": {},
   "source": [
    "Run ANOVA on all races to see if there is a significant difference"
   ]
  },
  {
   "cell_type": "code",
   "execution_count": 17,
   "id": "1a1942cb",
   "metadata": {
    "scrolled": true
   },
   "outputs": [
    {
     "data": {
      "text/html": [
       "<div>\n",
       "<style scoped>\n",
       "    .dataframe tbody tr th:only-of-type {\n",
       "        vertical-align: middle;\n",
       "    }\n",
       "\n",
       "    .dataframe tbody tr th {\n",
       "        vertical-align: top;\n",
       "    }\n",
       "\n",
       "    .dataframe thead th {\n",
       "        text-align: right;\n",
       "    }\n",
       "</style>\n",
       "<table border=\"1\" class=\"dataframe\">\n",
       "  <thead>\n",
       "    <tr style=\"text-align: right;\">\n",
       "      <th></th>\n",
       "      <th>sum_sq</th>\n",
       "      <th>df</th>\n",
       "      <th>F</th>\n",
       "      <th>PR(&gt;F)</th>\n",
       "    </tr>\n",
       "  </thead>\n",
       "  <tbody>\n",
       "    <tr>\n",
       "      <th>C(race)</th>\n",
       "      <td>1064.678379</td>\n",
       "      <td>4.0</td>\n",
       "      <td>1000.38543</td>\n",
       "      <td>0.0</td>\n",
       "    </tr>\n",
       "    <tr>\n",
       "      <th>Residual</th>\n",
       "      <td>109529.425602</td>\n",
       "      <td>411661.0</td>\n",
       "      <td>NaN</td>\n",
       "      <td>NaN</td>\n",
       "    </tr>\n",
       "  </tbody>\n",
       "</table>\n",
       "</div>"
      ],
      "text/plain": [
       "                 sum_sq        df           F  PR(>F)\n",
       "C(race)     1064.678379       4.0  1000.38543     0.0\n",
       "Residual  109529.425602  411661.0         NaN     NaN"
      ]
     },
     "execution_count": 17,
     "metadata": {},
     "output_type": "execute_result"
    }
   ],
   "source": [
    "model = ols(\"rate ~ C(race)\", data=rr).fit()\n",
    "aov_table = sm.stats.anova_lm(model, typ=2)\n",
    "aov_table"
   ]
  },
  {
   "cell_type": "markdown",
   "id": "f5cf93b3",
   "metadata": {},
   "source": [
    "Means are significantly different, but what about effect size? "
   ]
  },
  {
   "cell_type": "code",
   "execution_count": 18,
   "id": "f5137ffe",
   "metadata": {},
   "outputs": [
    {
     "data": {
      "text/html": [
       "<div>\n",
       "<style scoped>\n",
       "    .dataframe tbody tr th:only-of-type {\n",
       "        vertical-align: middle;\n",
       "    }\n",
       "\n",
       "    .dataframe tbody tr th {\n",
       "        vertical-align: top;\n",
       "    }\n",
       "\n",
       "    .dataframe thead th {\n",
       "        text-align: right;\n",
       "    }\n",
       "</style>\n",
       "<table border=\"1\" class=\"dataframe\">\n",
       "  <thead>\n",
       "    <tr style=\"text-align: right;\">\n",
       "      <th></th>\n",
       "      <th>sum_sq</th>\n",
       "      <th>df</th>\n",
       "      <th>mean_sq</th>\n",
       "      <th>F</th>\n",
       "      <th>PR(&gt;F)</th>\n",
       "      <th>eta_sq (effect size)</th>\n",
       "    </tr>\n",
       "  </thead>\n",
       "  <tbody>\n",
       "    <tr>\n",
       "      <th>C(race)</th>\n",
       "      <td>1064.678379</td>\n",
       "      <td>4.0</td>\n",
       "      <td>266.169595</td>\n",
       "      <td>1000.38543</td>\n",
       "      <td>0.0</td>\n",
       "      <td>0.009627</td>\n",
       "    </tr>\n",
       "    <tr>\n",
       "      <th>Residual</th>\n",
       "      <td>109529.425602</td>\n",
       "      <td>411661.0</td>\n",
       "      <td>0.266067</td>\n",
       "      <td>NaN</td>\n",
       "      <td>NaN</td>\n",
       "      <td>NaN</td>\n",
       "    </tr>\n",
       "  </tbody>\n",
       "</table>\n",
       "</div>"
      ],
      "text/plain": [
       "                 sum_sq        df     mean_sq           F  PR(>F)  \\\n",
       "C(race)     1064.678379       4.0  266.169595  1000.38543     0.0   \n",
       "Residual  109529.425602  411661.0    0.266067         NaN     NaN   \n",
       "\n",
       "          eta_sq (effect size)  \n",
       "C(race)               0.009627  \n",
       "Residual                   NaN  "
      ]
     },
     "execution_count": 18,
     "metadata": {},
     "output_type": "execute_result"
    }
   ],
   "source": [
    "def anova_table(aov):\n",
    "    aov['mean_sq'] = aov[:]['sum_sq']/aov[:]['df']\n",
    "    aov['eta_sq (effect size)'] = aov[:-1]['sum_sq']/sum(aov['sum_sq'])\n",
    "    cols = ['sum_sq', 'df', 'mean_sq', 'F', 'PR(>F)', 'eta_sq (effect size)',]\n",
    "    aov = aov[cols]\n",
    "    return aov\n",
    "\n",
    "anova_table(aov_table)"
   ]
  },
  {
   "cell_type": "code",
   "execution_count": 19,
   "id": "b324d893",
   "metadata": {},
   "outputs": [
    {
     "data": {
      "text/plain": [
       "'0.96% of the total variance is explained by the treatment effect.\\n This is a very small effect size'"
      ]
     },
     "execution_count": 19,
     "metadata": {},
     "output_type": "execute_result"
    }
   ],
   "source": [
    "'''{}% of the total variance is explained by the treatment effect.\n",
    " This is a very small effect size'''.format(0.0096*100)"
   ]
  },
  {
   "cell_type": "markdown",
   "id": "caeb3b5d",
   "metadata": {},
   "source": [
    "### Full dataset processing"
   ]
  },
  {
   "cell_type": "code",
   "execution_count": null,
   "id": "b7ea7478",
   "metadata": {},
   "outputs": [],
   "source": [
    "full_housing_list = import_housing_data_as_list(data_path,sampling=False)"
   ]
  },
  {
   "cell_type": "code",
   "execution_count": null,
   "id": "39c949d0",
   "metadata": {},
   "outputs": [],
   "source": [
    "'There are {:,} people in the full dataset'.format(len(full_housing_list))"
   ]
  },
  {
   "cell_type": "code",
   "execution_count": 6,
   "id": "d84b49df",
   "metadata": {},
   "outputs": [],
   "source": [
    "# lend_fmt = housing_df(full_housing_list)"
   ]
  },
  {
   "cell_type": "code",
   "execution_count": 38,
   "id": "4e0fc036",
   "metadata": {},
   "outputs": [
    {
     "ename": "SyntaxError",
     "evalue": "(unicode error) 'unicodeescape' codec can't decode bytes in position 17-26: illegal Unicode character (<ipython-input-38-51ec14182604>, line 4)",
     "output_type": "error",
     "traceback": [
      "\u001b[0;36m  File \u001b[0;32m\"<ipython-input-38-51ec14182604>\"\u001b[0;36m, line \u001b[0;32m4\u001b[0m\n\u001b[0;31m    bad_val = \"1\\x00\\x00\\x00\\x00\\U02000000\"\u001b[0m\n\u001b[0m              ^\u001b[0m\n\u001b[0;31mSyntaxError\u001b[0m\u001b[0;31m:\u001b[0m (unicode error) 'unicodeescape' codec can't decode bytes in position 17-26: illegal Unicode character\n"
     ]
    }
   ],
   "source": [
    "# check for bad data\n",
    "for i,person in enumerate(full_housing_list):\n",
    "    # any([feat == '1.05E6' for feat in person])\n",
    "    bad_val = r\"1\\x00\\x00\\x00\\x00\\U02000000\"\n",
    "    if (bad_val in person):\n",
    "        print(i,person, person.index(bad_val))\n",
    "        break"
   ]
  },
  {
   "cell_type": "code",
   "execution_count": 30,
   "id": "f58a7a9b",
   "metadata": {},
   "outputs": [],
   "source": [
    "idx = 53"
   ]
  },
  {
   "cell_type": "code",
   "execution_count": 33,
   "id": "01b5a0c4",
   "metadata": {},
   "outputs": [
    {
     "data": {
      "text/plain": [
       "array(['0', '1', '1.05E6', ..., '9998', '9999', '999999'], dtype='<U9')"
      ]
     },
     "execution_count": 33,
     "metadata": {},
     "output_type": "execute_result"
    }
   ],
   "source": [
    "np.unique(full_housing_list[:,53])"
   ]
  },
  {
   "cell_type": "markdown",
   "id": "b7af81f7",
   "metadata": {},
   "source": [
    "### Random Forest Regression"
   ]
  },
  {
   "cell_type": "code",
   "execution_count": 79,
   "id": "e7e5ef93",
   "metadata": {},
   "outputs": [],
   "source": [
    "from sklearn.ensemble import RandomForestRegressor\n",
    "from math import floor\n",
    "from sklearn.metrics import r2_score, explained_variance_score, mean_squared_error\n",
    "from scipy.stats import pearsonr, linregress"
   ]
  },
  {
   "cell_type": "code",
   "execution_count": 34,
   "id": "6c240580",
   "metadata": {},
   "outputs": [],
   "source": [
    "def test_train_split(df):\n",
    "    test_frac = 0.2\n",
    "    train_frac = 1 - test_frac\n",
    "    train_size = floor(len(df)*train_frac)\n",
    "    test_size = len(df) - train_size\n",
    "    s_df = df.sample(frac=1,random_state=23)\n",
    "    X_train = df.loc[:, df.columns != 46][:train_size]\n",
    "    y_train = df.loc[:,46][:train_size]\n",
    "    X_test = df.loc[:, df.columns != 46][train_size:len(df)]\n",
    "    y_test = df.loc[:, 46][train_size:len(df)]\n",
    "    return X_train, y_train, X_test, y_test"
   ]
  },
  {
   "cell_type": "code",
   "execution_count": 209,
   "id": "7e8f861d",
   "metadata": {},
   "outputs": [],
   "source": [
    "def plot_fi(feats,importances):\n",
    "    fig, ax = plt.subplots()\n",
    "    fi = pd.DataFrame(data=feats,columns=['feature'])\n",
    "    fi['importance']  = importances\n",
    "    best_feats = fi.sort_values('importance',ascending=False)\n",
    "    best_feats[:10]['importance'].plot(kind='bar',ax=ax)\n",
    "    ax.set_xticklabels(best_feats[:10]['feature'],rotation=0)\n",
    "    ax.spines['top'].set_visible(False)\n",
    "    ax.spines['right'].set_visible(False)\n",
    "    ax.set_title('Top 10 Feature importances for Random Forest Regressor')\n",
    "    plt.savefig('img/fi.png')"
   ]
  },
  {
   "cell_type": "code",
   "execution_count": 36,
   "id": "d78db1f2",
   "metadata": {},
   "outputs": [],
   "source": [
    "rfr = RandomForestRegressor(max_depth=15,random_state=23,n_estimators=50,n_jobs=8)"
   ]
  },
  {
   "cell_type": "code",
   "execution_count": 248,
   "id": "5a30008d",
   "metadata": {},
   "outputs": [],
   "source": [
    "# exclude index data\n",
    "# what is we remove rate spread? - 36\n",
    "# remove LTV - 42\n",
    "lend_model_data = lend_fmt.loc[:,\n",
    "    (lend_fmt.columns != 1) & (lend_fmt.columns != 2) \n",
    "   # & (lend_fmt.columns != 36) & (lend_fmt.columns != 42)\n",
    "]\n",
    "X_train, y_train, X_test, y_test = test_train_split(lend_model_data)"
   ]
  },
  {
   "cell_type": "code",
   "execution_count": 268,
   "id": "68c03daa",
   "metadata": {},
   "outputs": [
    {
     "data": {
      "text/plain": [
       "97153"
      ]
     },
     "execution_count": 268,
     "metadata": {},
     "output_type": "execute_result"
    }
   ],
   "source": [
    "len(y_test)"
   ]
  },
  {
   "cell_type": "code",
   "execution_count": 212,
   "id": "81ce1364",
   "metadata": {},
   "outputs": [
    {
     "data": {
      "text/plain": [
       "RandomForestRegressor(max_depth=15, n_estimators=50, n_jobs=8, random_state=23)"
      ]
     },
     "execution_count": 212,
     "metadata": {},
     "output_type": "execute_result"
    }
   ],
   "source": [
    "rfr.fit(X_train, y_train)"
   ]
  },
  {
   "cell_type": "code",
   "execution_count": 249,
   "id": "6e06585c",
   "metadata": {},
   "outputs": [
    {
     "data": {
      "image/png": "[encoded data removed]",
      "text/plain": [
       "<Figure size 432x288 with 1 Axes>"
      ]
     },
     "metadata": {
      "needs_background": "light"
     },
     "output_type": "display_data"
    }
   ],
   "source": [
    "preds = rfr.predict(X_test)\n",
    "lr = linregress(preds,y_test)\n",
    "domain = np.arange(2,6,0.1)\n",
    "l = [lr.slope*x + lr.intercept for x in domain]\n",
    "fig, ax = plt.subplots()\n",
    "ax.scatter(preds,y_test)\n",
    "ax.plot(domain,l,'-',color='red')\n",
    "ax.spines['top'].set_visible(False)\n",
    "ax.spines['right'].set_visible(False)\n",
    "ax.set_title('Correlation of predictions and true values')\n",
    "_ = ax.annotate('Pearson\\'s r = {:.3} (p < 0.001)'.format(lr.rvalue),xy=(2,6.75))\n",
    "plt.savefig('img/ir_pred_corr.png')"
   ]
  },
  {
   "cell_type": "code",
   "execution_count": 214,
   "id": "3d654bbc",
   "metadata": {
    "scrolled": true
   },
   "outputs": [
    {
     "data": {
      "image/png": "[encoded data removed]",
      "text/plain": [
       "<Figure size 1080x360 with 2 Axes>"
      ]
     },
     "metadata": {
      "needs_background": "light"
     },
     "output_type": "display_data"
    }
   ],
   "source": [
    "fix,axes = plt.subplots(1,2,figsize=(15,5))\n",
    "lend_fmt.loc[:,46].hist(bins=30,ax=axes[0])\n",
    "axes[1].hist(preds,bins=30)\n",
    "axes[0].grid(False)\n",
    "axes[0].spines['top'].set_visible(False)\n",
    "axes[0].spines['right'].set_visible(False)\n",
    "axes[1].spines['top'].set_visible(False)\n",
    "axes[1].spines['right'].set_visible(False)\n",
    "axes[0].set_title('True Distribution - Interest Rate')\n",
    "_ = axes[1].set_title('Predicted Distribution - Interest Rate')\n",
    "plt.savefig('img/true_pred_dist.png')"
   ]
  },
  {
   "cell_type": "code",
   "execution_count": 215,
   "id": "955b4cdb",
   "metadata": {},
   "outputs": [
    {
     "data": {
      "image/png": "[encoded data removed]",
      "text/plain": [
       "<Figure size 432x288 with 1 Axes>"
      ]
     },
     "metadata": {
      "needs_background": "light"
     },
     "output_type": "display_data"
    }
   ],
   "source": [
    "plot_fi(X_train.columns,rfr.feature_importances_)"
   ]
  },
  {
   "cell_type": "markdown",
   "id": "ba3fd51f",
   "metadata": {},
   "source": [
    "## Are predictions worse for a minority? "
   ]
  },
  {
   "cell_type": "code",
   "execution_count": 250,
   "id": "2ec700e4",
   "metadata": {},
   "outputs": [],
   "source": [
    "X_test['preds'] = preds"
   ]
  },
  {
   "cell_type": "code",
   "execution_count": 257,
   "id": "ab489e7a",
   "metadata": {},
   "outputs": [
    {
     "data": {
      "text/plain": [
       "(71054, 71054)"
      ]
     },
     "execution_count": 257,
     "metadata": {},
     "output_type": "execute_result"
    }
   ],
   "source": [
    "white_preds = X_test.loc[X_test[19] == 5,'preds']\n",
    "white_true = y_test[white_preds.index]\n",
    "len(white_preds),len(white_true)"
   ]
  },
  {
   "cell_type": "code",
   "execution_count": 264,
   "id": "e6b4618d",
   "metadata": {
    "scrolled": true
   },
   "outputs": [
    {
     "data": {
      "text/plain": [
       "0.0"
      ]
     },
     "execution_count": 264,
     "metadata": {},
     "output_type": "execute_result"
    },
    {
     "data": {
      "image/png": "[encoded data removed]",
      "text/plain": [
       "<Figure size 432x288 with 1 Axes>"
      ]
     },
     "metadata": {
      "needs_background": "light"
     },
     "output_type": "display_data"
    }
   ],
   "source": [
    "lr = linregress(white_preds,white_true)\n",
    "domain = np.arange(2,6,0.1)\n",
    "l = [lr.slope*x + lr.intercept for x in domain]\n",
    "fig, ax = plt.subplots()\n",
    "ax.scatter(white_preds,white_true)\n",
    "ax.plot(domain,l,'-',color='red')\n",
    "ax.spines['top'].set_visible(False)\n",
    "ax.spines['right'].set_visible(False)\n",
    "ax.set_title('Correlation of predictions and true values - White')\n",
    "_ = ax.annotate('Pearson\\'s r = {:.3} (p < 0.001)'.format(lr.rvalue),xy=(4.0,1.9))\n",
    "plt.savefig('img/ir_pred_corr_white.png')\n",
    "lr.pvalue"
   ]
  },
  {
   "cell_type": "code",
   "execution_count": 254,
   "id": "ba6aea4a",
   "metadata": {},
   "outputs": [
    {
     "data": {
      "text/plain": [
       "(3080, 3080)"
      ]
     },
     "execution_count": 254,
     "metadata": {},
     "output_type": "execute_result"
    }
   ],
   "source": [
    "bl_preds = X_test.loc[X_test[19] == 3,'preds']\n",
    "bl_true = y_test[bl_preds.index]\n",
    "len(bl_preds), len(bl_true)"
   ]
  },
  {
   "cell_type": "code",
   "execution_count": 265,
   "id": "d5b88e76",
   "metadata": {},
   "outputs": [
    {
     "data": {
      "text/plain": [
       "0.0"
      ]
     },
     "execution_count": 265,
     "metadata": {},
     "output_type": "execute_result"
    },
    {
     "data": {
      "image/png": "[encoded data removed]",
      "text/plain": [
       "<Figure size 432x288 with 1 Axes>"
      ]
     },
     "metadata": {
      "needs_background": "light"
     },
     "output_type": "display_data"
    }
   ],
   "source": [
    "lr = linregress(bl_preds,bl_true)\n",
    "domain = np.arange(2,6,0.1)\n",
    "l = [lr.slope*x + lr.intercept for x in domain]\n",
    "fig, ax = plt.subplots()\n",
    "ax.scatter(bl_preds,bl_true)\n",
    "ax.plot(domain,l,'-',color='red')\n",
    "ax.spines['top'].set_visible(False)\n",
    "ax.spines['right'].set_visible(False)\n",
    "ax.set_title('Correlation of predictions and true values - \\n Black or African American')\n",
    "_ = ax.annotate('Pearson\\'s r = {:.3} (p < 0.001)'.format(lr.rvalue),xy=(4.25,2.0))\n",
    "plt.savefig('img/ir_pred_corr_bl.png')\n",
    "lr.pvalue"
   ]
  },
  {
   "cell_type": "code",
   "execution_count": 261,
   "id": "c5c4e302",
   "metadata": {},
   "outputs": [
    {
     "data": {
      "text/plain": [
       "(260, 260)"
      ]
     },
     "execution_count": 261,
     "metadata": {},
     "output_type": "execute_result"
    }
   ],
   "source": [
    "aa_preds = X_test.loc[X_test[19] == 1,'preds']\n",
    "aa_true = y_test[aa_preds.index]\n",
    "len(aa_preds),len(aa_true)"
   ]
  },
  {
   "cell_type": "code",
   "execution_count": 266,
   "id": "aeb4e3a6",
   "metadata": {},
   "outputs": [
    {
     "data": {
      "text/plain": [
       "3.5164299810337966e-32"
      ]
     },
     "execution_count": 266,
     "metadata": {},
     "output_type": "execute_result"
    },
    {
     "data": {
      "image/png": "[encoded data removed]",
      "text/plain": [
       "<Figure size 432x288 with 1 Axes>"
      ]
     },
     "metadata": {
      "needs_background": "light"
     },
     "output_type": "display_data"
    }
   ],
   "source": [
    "lr = linregress(aa_preds,aa_true)\n",
    "domain = np.arange(2,6,0.1)\n",
    "l = [lr.slope*x + lr.intercept for x in domain]\n",
    "fig, ax = plt.subplots()\n",
    "ax.scatter(aa_preds,aa_true)\n",
    "ax.plot(domain,l,'-',color='red')\n",
    "ax.spines['top'].set_visible(False)\n",
    "ax.spines['right'].set_visible(False)\n",
    "ax.set_title('Correlation of predictions and true values - \\n American Indian or Alaska Native')\n",
    "_ = ax.annotate('Pearson\\'s r = {:.3} (p < 0.001)'.format(lr.rvalue),xy=(4.0,2.1))\n",
    "plt.savefig('img/ir_pred_corr_aa.png')\n",
    "lr.pvalue"
   ]
  },
  {
   "cell_type": "markdown",
   "id": "a2a59854",
   "metadata": {},
   "source": [
    "### Add more esitmators"
   ]
  },
  {
   "cell_type": "code",
   "execution_count": 170,
   "id": "3ad9a09a",
   "metadata": {},
   "outputs": [],
   "source": [
    "rfr_l = RandomForestRegressor(max_depth=15,random_state=23,n_estimators=150,n_jobs=8)"
   ]
  },
  {
   "cell_type": "code",
   "execution_count": 65,
   "id": "c4dbecab",
   "metadata": {},
   "outputs": [
    {
     "data": {
      "text/plain": [
       "RandomForestRegressor(max_depth=15, n_estimators=150, n_jobs=8, random_state=23)"
      ]
     },
     "execution_count": 65,
     "metadata": {},
     "output_type": "execute_result"
    }
   ],
   "source": [
    "rfr_l.fit(X_train, y_train)"
   ]
  },
  {
   "cell_type": "code",
   "execution_count": 66,
   "id": "bbbc447f",
   "metadata": {},
   "outputs": [],
   "source": [
    "preds_l = rfr_l.predict(X_test)"
   ]
  },
  {
   "cell_type": "code",
   "execution_count": 77,
   "id": "37717201",
   "metadata": {},
   "outputs": [
    {
     "data": {
      "text/plain": [
       "((0.6763092626881536, 0.0), 0.14759932468251533)"
      ]
     },
     "execution_count": 77,
     "metadata": {},
     "output_type": "execute_result"
    }
   ],
   "source": [
    "pearsonr(preds_l,y_test), mean_squared_error(preds_l,y_test)"
   ]
  },
  {
   "cell_type": "code",
   "execution_count": 70,
   "id": "40acf632",
   "metadata": {},
   "outputs": [
    {
     "data": {
      "image/png": "[encoded data removed]",
      "text/plain": [
       "<Figure size 1080x360 with 2 Axes>"
      ]
     },
     "metadata": {
      "needs_background": "light"
     },
     "output_type": "display_data"
    }
   ],
   "source": [
    "fix,axes = plt.subplots(1,2,figsize=(15,5))\n",
    "lend_fmt.loc[:,46].hist(bins=30,ax=axes[0])\n",
    "axes[1] = plt.hist(preds_l,bins=30)"
   ]
  },
  {
   "cell_type": "code",
   "execution_count": 72,
   "id": "ce212221",
   "metadata": {},
   "outputs": [
    {
     "data": {
      "image/png": "[encoded data removed]",
      "text/plain": [
       "<Figure size 432x288 with 1 Axes>"
      ]
     },
     "metadata": {
      "needs_background": "light"
     },
     "output_type": "display_data"
    }
   ],
   "source": [
    "fi = pd.DataFrame(data=X_train.columns,columns=['feature'])\n",
    "fi['importance']  = rfr_l.feature_importances_\n",
    "_ = fi.sort_values('importance',ascending=False)[:10]['importance'].plot(kind='bar')"
   ]
  },
  {
   "cell_type": "code",
   "execution_count": null,
   "id": "6d133ea3",
   "metadata": {},
   "outputs": [],
   "source": []
  }
 ],
 "metadata": {
  "kernelspec": {
   "display_name": "Python 3",
   "language": "python",
   "name": "python3"
  },
  "language_info": {
   "codemirror_mode": {
    "name": "ipython",
    "version": 3
   },
   "file_extension": ".py",
   "mimetype": "text/x-python",
   "name": "python",
   "nbconvert_exporter": "python",
   "pygments_lexer": "ipython3",
   "version": "3.8.8"
  }
 },
 "nbformat": 4,
 "nbformat_minor": 5
}
