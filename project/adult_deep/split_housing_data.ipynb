{
 "cells": [
  {
   "cell_type": "code",
   "execution_count": null,
   "id": "248c737c-b78b-4fa9-9b03-4bd66cbef1e2",
   "metadata": {},
   "outputs": [
    {
     "name": "stdout",
     "output_type": "stream",
     "text": [
      "Collecting package metadata (current_repodata.json): done\n",
      "Solving environment: done\n",
      "\n",
      "\n",
      "==> WARNING: A newer version of conda exists. <==\n",
      "  current version: 4.10.3\n",
      "  latest version: 4.11.0\n",
      "\n",
      "Please update conda by running\n",
      "\n",
      "    $ conda update -n base conda\n",
      "\n",
      "\n",
      "\n",
      "# All requested packages already installed.\n",
      "\n",
      "\n",
      "Note: you may need to restart the kernel to use updated packages.\n"
     ]
    }
   ],
   "source": [
    "%conda install pandas"
   ]
  },
  {
   "cell_type": "code",
   "execution_count": 2,
   "id": "b2b905c1-e70f-4f7e-ab89-a1172f17e18d",
   "metadata": {},
   "outputs": [
    {
     "name": "stdout",
     "output_type": "stream",
     "text": [
      "gzip: project/data/fm2020/X_train.gz: No such file or directory\n",
      "gzip: project/data/fm2020/y_train.gz: No such file or directory\n",
      "gzip: project/data/fm2020/X_test.gz: No such file or directory\n",
      "gzip: project/data/fm2020/y_test.gz: No such file or directory\n"
     ]
    }
   ],
   "source": [
    "!gunzip project/data/fm2020/X_train.gz\n",
    "!gunzip project/data/fm2020/y_train.gz\n",
    "!gunzip project/data/fm2020/X_test.gz\n",
    "!gunzip project/data/fm2020/y_test.gz"
   ]
  },
  {
   "cell_type": "code",
   "execution_count": 3,
   "id": "636d1f24-15b7-4d78-97e6-a214d7f7b305",
   "metadata": {},
   "outputs": [],
   "source": [
    "import numpy as np\n",
    "import pandas as pd\n",
    "import pickle"
   ]
  },
  {
   "cell_type": "code",
   "execution_count": 4,
   "id": "8d4a9aff-b73d-4ede-bbab-9518a789b497",
   "metadata": {},
   "outputs": [],
   "source": [
    "orig_train_rows = pd.read_pickle('project/data/fm2020/X_train')\n",
    "orig_train_labels = pd.read_pickle('project/data/fm2020/y_train')\n",
    "orig_test_rows = pd.read_pickle('project/data/fm2020/X_test')\n",
    "orig_test_labels = pd.read_pickle('project/data/fm2020/y_test')"
   ]
  },
  {
   "cell_type": "code",
   "execution_count": 5,
   "id": "88d891f5-b4c7-4a62-af27-e8ff7060ee2a",
   "metadata": {},
   "outputs": [],
   "source": [
    "rows = pd.concat((orig_train_rows, orig_test_rows))\n",
    "labels = pd.concat((orig_train_labels, orig_test_labels))"
   ]
  },
  {
   "cell_type": "code",
   "execution_count": 6,
   "id": "7279eacb-12b7-4448-b06e-885a6f188419",
   "metadata": {},
   "outputs": [],
   "source": [
    "def split_data(rows, labels, train_proportion=0.7,\n",
    "               cross_val_proportion=0.15, test_proportion=0.15):\n",
    "    assert(train_proportion + cross_val_proportion + test_proportion == 1)\n",
    "    indices = np.arange(len(rows))\n",
    "\n",
    "    train_cutoff = int(len(indices) * train_proportion)\n",
    "    cross_val_cutoff = int(len(indices) * (train_proportion + cross_val_proportion))\n",
    "\n",
    "    train_rows = rows.iloc[indices[:train_cutoff]]\n",
    "    train_labels = labels.iloc[indices[:train_cutoff]]\n",
    "    cross_val_rows = rows.iloc[indices[train_cutoff:cross_val_cutoff]]\n",
    "    cross_val_labels = labels.iloc[indices[train_cutoff:cross_val_cutoff]]\n",
    "    test_rows = rows.iloc[indices[cross_val_cutoff:]]\n",
    "    test_labels = labels.iloc[indices[cross_val_cutoff:]]\n",
    "\n",
    "    return train_rows, train_labels, cross_val_rows, cross_val_labels, test_rows, test_labels\n"
   ]
  },
  {
   "cell_type": "code",
   "execution_count": 7,
   "id": "41230af4-f75e-4c64-ab10-fdd5e6fece6e",
   "metadata": {},
   "outputs": [],
   "source": [
    "train_rows, train_labels, cross_val_rows, cross_val_labels, test_rows, test_labels = split_data(rows, labels)"
   ]
  },
  {
   "cell_type": "code",
   "execution_count": null,
   "id": "7a668a81-4735-4f23-af65-019b386d9041",
   "metadata": {},
   "outputs": [],
   "source": [
    "train_rows.to_pickle('project/data/fm2020/train_rows.pickle.gz')\n",
    "train_labels.to_pickle('project/data/fm2020/train_labels.pickle.gz')\n",
    "cross_val_rows.to_pickle('project/data/fm2020/cross_val_rows.pickle.gz')\n",
    "cross_val_labels.to_pickle('project/data/fm2020/cross_val_labels.pickle.gz')\n",
    "test_rows.to_pickle('project/data/fm2020/test_rows.pickle.gz')\n",
    "test_labels.to_pickle('project/data/fm2020/test_labels.pickle.gz')"
   ]
  }
 ],
 "metadata": {
  "kernelspec": {
   "display_name": "Python 3 (ipykernel)",
   "language": "python",
   "name": "python3"
  },
  "language_info": {
   "codemirror_mode": {
    "name": "ipython",
    "version": 3
   },
   "file_extension": ".py",
   "mimetype": "text/x-python",
   "name": "python",
   "nbconvert_exporter": "python",
   "pygments_lexer": "ipython3",
   "version": "3.9.7"
  }
 },
 "nbformat": 4,
 "nbformat_minor": 5
}
