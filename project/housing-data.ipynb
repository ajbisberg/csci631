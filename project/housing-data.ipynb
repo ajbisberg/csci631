{
 "cells": [
  {
   "cell_type": "code",
   "execution_count": 1,
   "id": "e6a01081",
   "metadata": {},
   "outputs": [],
   "source": [
    "import pandas as pd\n",
    "import numpy as np\n",
    "from scipy.stats import ttest_ind, kruskal, f_oneway\n",
    "import matplotlib.pyplot as plt\n",
    "import statsmodels.api as sm\n",
    "from statsmodels.formula.api import ols"
   ]
  },
  {
   "cell_type": "code",
   "execution_count": 2,
   "id": "24862c69",
   "metadata": {},
   "outputs": [],
   "source": [
    "'''\n",
    "Data location: 'https://www.fhfa.gov/DataTools/Downloads/Pages/Public-Use-Databases.aspx'\n",
    "'''\n",
    "data_path = '../data/2020_SFCensusTractFNM2020/fnma_sf2020c_loans.txt'"
   ]
  },
  {
   "cell_type": "code",
   "execution_count": 3,
   "id": "5bfb0d20",
   "metadata": {},
   "outputs": [],
   "source": [
    "###\n",
    "# Read dataset\n",
    "# Unfortunately there is arbitrary white space so pandas read_csv didnt work well, \n",
    "# maybe could use np.loadtxt\n",
    "# Starting out with 10% sample for quickness\n",
    "###\n",
    "out = []\n",
    "f = open(data_path,'r')\n",
    "for i,line in enumerate(f.readlines()):\n",
    "    if (i % 10) == 0:\n",
    "        out.append(line.split())\n",
    "f.close()\n",
    "out = np.array(out)"
   ]
  },
  {
   "cell_type": "code",
   "execution_count": 4,
   "id": "93172138",
   "metadata": {},
   "outputs": [
    {
     "data": {
      "text/plain": [
       "'There are 4,857,630 people in the dataset'"
      ]
     },
     "execution_count": 4,
     "metadata": {},
     "output_type": "execute_result"
    }
   ],
   "source": [
    "'There are {:,} people in the dataset'.format(len(out)*10)"
   ]
  },
  {
   "cell_type": "code",
   "execution_count": 5,
   "id": "b35faaf3",
   "metadata": {},
   "outputs": [],
   "source": [
    "cols = list(range(1,65))\n",
    "lend = pd.DataFrame(data=out,columns=cols)"
   ]
  },
  {
   "cell_type": "code",
   "execution_count": 6,
   "id": "8baf0b12",
   "metadata": {},
   "outputs": [],
   "source": [
    "# manually gathered float cols\n",
    "float_cols = [7,10,13,36,42,46]\n",
    "int_cols = list(set(cols) - set(float_cols))"
   ]
  },
  {
   "cell_type": "code",
   "execution_count": 7,
   "id": "3552ed34",
   "metadata": {},
   "outputs": [],
   "source": [
    "lend_fmt = lend.loc[:,int_cols].astype(np.int32)"
   ]
  },
  {
   "cell_type": "code",
   "execution_count": 8,
   "id": "1598c7ea",
   "metadata": {},
   "outputs": [],
   "source": [
    "lend_fmt[float_cols] = lend.loc[:,float_cols].astype(np.float32)"
   ]
  },
  {
   "cell_type": "markdown",
   "id": "80790c0c",
   "metadata": {},
   "source": [
    "### Question 1\n",
    "Is race an indicator of interest rate?   \n",
    "Idea: If there is bias in loan assemenet, certain races would have higher/lower interest rates. "
   ]
  },
  {
   "cell_type": "code",
   "execution_count": 12,
   "id": "0fee2e29",
   "metadata": {},
   "outputs": [
    {
     "data": {
      "image/png": "[encoded data removed]",
      "text/plain": [
       "<Figure size 1080x360 with 2 Axes>"
      ]
     },
     "metadata": {
      "needs_background": "light"
     },
     "output_type": "display_data"
    }
   ],
   "source": [
    "fix,axes = plt.subplots(1,2,figsize=(15,5))\n",
    "lend_fmt.loc[:,46].hist(bins=30,ax=axes[0])\n",
    "lend_fmt.loc[:,19].hist(ax=axes[1])\n",
    "axes[0].set_title('Interest Rates Frequency')\n",
    "_ = axes[1].set_title('Race (Categorical) Frequency')"
   ]
  },
  {
   "cell_type": "code",
   "execution_count": 13,
   "id": "4bef52d2",
   "metadata": {},
   "outputs": [
    {
     "data": {
      "text/plain": [
       "19\n",
       "1    3.239842\n",
       "2    3.072494\n",
       "3    3.362200\n",
       "4    3.268831\n",
       "5    3.211729\n",
       "Name: 46, dtype: float32"
      ]
     },
     "execution_count": 13,
     "metadata": {},
     "output_type": "execute_result"
    }
   ],
   "source": [
    "# Mean interest rate by race\n",
    "lend_fmt.loc[lend_fmt[19] < 6,:].groupby(19)[46].mean()"
   ]
  },
  {
   "cell_type": "code",
   "execution_count": 14,
   "id": "ed076ca7",
   "metadata": {},
   "outputs": [],
   "source": [
    "rates = []\n",
    "for group in range(1,6):\n",
    "    group_rate = lend_fmt.loc[lend_fmt[19] == group,46]\n",
    "    # print(len(group_rate))\n",
    "    rates.append(group_rate)"
   ]
  },
  {
   "cell_type": "code",
   "execution_count": 15,
   "id": "f68753d6",
   "metadata": {},
   "outputs": [
    {
     "data": {
      "text/plain": [
       "F_onewayResult(statistic=1000.3854297163618, pvalue=0.0)"
      ]
     },
     "execution_count": 15,
     "metadata": {},
     "output_type": "execute_result"
    }
   ],
   "source": [
    "f_oneway(*rates,axis=0)"
   ]
  },
  {
   "cell_type": "code",
   "execution_count": 16,
   "id": "884cc8a0",
   "metadata": {},
   "outputs": [],
   "source": [
    "rr = lend_fmt.loc[lend_fmt[19] < 6,[19,46]]\n",
    "rr.columns = ['race','rate']"
   ]
  },
  {
   "cell_type": "markdown",
   "id": "e40df35e",
   "metadata": {},
   "source": [
    "Run ANOVA on all races to see if there is a significant difference"
   ]
  },
  {
   "cell_type": "code",
   "execution_count": 17,
   "id": "b19717c3",
   "metadata": {
    "scrolled": true
   },
   "outputs": [
    {
     "data": {
      "text/html": [
       "<div>\n",
       "<style scoped>\n",
       "    .dataframe tbody tr th:only-of-type {\n",
       "        vertical-align: middle;\n",
       "    }\n",
       "\n",
       "    .dataframe tbody tr th {\n",
       "        vertical-align: top;\n",
       "    }\n",
       "\n",
       "    .dataframe thead th {\n",
       "        text-align: right;\n",
       "    }\n",
       "</style>\n",
       "<table border=\"1\" class=\"dataframe\">\n",
       "  <thead>\n",
       "    <tr style=\"text-align: right;\">\n",
       "      <th></th>\n",
       "      <th>sum_sq</th>\n",
       "      <th>df</th>\n",
       "      <th>F</th>\n",
       "      <th>PR(&gt;F)</th>\n",
       "    </tr>\n",
       "  </thead>\n",
       "  <tbody>\n",
       "    <tr>\n",
       "      <th>C(race)</th>\n",
       "      <td>1064.678379</td>\n",
       "      <td>4.0</td>\n",
       "      <td>1000.38543</td>\n",
       "      <td>0.0</td>\n",
       "    </tr>\n",
       "    <tr>\n",
       "      <th>Residual</th>\n",
       "      <td>109529.425602</td>\n",
       "      <td>411661.0</td>\n",
       "      <td>NaN</td>\n",
       "      <td>NaN</td>\n",
       "    </tr>\n",
       "  </tbody>\n",
       "</table>\n",
       "</div>"
      ],
      "text/plain": [
       "                 sum_sq        df           F  PR(>F)\n",
       "C(race)     1064.678379       4.0  1000.38543     0.0\n",
       "Residual  109529.425602  411661.0         NaN     NaN"
      ]
     },
     "execution_count": 17,
     "metadata": {},
     "output_type": "execute_result"
    }
   ],
   "source": [
    "model = ols(\"rate ~ C(race)\", data=rr).fit()\n",
    "aov_table = sm.stats.anova_lm(model, typ=2)\n",
    "aov_table"
   ]
  },
  {
   "cell_type": "markdown",
   "id": "225f50e5",
   "metadata": {},
   "source": [
    "Means are significantly different, but what about effect size? "
   ]
  },
  {
   "cell_type": "code",
   "execution_count": 18,
   "id": "e55a58c8",
   "metadata": {},
   "outputs": [
    {
     "data": {
      "text/html": [
       "<div>\n",
       "<style scoped>\n",
       "    .dataframe tbody tr th:only-of-type {\n",
       "        vertical-align: middle;\n",
       "    }\n",
       "\n",
       "    .dataframe tbody tr th {\n",
       "        vertical-align: top;\n",
       "    }\n",
       "\n",
       "    .dataframe thead th {\n",
       "        text-align: right;\n",
       "    }\n",
       "</style>\n",
       "<table border=\"1\" class=\"dataframe\">\n",
       "  <thead>\n",
       "    <tr style=\"text-align: right;\">\n",
       "      <th></th>\n",
       "      <th>sum_sq</th>\n",
       "      <th>df</th>\n",
       "      <th>mean_sq</th>\n",
       "      <th>F</th>\n",
       "      <th>PR(&gt;F)</th>\n",
       "      <th>eta_sq (effect size)</th>\n",
       "    </tr>\n",
       "  </thead>\n",
       "  <tbody>\n",
       "    <tr>\n",
       "      <th>C(race)</th>\n",
       "      <td>1064.678379</td>\n",
       "      <td>4.0</td>\n",
       "      <td>266.169595</td>\n",
       "      <td>1000.38543</td>\n",
       "      <td>0.0</td>\n",
       "      <td>0.009627</td>\n",
       "    </tr>\n",
       "    <tr>\n",
       "      <th>Residual</th>\n",
       "      <td>109529.425602</td>\n",
       "      <td>411661.0</td>\n",
       "      <td>0.266067</td>\n",
       "      <td>NaN</td>\n",
       "      <td>NaN</td>\n",
       "      <td>NaN</td>\n",
       "    </tr>\n",
       "  </tbody>\n",
       "</table>\n",
       "</div>"
      ],
      "text/plain": [
       "                 sum_sq        df     mean_sq           F  PR(>F)  \\\n",
       "C(race)     1064.678379       4.0  266.169595  1000.38543     0.0   \n",
       "Residual  109529.425602  411661.0    0.266067         NaN     NaN   \n",
       "\n",
       "          eta_sq (effect size)  \n",
       "C(race)               0.009627  \n",
       "Residual                   NaN  "
      ]
     },
     "execution_count": 18,
     "metadata": {},
     "output_type": "execute_result"
    }
   ],
   "source": [
    "def anova_table(aov):\n",
    "    aov['mean_sq'] = aov[:]['sum_sq']/aov[:]['df']\n",
    "    aov['eta_sq (effect size)'] = aov[:-1]['sum_sq']/sum(aov['sum_sq'])\n",
    "    cols = ['sum_sq', 'df', 'mean_sq', 'F', 'PR(>F)', 'eta_sq (effect size)',]\n",
    "    aov = aov[cols]\n",
    "    return aov\n",
    "\n",
    "anova_table(aov_table)"
   ]
  },
  {
   "cell_type": "code",
   "execution_count": 19,
   "id": "cfed42cf",
   "metadata": {},
   "outputs": [
    {
     "data": {
      "text/plain": [
       "'0.96% of the total variance is explained by the treatment effect.\\n This is a very small effect size'"
      ]
     },
     "execution_count": 19,
     "metadata": {},
     "output_type": "execute_result"
    }
   ],
   "source": [
    "'''{}% of the total variance is explained by the treatment effect.\n",
    " This is a very small effect size'''.format(0.0096*100)"
   ]
  },
  {
   "cell_type": "code",
   "execution_count": null,
   "id": "5f405bac",
   "metadata": {},
   "outputs": [],
   "source": []
  }
 ],
 "metadata": {
  "kernelspec": {
   "display_name": "Python 3",
   "language": "python",
   "name": "python3"
  },
  "language_info": {
   "codemirror_mode": {
    "name": "ipython",
    "version": 3
   },
   "file_extension": ".py",
   "mimetype": "text/x-python",
   "name": "python",
   "nbconvert_exporter": "python",
   "pygments_lexer": "ipython3",
   "version": "3.8.8"
  }
 },
 "nbformat": 4,
 "nbformat_minor": 5
}
