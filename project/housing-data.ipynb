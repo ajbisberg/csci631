{
 "cells": [
  {
   "cell_type": "code",
   "execution_count": 84,
   "id": "889c41e4",
   "metadata": {},
   "outputs": [],
   "source": [
    "import pandas as pd\n",
    "import numpy as np\n",
    "from scipy.stats import ttest_ind, kruskal, f_oneway\n",
    "import matplotlib.pyplot as plt\n",
    "import statsmodels.api as sm\n",
    "from statsmodels.formula.api import ols"
   ]
  },
  {
   "cell_type": "code",
   "execution_count": 33,
   "id": "8a6f743b",
   "metadata": {},
   "outputs": [],
   "source": [
    "'''\n",
    "Data location: https://www.fhfa.gov/DataTools/Downloads/Pages/Public-Use-Databases.aspx\n",
    "'''\n",
    "data_path = '../data/2020_SFCensusTractFNM2020/fnma_sf2020c_loans.txt'"
   ]
  },
  {
   "cell_type": "code",
   "execution_count": 34,
   "id": "0a81141b",
   "metadata": {},
   "outputs": [],
   "source": [
    "out = []\n",
    "f = open(data_path,'r')\n",
    "for i,line in enumerate(f.readlines()):\n",
    "    if (i % 10) == 0:\n",
    "        out.append(line.split())\n",
    "f.close()\n",
    "out = np.array(out)"
   ]
  },
  {
   "cell_type": "code",
   "execution_count": 35,
   "id": "ab9c2c54",
   "metadata": {},
   "outputs": [
    {
     "data": {
      "text/plain": [
       "485763"
      ]
     },
     "execution_count": 35,
     "metadata": {},
     "output_type": "execute_result"
    }
   ],
   "source": [
    "len(out)"
   ]
  },
  {
   "cell_type": "code",
   "execution_count": 36,
   "id": "c2284a94",
   "metadata": {},
   "outputs": [],
   "source": [
    "cols = list(range(1,65))\n",
    "lend = pd.DataFrame(data=out,columns=cols)"
   ]
  },
  {
   "cell_type": "code",
   "execution_count": 37,
   "id": "2cce7c0c",
   "metadata": {},
   "outputs": [],
   "source": [
    "float_cols = [7,10,13,36,42,46]\n",
    "int_cols = list(set(cols) - set(float_cols))"
   ]
  },
  {
   "cell_type": "code",
   "execution_count": 38,
   "id": "61136d1b",
   "metadata": {},
   "outputs": [],
   "source": [
    "lend_fmt = lend.loc[:,int_cols].astype(np.int32)"
   ]
  },
  {
   "cell_type": "code",
   "execution_count": 39,
   "id": "d5cf2872",
   "metadata": {},
   "outputs": [],
   "source": [
    "lend_fmt[float_cols] = lend.loc[:,float_cols].astype(np.float32)"
   ]
  },
  {
   "cell_type": "code",
   "execution_count": 40,
   "id": "65d1e28e",
   "metadata": {},
   "outputs": [
    {
     "data": {
      "text/plain": [
       "<AxesSubplot:>"
      ]
     },
     "execution_count": 40,
     "metadata": {},
     "output_type": "execute_result"
    },
    {
     "data": {
      "image/png": "[encoded data removed]",
      "text/plain": [
       "<Figure size 432x288 with 1 Axes>"
      ]
     },
     "metadata": {
      "needs_background": "light"
     },
     "output_type": "display_data"
    }
   ],
   "source": [
    "lend_fmt.loc[:,46].hist(bins=30)"
   ]
  },
  {
   "cell_type": "code",
   "execution_count": 41,
   "id": "d2c37333",
   "metadata": {},
   "outputs": [
    {
     "data": {
      "text/html": [
       "<div>\n",
       "<style scoped>\n",
       "    .dataframe tbody tr th:only-of-type {\n",
       "        vertical-align: middle;\n",
       "    }\n",
       "\n",
       "    .dataframe tbody tr th {\n",
       "        vertical-align: top;\n",
       "    }\n",
       "\n",
       "    .dataframe thead th {\n",
       "        text-align: right;\n",
       "    }\n",
       "</style>\n",
       "<table border=\"1\" class=\"dataframe\">\n",
       "  <thead>\n",
       "    <tr style=\"text-align: right;\">\n",
       "      <th></th>\n",
       "      <th>19</th>\n",
       "      <th>20</th>\n",
       "      <th>21</th>\n",
       "      <th>22</th>\n",
       "      <th>23</th>\n",
       "    </tr>\n",
       "  </thead>\n",
       "  <tbody>\n",
       "    <tr>\n",
       "      <th>0</th>\n",
       "      <td>6</td>\n",
       "      <td>9</td>\n",
       "      <td>9</td>\n",
       "      <td>9</td>\n",
       "      <td>9</td>\n",
       "    </tr>\n",
       "    <tr>\n",
       "      <th>1</th>\n",
       "      <td>5</td>\n",
       "      <td>9</td>\n",
       "      <td>9</td>\n",
       "      <td>9</td>\n",
       "      <td>9</td>\n",
       "    </tr>\n",
       "    <tr>\n",
       "      <th>2</th>\n",
       "      <td>5</td>\n",
       "      <td>9</td>\n",
       "      <td>9</td>\n",
       "      <td>9</td>\n",
       "      <td>9</td>\n",
       "    </tr>\n",
       "    <tr>\n",
       "      <th>3</th>\n",
       "      <td>5</td>\n",
       "      <td>9</td>\n",
       "      <td>9</td>\n",
       "      <td>9</td>\n",
       "      <td>9</td>\n",
       "    </tr>\n",
       "    <tr>\n",
       "      <th>4</th>\n",
       "      <td>5</td>\n",
       "      <td>9</td>\n",
       "      <td>9</td>\n",
       "      <td>9</td>\n",
       "      <td>9</td>\n",
       "    </tr>\n",
       "    <tr>\n",
       "      <th>...</th>\n",
       "      <td>...</td>\n",
       "      <td>...</td>\n",
       "      <td>...</td>\n",
       "      <td>...</td>\n",
       "      <td>...</td>\n",
       "    </tr>\n",
       "    <tr>\n",
       "      <th>485758</th>\n",
       "      <td>5</td>\n",
       "      <td>9</td>\n",
       "      <td>9</td>\n",
       "      <td>9</td>\n",
       "      <td>9</td>\n",
       "    </tr>\n",
       "    <tr>\n",
       "      <th>485759</th>\n",
       "      <td>5</td>\n",
       "      <td>9</td>\n",
       "      <td>9</td>\n",
       "      <td>9</td>\n",
       "      <td>9</td>\n",
       "    </tr>\n",
       "    <tr>\n",
       "      <th>485760</th>\n",
       "      <td>5</td>\n",
       "      <td>9</td>\n",
       "      <td>9</td>\n",
       "      <td>9</td>\n",
       "      <td>9</td>\n",
       "    </tr>\n",
       "    <tr>\n",
       "      <th>485761</th>\n",
       "      <td>5</td>\n",
       "      <td>9</td>\n",
       "      <td>9</td>\n",
       "      <td>9</td>\n",
       "      <td>9</td>\n",
       "    </tr>\n",
       "    <tr>\n",
       "      <th>485762</th>\n",
       "      <td>5</td>\n",
       "      <td>9</td>\n",
       "      <td>9</td>\n",
       "      <td>9</td>\n",
       "      <td>9</td>\n",
       "    </tr>\n",
       "  </tbody>\n",
       "</table>\n",
       "<p>485763 rows × 5 columns</p>\n",
       "</div>"
      ],
      "text/plain": [
       "        19  20  21  22  23\n",
       "0        6   9   9   9   9\n",
       "1        5   9   9   9   9\n",
       "2        5   9   9   9   9\n",
       "3        5   9   9   9   9\n",
       "4        5   9   9   9   9\n",
       "...     ..  ..  ..  ..  ..\n",
       "485758   5   9   9   9   9\n",
       "485759   5   9   9   9   9\n",
       "485760   5   9   9   9   9\n",
       "485761   5   9   9   9   9\n",
       "485762   5   9   9   9   9\n",
       "\n",
       "[485763 rows x 5 columns]"
      ]
     },
     "execution_count": 41,
     "metadata": {},
     "output_type": "execute_result"
    }
   ],
   "source": [
    "lend_fmt.loc[:,[19,20,21,22,23]]"
   ]
  },
  {
   "cell_type": "code",
   "execution_count": 56,
   "id": "82f76944",
   "metadata": {},
   "outputs": [
    {
     "data": {
      "text/plain": [
       "<AxesSubplot:>"
      ]
     },
     "execution_count": 56,
     "metadata": {},
     "output_type": "execute_result"
    },
    {
     "data": {
      "image/png": "[encoded data removed]",
      "text/plain": [
       "<Figure size 1080x360 with 2 Axes>"
      ]
     },
     "metadata": {
      "needs_background": "light"
     },
     "output_type": "display_data"
    }
   ],
   "source": [
    "fix,axes = plt.subplots(1,2,figsize=(15,5))\n",
    "lend_fmt.loc[:,46].hist(bins=30,ax=axes[0])\n",
    "lend_fmt.loc[:,19].hist(ax=axes[1])"
   ]
  },
  {
   "cell_type": "code",
   "execution_count": 80,
   "id": "f5c33d1f",
   "metadata": {},
   "outputs": [
    {
     "data": {
      "text/plain": [
       "19\n",
       "1    3.239842\n",
       "2    3.072494\n",
       "3    3.362200\n",
       "4    3.268831\n",
       "5    3.211729\n",
       "Name: 46, dtype: float32"
      ]
     },
     "execution_count": 80,
     "metadata": {},
     "output_type": "execute_result"
    }
   ],
   "source": [
    "lend_fmt.loc[lend_fmt[19] < 6,:].groupby(19)[46].mean()"
   ]
  },
  {
   "cell_type": "code",
   "execution_count": 81,
   "id": "87aa408d",
   "metadata": {},
   "outputs": [
    {
     "name": "stdout",
     "output_type": "stream",
     "text": [
      "1266\n",
      "37761\n",
      "15375\n",
      "1001\n",
      "356263\n"
     ]
    }
   ],
   "source": [
    "rates = []\n",
    "for group in range(1,6):\n",
    "    group_rate = lend_fmt.loc[lend_fmt[19] == group,46]\n",
    "    print(len(group_rate))\n",
    "    rates.append(group_rate)"
   ]
  },
  {
   "cell_type": "code",
   "execution_count": 82,
   "id": "b5f9144a",
   "metadata": {},
   "outputs": [
    {
     "data": {
      "text/plain": [
       "F_onewayResult(statistic=1000.3854297163618, pvalue=0.0)"
      ]
     },
     "execution_count": 82,
     "metadata": {},
     "output_type": "execute_result"
    }
   ],
   "source": [
    "f_oneway(*rates,axis=0)"
   ]
  },
  {
   "cell_type": "code",
   "execution_count": 106,
   "id": "da4e2823",
   "metadata": {},
   "outputs": [],
   "source": [
    "rr = lend_fmt.loc[lend_fmt[19] < 6,[19,46]]\n",
    "rr.columns = ['race','rate']"
   ]
  },
  {
   "cell_type": "code",
   "execution_count": 108,
   "id": "6167a0ab",
   "metadata": {},
   "outputs": [
    {
     "data": {
      "text/html": [
       "<div>\n",
       "<style scoped>\n",
       "    .dataframe tbody tr th:only-of-type {\n",
       "        vertical-align: middle;\n",
       "    }\n",
       "\n",
       "    .dataframe tbody tr th {\n",
       "        vertical-align: top;\n",
       "    }\n",
       "\n",
       "    .dataframe thead th {\n",
       "        text-align: right;\n",
       "    }\n",
       "</style>\n",
       "<table border=\"1\" class=\"dataframe\">\n",
       "  <thead>\n",
       "    <tr style=\"text-align: right;\">\n",
       "      <th></th>\n",
       "      <th>sum_sq</th>\n",
       "      <th>df</th>\n",
       "      <th>F</th>\n",
       "      <th>PR(&gt;F)</th>\n",
       "    </tr>\n",
       "  </thead>\n",
       "  <tbody>\n",
       "    <tr>\n",
       "      <th>C(race)</th>\n",
       "      <td>1064.678379</td>\n",
       "      <td>4.0</td>\n",
       "      <td>1000.38543</td>\n",
       "      <td>0.0</td>\n",
       "    </tr>\n",
       "    <tr>\n",
       "      <th>Residual</th>\n",
       "      <td>109529.425602</td>\n",
       "      <td>411661.0</td>\n",
       "      <td>NaN</td>\n",
       "      <td>NaN</td>\n",
       "    </tr>\n",
       "  </tbody>\n",
       "</table>\n",
       "</div>"
      ],
      "text/plain": [
       "                 sum_sq        df           F  PR(>F)\n",
       "C(race)     1064.678379       4.0  1000.38543     0.0\n",
       "Residual  109529.425602  411661.0         NaN     NaN"
      ]
     },
     "execution_count": 108,
     "metadata": {},
     "output_type": "execute_result"
    }
   ],
   "source": [
    "model = ols(\"rate ~ C(race)\", data=rr).fit()\n",
    "aov_table = sm.stats.anova_lm(model, typ=2)\n",
    "aov_table"
   ]
  },
  {
   "cell_type": "code",
   "execution_count": 114,
   "id": "cea2c83a",
   "metadata": {},
   "outputs": [
    {
     "data": {
      "text/html": [
       "<div>\n",
       "<style scoped>\n",
       "    .dataframe tbody tr th:only-of-type {\n",
       "        vertical-align: middle;\n",
       "    }\n",
       "\n",
       "    .dataframe tbody tr th {\n",
       "        vertical-align: top;\n",
       "    }\n",
       "\n",
       "    .dataframe thead th {\n",
       "        text-align: right;\n",
       "    }\n",
       "</style>\n",
       "<table border=\"1\" class=\"dataframe\">\n",
       "  <thead>\n",
       "    <tr style=\"text-align: right;\">\n",
       "      <th></th>\n",
       "      <th>sum_sq</th>\n",
       "      <th>df</th>\n",
       "      <th>mean_sq</th>\n",
       "      <th>F</th>\n",
       "      <th>PR(&gt;F)</th>\n",
       "      <th>eta_sq (effect size)</th>\n",
       "    </tr>\n",
       "  </thead>\n",
       "  <tbody>\n",
       "    <tr>\n",
       "      <th>C(race)</th>\n",
       "      <td>1064.678379</td>\n",
       "      <td>4.0</td>\n",
       "      <td>266.169595</td>\n",
       "      <td>1000.38543</td>\n",
       "      <td>0.0</td>\n",
       "      <td>0.009627</td>\n",
       "    </tr>\n",
       "    <tr>\n",
       "      <th>Residual</th>\n",
       "      <td>109529.425602</td>\n",
       "      <td>411661.0</td>\n",
       "      <td>0.266067</td>\n",
       "      <td>NaN</td>\n",
       "      <td>NaN</td>\n",
       "      <td>NaN</td>\n",
       "    </tr>\n",
       "  </tbody>\n",
       "</table>\n",
       "</div>"
      ],
      "text/plain": [
       "                 sum_sq        df     mean_sq           F  PR(>F)  \\\n",
       "C(race)     1064.678379       4.0  266.169595  1000.38543     0.0   \n",
       "Residual  109529.425602  411661.0    0.266067         NaN     NaN   \n",
       "\n",
       "          eta_sq (effect size)  \n",
       "C(race)               0.009627  \n",
       "Residual                   NaN  "
      ]
     },
     "execution_count": 114,
     "metadata": {},
     "output_type": "execute_result"
    }
   ],
   "source": [
    "def anova_table(aov):\n",
    "    aov['mean_sq'] = aov[:]['sum_sq']/aov[:]['df']\n",
    "    aov['eta_sq (effect size)'] = aov[:-1]['sum_sq']/sum(aov['sum_sq'])\n",
    "    cols = ['sum_sq', 'df', 'mean_sq', 'F', 'PR(>F)', 'eta_sq (effect size)',]\n",
    "    aov = aov[cols]\n",
    "    return aov\n",
    "\n",
    "anova_table(aov_table)"
   ]
  },
  {
   "cell_type": "code",
   "execution_count": 124,
   "id": "5dd079bf",
   "metadata": {},
   "outputs": [
    {
     "data": {
      "text/plain": [
       "'0.96% of the total variance is explained by the treatment effect.\\n This is a very small effect size'"
      ]
     },
     "execution_count": 124,
     "metadata": {},
     "output_type": "execute_result"
    }
   ],
   "source": [
    "'''{}% of the total variance is explained by the treatment effect.\n",
    " This is a very small effect size'''.format(0.0096*100)"
   ]
  },
  {
   "cell_type": "code",
   "execution_count": null,
   "id": "a2e9b131",
   "metadata": {},
   "outputs": [],
   "source": []
  }
 ],
 "metadata": {
  "kernelspec": {
   "display_name": "Python 3",
   "language": "python",
   "name": "python3"
  },
  "language_info": {
   "codemirror_mode": {
    "name": "ipython",
    "version": 3
   },
   "file_extension": ".py",
   "mimetype": "text/x-python",
   "name": "python",
   "nbconvert_exporter": "python",
   "pygments_lexer": "ipython3",
   "version": "3.8.8"
  }
 },
 "nbformat": 4,
 "nbformat_minor": 5
}
